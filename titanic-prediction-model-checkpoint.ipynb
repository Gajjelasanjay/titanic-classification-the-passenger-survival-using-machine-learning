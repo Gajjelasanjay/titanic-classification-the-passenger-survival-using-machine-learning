{
 "cells": [
  {
   "cell_type": "code",
   "execution_count": 7,
   "id": "debc3683",
   "metadata": {
    "_cell_guid": "b1076dfc-b9ad-4769-8c92-a6c4dae69d19",
    "_uuid": "8f2839f25d086af736a60e9eeb907d3b93b6e0e5",
    "execution": {
     "iopub.execute_input": "2023-12-05T11:34:48.796888Z",
     "iopub.status.busy": "2023-12-05T11:34:48.796363Z",
     "iopub.status.idle": "2023-12-05T11:34:49.293735Z",
     "shell.execute_reply": "2023-12-05T11:34:49.292379Z"
    },
    "papermill": {
     "duration": 0.541932,
     "end_time": "2023-12-05T11:34:49.296796",
     "exception": false,
     "start_time": "2023-12-05T11:34:48.754864",
     "status": "completed"
    },
    "tags": []
   },
   "outputs": [],
   "source": [
    "import numpy as np # linear algebra\n",
    "import pandas as pd # data processing, CSV file I/O (e.g. pd.read_csv)"
   ]
  },
  {
   "cell_type": "markdown",
   "id": "4fb6e46a",
   "metadata": {
    "papermill": {
     "duration": 0.038547,
     "end_time": "2023-12-05T11:34:49.376714",
     "exception": false,
     "start_time": "2023-12-05T11:34:49.338167",
     "status": "completed"
    },
    "tags": []
   },
   "source": [
    "# Import Dataset and Basic Checks"
   ]
  },
  {
   "cell_type": "code",
   "execution_count": 8,
   "id": "84c151e4",
   "metadata": {
    "execution": {
     "iopub.execute_input": "2023-12-05T11:34:49.456852Z",
     "iopub.status.busy": "2023-12-05T11:34:49.456166Z",
     "iopub.status.idle": "2023-12-05T11:34:49.512881Z",
     "shell.execute_reply": "2023-12-05T11:34:49.511637Z"
    },
    "papermill": {
     "duration": 0.100798,
     "end_time": "2023-12-05T11:34:49.515886",
     "exception": false,
     "start_time": "2023-12-05T11:34:49.415088",
     "status": "completed"
    },
    "tags": []
   },
   "outputs": [
    {
     "data": {
      "text/html": [
       "<div>\n",
       "<style scoped>\n",
       "    .dataframe tbody tr th:only-of-type {\n",
       "        vertical-align: middle;\n",
       "    }\n",
       "\n",
       "    .dataframe tbody tr th {\n",
       "        vertical-align: top;\n",
       "    }\n",
       "\n",
       "    .dataframe thead th {\n",
       "        text-align: right;\n",
       "    }\n",
       "</style>\n",
       "<table border=\"1\" class=\"dataframe\">\n",
       "  <thead>\n",
       "    <tr style=\"text-align: right;\">\n",
       "      <th></th>\n",
       "      <th>PassengerId</th>\n",
       "      <th>Survived</th>\n",
       "      <th>Pclass</th>\n",
       "      <th>Name</th>\n",
       "      <th>Sex</th>\n",
       "      <th>Age</th>\n",
       "      <th>SibSp</th>\n",
       "      <th>Parch</th>\n",
       "      <th>Ticket</th>\n",
       "      <th>Fare</th>\n",
       "      <th>Cabin</th>\n",
       "      <th>Embarked</th>\n",
       "    </tr>\n",
       "  </thead>\n",
       "  <tbody>\n",
       "    <tr>\n",
       "      <th>0</th>\n",
       "      <td>1</td>\n",
       "      <td>0</td>\n",
       "      <td>3</td>\n",
       "      <td>Braund, Mr. Owen Harris</td>\n",
       "      <td>male</td>\n",
       "      <td>22.0</td>\n",
       "      <td>1</td>\n",
       "      <td>0</td>\n",
       "      <td>A/5 21171</td>\n",
       "      <td>7.2500</td>\n",
       "      <td>NaN</td>\n",
       "      <td>S</td>\n",
       "    </tr>\n",
       "    <tr>\n",
       "      <th>1</th>\n",
       "      <td>2</td>\n",
       "      <td>1</td>\n",
       "      <td>1</td>\n",
       "      <td>Cumings, Mrs. John Bradley (Florence Briggs Th...</td>\n",
       "      <td>female</td>\n",
       "      <td>38.0</td>\n",
       "      <td>1</td>\n",
       "      <td>0</td>\n",
       "      <td>PC 17599</td>\n",
       "      <td>71.2833</td>\n",
       "      <td>C85</td>\n",
       "      <td>C</td>\n",
       "    </tr>\n",
       "    <tr>\n",
       "      <th>2</th>\n",
       "      <td>3</td>\n",
       "      <td>1</td>\n",
       "      <td>3</td>\n",
       "      <td>Heikkinen, Miss. Laina</td>\n",
       "      <td>female</td>\n",
       "      <td>26.0</td>\n",
       "      <td>0</td>\n",
       "      <td>0</td>\n",
       "      <td>STON/O2. 3101282</td>\n",
       "      <td>7.9250</td>\n",
       "      <td>NaN</td>\n",
       "      <td>S</td>\n",
       "    </tr>\n",
       "    <tr>\n",
       "      <th>3</th>\n",
       "      <td>4</td>\n",
       "      <td>1</td>\n",
       "      <td>1</td>\n",
       "      <td>Futrelle, Mrs. Jacques Heath (Lily May Peel)</td>\n",
       "      <td>female</td>\n",
       "      <td>35.0</td>\n",
       "      <td>1</td>\n",
       "      <td>0</td>\n",
       "      <td>113803</td>\n",
       "      <td>53.1000</td>\n",
       "      <td>C123</td>\n",
       "      <td>S</td>\n",
       "    </tr>\n",
       "    <tr>\n",
       "      <th>4</th>\n",
       "      <td>5</td>\n",
       "      <td>0</td>\n",
       "      <td>3</td>\n",
       "      <td>Allen, Mr. William Henry</td>\n",
       "      <td>male</td>\n",
       "      <td>35.0</td>\n",
       "      <td>0</td>\n",
       "      <td>0</td>\n",
       "      <td>373450</td>\n",
       "      <td>8.0500</td>\n",
       "      <td>NaN</td>\n",
       "      <td>S</td>\n",
       "    </tr>\n",
       "  </tbody>\n",
       "</table>\n",
       "</div>"
      ],
      "text/plain": [
       "   PassengerId  Survived  Pclass  \\\n",
       "0            1         0       3   \n",
       "1            2         1       1   \n",
       "2            3         1       3   \n",
       "3            4         1       1   \n",
       "4            5         0       3   \n",
       "\n",
       "                                                Name     Sex   Age  SibSp  \\\n",
       "0                            Braund, Mr. Owen Harris    male  22.0      1   \n",
       "1  Cumings, Mrs. John Bradley (Florence Briggs Th...  female  38.0      1   \n",
       "2                             Heikkinen, Miss. Laina  female  26.0      0   \n",
       "3       Futrelle, Mrs. Jacques Heath (Lily May Peel)  female  35.0      1   \n",
       "4                           Allen, Mr. William Henry    male  35.0      0   \n",
       "\n",
       "   Parch            Ticket     Fare Cabin Embarked  \n",
       "0      0         A/5 21171   7.2500   NaN        S  \n",
       "1      0          PC 17599  71.2833   C85        C  \n",
       "2      0  STON/O2. 3101282   7.9250   NaN        S  \n",
       "3      0            113803  53.1000  C123        S  \n",
       "4      0            373450   8.0500   NaN        S  "
      ]
     },
     "execution_count": 8,
     "metadata": {},
     "output_type": "execute_result"
    }
   ],
   "source": [
    "train = pd.read_csv(\"C:/Users/Sanjay/Downloads/train.csv\")\n",
    "train.head()"
   ]
  },
  {
   "cell_type": "code",
   "execution_count": 9,
   "id": "88ece6c5",
   "metadata": {
    "execution": {
     "iopub.execute_input": "2023-12-05T11:34:49.691288Z",
     "iopub.status.busy": "2023-12-05T11:34:49.690416Z",
     "iopub.status.idle": "2023-12-05T11:34:49.697950Z",
     "shell.execute_reply": "2023-12-05T11:34:49.696849Z"
    },
    "papermill": {
     "duration": 0.144492,
     "end_time": "2023-12-05T11:34:49.700477",
     "exception": false,
     "start_time": "2023-12-05T11:34:49.555985",
     "status": "completed"
    },
    "tags": []
   },
   "outputs": [
    {
     "data": {
      "text/plain": [
       "(891, 12)"
      ]
     },
     "execution_count": 9,
     "metadata": {},
     "output_type": "execute_result"
    }
   ],
   "source": [
    "train.shape"
   ]
  },
  {
   "cell_type": "code",
   "execution_count": 10,
   "id": "e40880d2",
   "metadata": {
    "execution": {
     "iopub.execute_input": "2023-12-05T11:34:49.782880Z",
     "iopub.status.busy": "2023-12-05T11:34:49.782380Z",
     "iopub.status.idle": "2023-12-05T11:34:49.796841Z",
     "shell.execute_reply": "2023-12-05T11:34:49.795421Z"
    },
    "papermill": {
     "duration": 0.06004,
     "end_time": "2023-12-05T11:34:49.799957",
     "exception": false,
     "start_time": "2023-12-05T11:34:49.739917",
     "status": "completed"
    },
    "tags": []
   },
   "outputs": [],
   "source": [
    "test = pd.read_csv(\"C:Users/Sanjay/Downloads/test.csv\")"
   ]
  },
  {
   "cell_type": "code",
   "execution_count": 11,
   "id": "1f6e9ed8",
   "metadata": {
    "execution": {
     "iopub.execute_input": "2023-12-05T11:34:49.884342Z",
     "iopub.status.busy": "2023-12-05T11:34:49.883424Z",
     "iopub.status.idle": "2023-12-05T11:34:49.901926Z",
     "shell.execute_reply": "2023-12-05T11:34:49.900718Z"
    },
    "papermill": {
     "duration": 0.064766,
     "end_time": "2023-12-05T11:34:49.905389",
     "exception": false,
     "start_time": "2023-12-05T11:34:49.840623",
     "status": "completed"
    },
    "tags": []
   },
   "outputs": [
    {
     "data": {
      "text/html": [
       "<div>\n",
       "<style scoped>\n",
       "    .dataframe tbody tr th:only-of-type {\n",
       "        vertical-align: middle;\n",
       "    }\n",
       "\n",
       "    .dataframe tbody tr th {\n",
       "        vertical-align: top;\n",
       "    }\n",
       "\n",
       "    .dataframe thead th {\n",
       "        text-align: right;\n",
       "    }\n",
       "</style>\n",
       "<table border=\"1\" class=\"dataframe\">\n",
       "  <thead>\n",
       "    <tr style=\"text-align: right;\">\n",
       "      <th></th>\n",
       "      <th>PassengerId</th>\n",
       "      <th>Pclass</th>\n",
       "      <th>Name</th>\n",
       "      <th>Sex</th>\n",
       "      <th>Age</th>\n",
       "      <th>SibSp</th>\n",
       "      <th>Parch</th>\n",
       "      <th>Ticket</th>\n",
       "      <th>Fare</th>\n",
       "      <th>Cabin</th>\n",
       "      <th>Embarked</th>\n",
       "    </tr>\n",
       "  </thead>\n",
       "  <tbody>\n",
       "    <tr>\n",
       "      <th>0</th>\n",
       "      <td>892</td>\n",
       "      <td>3</td>\n",
       "      <td>Kelly, Mr. James</td>\n",
       "      <td>male</td>\n",
       "      <td>34.5</td>\n",
       "      <td>0</td>\n",
       "      <td>0</td>\n",
       "      <td>330911</td>\n",
       "      <td>7.8292</td>\n",
       "      <td>NaN</td>\n",
       "      <td>Q</td>\n",
       "    </tr>\n",
       "    <tr>\n",
       "      <th>1</th>\n",
       "      <td>893</td>\n",
       "      <td>3</td>\n",
       "      <td>Wilkes, Mrs. James (Ellen Needs)</td>\n",
       "      <td>female</td>\n",
       "      <td>47.0</td>\n",
       "      <td>1</td>\n",
       "      <td>0</td>\n",
       "      <td>363272</td>\n",
       "      <td>7.0000</td>\n",
       "      <td>NaN</td>\n",
       "      <td>S</td>\n",
       "    </tr>\n",
       "    <tr>\n",
       "      <th>2</th>\n",
       "      <td>894</td>\n",
       "      <td>2</td>\n",
       "      <td>Myles, Mr. Thomas Francis</td>\n",
       "      <td>male</td>\n",
       "      <td>62.0</td>\n",
       "      <td>0</td>\n",
       "      <td>0</td>\n",
       "      <td>240276</td>\n",
       "      <td>9.6875</td>\n",
       "      <td>NaN</td>\n",
       "      <td>Q</td>\n",
       "    </tr>\n",
       "    <tr>\n",
       "      <th>3</th>\n",
       "      <td>895</td>\n",
       "      <td>3</td>\n",
       "      <td>Wirz, Mr. Albert</td>\n",
       "      <td>male</td>\n",
       "      <td>27.0</td>\n",
       "      <td>0</td>\n",
       "      <td>0</td>\n",
       "      <td>315154</td>\n",
       "      <td>8.6625</td>\n",
       "      <td>NaN</td>\n",
       "      <td>S</td>\n",
       "    </tr>\n",
       "    <tr>\n",
       "      <th>4</th>\n",
       "      <td>896</td>\n",
       "      <td>3</td>\n",
       "      <td>Hirvonen, Mrs. Alexander (Helga E Lindqvist)</td>\n",
       "      <td>female</td>\n",
       "      <td>22.0</td>\n",
       "      <td>1</td>\n",
       "      <td>1</td>\n",
       "      <td>3101298</td>\n",
       "      <td>12.2875</td>\n",
       "      <td>NaN</td>\n",
       "      <td>S</td>\n",
       "    </tr>\n",
       "  </tbody>\n",
       "</table>\n",
       "</div>"
      ],
      "text/plain": [
       "   PassengerId  Pclass                                          Name     Sex  \\\n",
       "0          892       3                              Kelly, Mr. James    male   \n",
       "1          893       3              Wilkes, Mrs. James (Ellen Needs)  female   \n",
       "2          894       2                     Myles, Mr. Thomas Francis    male   \n",
       "3          895       3                              Wirz, Mr. Albert    male   \n",
       "4          896       3  Hirvonen, Mrs. Alexander (Helga E Lindqvist)  female   \n",
       "\n",
       "    Age  SibSp  Parch   Ticket     Fare Cabin Embarked  \n",
       "0  34.5      0      0   330911   7.8292   NaN        Q  \n",
       "1  47.0      1      0   363272   7.0000   NaN        S  \n",
       "2  62.0      0      0   240276   9.6875   NaN        Q  \n",
       "3  27.0      0      0   315154   8.6625   NaN        S  \n",
       "4  22.0      1      1  3101298  12.2875   NaN        S  "
      ]
     },
     "execution_count": 11,
     "metadata": {},
     "output_type": "execute_result"
    }
   ],
   "source": [
    "test.head()"
   ]
  },
  {
   "cell_type": "code",
   "execution_count": 12,
   "id": "a7a1d1b0",
   "metadata": {
    "execution": {
     "iopub.execute_input": "2023-12-05T11:34:49.988205Z",
     "iopub.status.busy": "2023-12-05T11:34:49.987744Z",
     "iopub.status.idle": "2023-12-05T11:34:49.995296Z",
     "shell.execute_reply": "2023-12-05T11:34:49.994064Z"
    },
    "papermill": {
     "duration": 0.052041,
     "end_time": "2023-12-05T11:34:49.997892",
     "exception": false,
     "start_time": "2023-12-05T11:34:49.945851",
     "status": "completed"
    },
    "tags": []
   },
   "outputs": [
    {
     "data": {
      "text/plain": [
       "(418, 11)"
      ]
     },
     "execution_count": 12,
     "metadata": {},
     "output_type": "execute_result"
    }
   ],
   "source": [
    "test.shape"
   ]
  },
  {
   "cell_type": "code",
   "execution_count": 13,
   "id": "1912d8be",
   "metadata": {
    "execution": {
     "iopub.execute_input": "2023-12-05T11:34:50.083150Z",
     "iopub.status.busy": "2023-12-05T11:34:50.082593Z",
     "iopub.status.idle": "2023-12-05T11:34:50.103701Z",
     "shell.execute_reply": "2023-12-05T11:34:50.102651Z"
    },
    "papermill": {
     "duration": 0.066715,
     "end_time": "2023-12-05T11:34:50.106142",
     "exception": false,
     "start_time": "2023-12-05T11:34:50.039427",
     "status": "completed"
    },
    "tags": []
   },
   "outputs": [
    {
     "data": {
      "text/html": [
       "<div>\n",
       "<style scoped>\n",
       "    .dataframe tbody tr th:only-of-type {\n",
       "        vertical-align: middle;\n",
       "    }\n",
       "\n",
       "    .dataframe tbody tr th {\n",
       "        vertical-align: top;\n",
       "    }\n",
       "\n",
       "    .dataframe thead th {\n",
       "        text-align: right;\n",
       "    }\n",
       "</style>\n",
       "<table border=\"1\" class=\"dataframe\">\n",
       "  <thead>\n",
       "    <tr style=\"text-align: right;\">\n",
       "      <th></th>\n",
       "      <th>PassengerId</th>\n",
       "      <th>Survived</th>\n",
       "      <th>Pclass</th>\n",
       "      <th>Name</th>\n",
       "      <th>Sex</th>\n",
       "      <th>Age</th>\n",
       "      <th>SibSp</th>\n",
       "      <th>Parch</th>\n",
       "      <th>Ticket</th>\n",
       "      <th>Fare</th>\n",
       "      <th>Cabin</th>\n",
       "      <th>Embarked</th>\n",
       "    </tr>\n",
       "  </thead>\n",
       "  <tbody>\n",
       "    <tr>\n",
       "      <th>0</th>\n",
       "      <td>1</td>\n",
       "      <td>0</td>\n",
       "      <td>3</td>\n",
       "      <td>Braund, Mr. Owen Harris</td>\n",
       "      <td>male</td>\n",
       "      <td>22.0</td>\n",
       "      <td>1</td>\n",
       "      <td>0</td>\n",
       "      <td>A/5 21171</td>\n",
       "      <td>7.2500</td>\n",
       "      <td>NaN</td>\n",
       "      <td>S</td>\n",
       "    </tr>\n",
       "    <tr>\n",
       "      <th>1</th>\n",
       "      <td>2</td>\n",
       "      <td>1</td>\n",
       "      <td>1</td>\n",
       "      <td>Cumings, Mrs. John Bradley (Florence Briggs Th...</td>\n",
       "      <td>female</td>\n",
       "      <td>38.0</td>\n",
       "      <td>1</td>\n",
       "      <td>0</td>\n",
       "      <td>PC 17599</td>\n",
       "      <td>71.2833</td>\n",
       "      <td>C85</td>\n",
       "      <td>C</td>\n",
       "    </tr>\n",
       "    <tr>\n",
       "      <th>2</th>\n",
       "      <td>3</td>\n",
       "      <td>1</td>\n",
       "      <td>3</td>\n",
       "      <td>Heikkinen, Miss. Laina</td>\n",
       "      <td>female</td>\n",
       "      <td>26.0</td>\n",
       "      <td>0</td>\n",
       "      <td>0</td>\n",
       "      <td>STON/O2. 3101282</td>\n",
       "      <td>7.9250</td>\n",
       "      <td>NaN</td>\n",
       "      <td>S</td>\n",
       "    </tr>\n",
       "    <tr>\n",
       "      <th>3</th>\n",
       "      <td>4</td>\n",
       "      <td>1</td>\n",
       "      <td>1</td>\n",
       "      <td>Futrelle, Mrs. Jacques Heath (Lily May Peel)</td>\n",
       "      <td>female</td>\n",
       "      <td>35.0</td>\n",
       "      <td>1</td>\n",
       "      <td>0</td>\n",
       "      <td>113803</td>\n",
       "      <td>53.1000</td>\n",
       "      <td>C123</td>\n",
       "      <td>S</td>\n",
       "    </tr>\n",
       "    <tr>\n",
       "      <th>4</th>\n",
       "      <td>5</td>\n",
       "      <td>0</td>\n",
       "      <td>3</td>\n",
       "      <td>Allen, Mr. William Henry</td>\n",
       "      <td>male</td>\n",
       "      <td>35.0</td>\n",
       "      <td>0</td>\n",
       "      <td>0</td>\n",
       "      <td>373450</td>\n",
       "      <td>8.0500</td>\n",
       "      <td>NaN</td>\n",
       "      <td>S</td>\n",
       "    </tr>\n",
       "  </tbody>\n",
       "</table>\n",
       "</div>"
      ],
      "text/plain": [
       "   PassengerId  Survived  Pclass  \\\n",
       "0            1         0       3   \n",
       "1            2         1       1   \n",
       "2            3         1       3   \n",
       "3            4         1       1   \n",
       "4            5         0       3   \n",
       "\n",
       "                                                Name     Sex   Age  SibSp  \\\n",
       "0                            Braund, Mr. Owen Harris    male  22.0      1   \n",
       "1  Cumings, Mrs. John Bradley (Florence Briggs Th...  female  38.0      1   \n",
       "2                             Heikkinen, Miss. Laina  female  26.0      0   \n",
       "3       Futrelle, Mrs. Jacques Heath (Lily May Peel)  female  35.0      1   \n",
       "4                           Allen, Mr. William Henry    male  35.0      0   \n",
       "\n",
       "   Parch            Ticket     Fare Cabin Embarked  \n",
       "0      0         A/5 21171   7.2500   NaN        S  \n",
       "1      0          PC 17599  71.2833   C85        C  \n",
       "2      0  STON/O2. 3101282   7.9250   NaN        S  \n",
       "3      0            113803  53.1000  C123        S  \n",
       "4      0            373450   8.0500   NaN        S  "
      ]
     },
     "execution_count": 13,
     "metadata": {},
     "output_type": "execute_result"
    }
   ],
   "source": [
    "train.head()"
   ]
  },
  {
   "cell_type": "code",
   "execution_count": 8,
   "id": "a8369c0b",
   "metadata": {
    "execution": {
     "iopub.execute_input": "2023-12-05T11:34:50.190255Z",
     "iopub.status.busy": "2023-12-05T11:34:50.189554Z",
     "iopub.status.idle": "2023-12-05T11:34:50.196616Z",
     "shell.execute_reply": "2023-12-05T11:34:50.195632Z"
    },
    "papermill": {
     "duration": 0.052114,
     "end_time": "2023-12-05T11:34:50.199026",
     "exception": false,
     "start_time": "2023-12-05T11:34:50.146912",
     "status": "completed"
    },
    "tags": []
   },
   "outputs": [
    {
     "data": {
      "text/plain": [
       "Index(['PassengerId', 'Survived', 'Pclass', 'Name', 'Sex', 'Age', 'SibSp',\n",
       "       'Parch', 'Ticket', 'Fare', 'Cabin', 'Embarked'],\n",
       "      dtype='object')"
      ]
     },
     "execution_count": 8,
     "metadata": {},
     "output_type": "execute_result"
    }
   ],
   "source": [
    "train.columns"
   ]
  },
  {
   "cell_type": "code",
   "execution_count": 9,
   "id": "4c3b7ac6",
   "metadata": {
    "execution": {
     "iopub.execute_input": "2023-12-05T11:34:50.285153Z",
     "iopub.status.busy": "2023-12-05T11:34:50.284711Z",
     "iopub.status.idle": "2023-12-05T11:34:50.315028Z",
     "shell.execute_reply": "2023-12-05T11:34:50.313080Z"
    },
    "papermill": {
     "duration": 0.07619,
     "end_time": "2023-12-05T11:34:50.317677",
     "exception": false,
     "start_time": "2023-12-05T11:34:50.241487",
     "status": "completed"
    },
    "tags": []
   },
   "outputs": [
    {
     "name": "stdout",
     "output_type": "stream",
     "text": [
      "<class 'pandas.core.frame.DataFrame'>\n",
      "RangeIndex: 891 entries, 0 to 890\n",
      "Data columns (total 12 columns):\n",
      " #   Column       Non-Null Count  Dtype  \n",
      "---  ------       --------------  -----  \n",
      " 0   PassengerId  891 non-null    int64  \n",
      " 1   Survived     891 non-null    int64  \n",
      " 2   Pclass       891 non-null    int64  \n",
      " 3   Name         891 non-null    object \n",
      " 4   Sex          891 non-null    object \n",
      " 5   Age          714 non-null    float64\n",
      " 6   SibSp        891 non-null    int64  \n",
      " 7   Parch        891 non-null    int64  \n",
      " 8   Ticket       891 non-null    object \n",
      " 9   Fare         891 non-null    float64\n",
      " 10  Cabin        204 non-null    object \n",
      " 11  Embarked     889 non-null    object \n",
      "dtypes: float64(2), int64(5), object(5)\n",
      "memory usage: 83.7+ KB\n"
     ]
    }
   ],
   "source": [
    "train.info()"
   ]
  },
  {
   "cell_type": "code",
   "execution_count": 14,
   "id": "a3269154",
   "metadata": {
    "execution": {
     "iopub.execute_input": "2023-12-05T11:34:50.407425Z",
     "iopub.status.busy": "2023-12-05T11:34:50.406158Z",
     "iopub.status.idle": "2023-12-05T11:34:50.417113Z",
     "shell.execute_reply": "2023-12-05T11:34:50.416100Z"
    },
    "papermill": {
     "duration": 0.056447,
     "end_time": "2023-12-05T11:34:50.419581",
     "exception": false,
     "start_time": "2023-12-05T11:34:50.363134",
     "status": "completed"
    },
    "tags": []
   },
   "outputs": [
    {
     "data": {
      "text/plain": [
       "PassengerId      0\n",
       "Survived         0\n",
       "Pclass           0\n",
       "Name             0\n",
       "Sex              0\n",
       "Age            177\n",
       "SibSp            0\n",
       "Parch            0\n",
       "Ticket           0\n",
       "Fare             0\n",
       "Cabin          687\n",
       "Embarked         2\n",
       "dtype: int64"
      ]
     },
     "execution_count": 14,
     "metadata": {},
     "output_type": "execute_result"
    }
   ],
   "source": [
    "train.isnull().sum()"
   ]
  },
  {
   "cell_type": "code",
   "execution_count": 11,
   "id": "0bb1083b",
   "metadata": {
    "execution": {
     "iopub.execute_input": "2023-12-05T11:34:50.504930Z",
     "iopub.status.busy": "2023-12-05T11:34:50.503451Z",
     "iopub.status.idle": "2023-12-05T11:34:50.515903Z",
     "shell.execute_reply": "2023-12-05T11:34:50.514658Z"
    },
    "papermill": {
     "duration": 0.057538,
     "end_time": "2023-12-05T11:34:50.518587",
     "exception": false,
     "start_time": "2023-12-05T11:34:50.461049",
     "status": "completed"
    },
    "tags": []
   },
   "outputs": [
    {
     "data": {
      "text/plain": [
       "Age\n",
       "24.00    30\n",
       "22.00    27\n",
       "18.00    26\n",
       "19.00    25\n",
       "28.00    25\n",
       "         ..\n",
       "36.50     1\n",
       "55.50     1\n",
       "0.92      1\n",
       "23.50     1\n",
       "74.00     1\n",
       "Name: count, Length: 88, dtype: int64"
      ]
     },
     "execution_count": 11,
     "metadata": {},
     "output_type": "execute_result"
    }
   ],
   "source": [
    "train['Age'].value_counts()"
   ]
  },
  {
   "cell_type": "code",
   "execution_count": 12,
   "id": "5ddb93c5",
   "metadata": {
    "execution": {
     "iopub.execute_input": "2023-12-05T11:34:50.611088Z",
     "iopub.status.busy": "2023-12-05T11:34:50.609845Z",
     "iopub.status.idle": "2023-12-05T11:34:50.621162Z",
     "shell.execute_reply": "2023-12-05T11:34:50.619956Z"
    },
    "papermill": {
     "duration": 0.064616,
     "end_time": "2023-12-05T11:34:50.623844",
     "exception": false,
     "start_time": "2023-12-05T11:34:50.559228",
     "status": "completed"
    },
    "tags": []
   },
   "outputs": [
    {
     "data": {
      "text/plain": [
       "<bound method NDFrame._add_numeric_operations.<locals>.mean of 0      22.0\n",
       "1      38.0\n",
       "2      26.0\n",
       "3      35.0\n",
       "4      35.0\n",
       "       ... \n",
       "886    27.0\n",
       "887    19.0\n",
       "888     NaN\n",
       "889    26.0\n",
       "890    32.0\n",
       "Name: Age, Length: 891, dtype: float64>"
      ]
     },
     "execution_count": 12,
     "metadata": {},
     "output_type": "execute_result"
    }
   ],
   "source": [
    "train['Age'].mean"
   ]
  },
  {
   "cell_type": "markdown",
   "id": "e71e0a43",
   "metadata": {
    "papermill": {
     "duration": 0.040718,
     "end_time": "2023-12-05T11:34:50.706169",
     "exception": false,
     "start_time": "2023-12-05T11:34:50.665451",
     "status": "completed"
    },
    "tags": []
   },
   "source": [
    "# Data Preprocessing"
   ]
  },
  {
   "cell_type": "code",
   "execution_count": 16,
   "id": "4da789bf",
   "metadata": {
    "execution": {
     "iopub.execute_input": "2023-12-05T11:34:50.790515Z",
     "iopub.status.busy": "2023-12-05T11:34:50.789703Z",
     "iopub.status.idle": "2023-12-05T11:34:50.807727Z",
     "shell.execute_reply": "2023-12-05T11:34:50.806516Z"
    },
    "papermill": {
     "duration": 0.06352,
     "end_time": "2023-12-05T11:34:50.810370",
     "exception": false,
     "start_time": "2023-12-05T11:34:50.746850",
     "status": "completed"
    },
    "tags": []
   },
   "outputs": [
    {
     "data": {
      "text/html": [
       "<div>\n",
       "<style scoped>\n",
       "    .dataframe tbody tr th:only-of-type {\n",
       "        vertical-align: middle;\n",
       "    }\n",
       "\n",
       "    .dataframe tbody tr th {\n",
       "        vertical-align: top;\n",
       "    }\n",
       "\n",
       "    .dataframe thead th {\n",
       "        text-align: right;\n",
       "    }\n",
       "</style>\n",
       "<table border=\"1\" class=\"dataframe\">\n",
       "  <thead>\n",
       "    <tr style=\"text-align: right;\">\n",
       "      <th></th>\n",
       "      <th>PassengerId</th>\n",
       "      <th>Survived</th>\n",
       "      <th>Pclass</th>\n",
       "      <th>Name</th>\n",
       "      <th>Sex</th>\n",
       "      <th>Age</th>\n",
       "      <th>SibSp</th>\n",
       "      <th>Parch</th>\n",
       "      <th>Ticket</th>\n",
       "      <th>Fare</th>\n",
       "      <th>Cabin</th>\n",
       "      <th>Embarked</th>\n",
       "    </tr>\n",
       "  </thead>\n",
       "  <tbody>\n",
       "    <tr>\n",
       "      <th>0</th>\n",
       "      <td>1</td>\n",
       "      <td>0</td>\n",
       "      <td>3</td>\n",
       "      <td>Braund, Mr. Owen Harris</td>\n",
       "      <td>male</td>\n",
       "      <td>22.0</td>\n",
       "      <td>1</td>\n",
       "      <td>0</td>\n",
       "      <td>A/5 21171</td>\n",
       "      <td>7.2500</td>\n",
       "      <td>NaN</td>\n",
       "      <td>S</td>\n",
       "    </tr>\n",
       "    <tr>\n",
       "      <th>1</th>\n",
       "      <td>2</td>\n",
       "      <td>1</td>\n",
       "      <td>1</td>\n",
       "      <td>Cumings, Mrs. John Bradley (Florence Briggs Th...</td>\n",
       "      <td>female</td>\n",
       "      <td>38.0</td>\n",
       "      <td>1</td>\n",
       "      <td>0</td>\n",
       "      <td>PC 17599</td>\n",
       "      <td>71.2833</td>\n",
       "      <td>C85</td>\n",
       "      <td>C</td>\n",
       "    </tr>\n",
       "    <tr>\n",
       "      <th>2</th>\n",
       "      <td>3</td>\n",
       "      <td>1</td>\n",
       "      <td>3</td>\n",
       "      <td>Heikkinen, Miss. Laina</td>\n",
       "      <td>female</td>\n",
       "      <td>26.0</td>\n",
       "      <td>0</td>\n",
       "      <td>0</td>\n",
       "      <td>STON/O2. 3101282</td>\n",
       "      <td>7.9250</td>\n",
       "      <td>NaN</td>\n",
       "      <td>S</td>\n",
       "    </tr>\n",
       "    <tr>\n",
       "      <th>3</th>\n",
       "      <td>4</td>\n",
       "      <td>1</td>\n",
       "      <td>1</td>\n",
       "      <td>Futrelle, Mrs. Jacques Heath (Lily May Peel)</td>\n",
       "      <td>female</td>\n",
       "      <td>35.0</td>\n",
       "      <td>1</td>\n",
       "      <td>0</td>\n",
       "      <td>113803</td>\n",
       "      <td>53.1000</td>\n",
       "      <td>C123</td>\n",
       "      <td>S</td>\n",
       "    </tr>\n",
       "    <tr>\n",
       "      <th>4</th>\n",
       "      <td>5</td>\n",
       "      <td>0</td>\n",
       "      <td>3</td>\n",
       "      <td>Allen, Mr. William Henry</td>\n",
       "      <td>male</td>\n",
       "      <td>35.0</td>\n",
       "      <td>0</td>\n",
       "      <td>0</td>\n",
       "      <td>373450</td>\n",
       "      <td>8.0500</td>\n",
       "      <td>NaN</td>\n",
       "      <td>S</td>\n",
       "    </tr>\n",
       "  </tbody>\n",
       "</table>\n",
       "</div>"
      ],
      "text/plain": [
       "   PassengerId  Survived  Pclass  \\\n",
       "0            1         0       3   \n",
       "1            2         1       1   \n",
       "2            3         1       3   \n",
       "3            4         1       1   \n",
       "4            5         0       3   \n",
       "\n",
       "                                                Name     Sex   Age  SibSp  \\\n",
       "0                            Braund, Mr. Owen Harris    male  22.0      1   \n",
       "1  Cumings, Mrs. John Bradley (Florence Briggs Th...  female  38.0      1   \n",
       "2                             Heikkinen, Miss. Laina  female  26.0      0   \n",
       "3       Futrelle, Mrs. Jacques Heath (Lily May Peel)  female  35.0      1   \n",
       "4                           Allen, Mr. William Henry    male  35.0      0   \n",
       "\n",
       "   Parch            Ticket     Fare Cabin Embarked  \n",
       "0      0         A/5 21171   7.2500   NaN        S  \n",
       "1      0          PC 17599  71.2833   C85        C  \n",
       "2      0  STON/O2. 3101282   7.9250   NaN        S  \n",
       "3      0            113803  53.1000  C123        S  \n",
       "4      0            373450   8.0500   NaN        S  "
      ]
     },
     "execution_count": 16,
     "metadata": {},
     "output_type": "execute_result"
    }
   ],
   "source": [
    "train.head()"
   ]
  },
  {
   "cell_type": "markdown",
   "id": "c4b594ba",
   "metadata": {
    "papermill": {
     "duration": 0.040813,
     "end_time": "2023-12-05T11:34:50.892529",
     "exception": false,
     "start_time": "2023-12-05T11:34:50.851716",
     "status": "completed"
    },
    "tags": []
   },
   "source": [
    "## Null Value imputation"
   ]
  },
  {
   "cell_type": "code",
   "execution_count": 14,
   "id": "dc7417c5",
   "metadata": {
    "execution": {
     "iopub.execute_input": "2023-12-05T11:34:50.976733Z",
     "iopub.status.busy": "2023-12-05T11:34:50.976166Z",
     "iopub.status.idle": "2023-12-05T11:34:50.986739Z",
     "shell.execute_reply": "2023-12-05T11:34:50.985533Z"
    },
    "papermill": {
     "duration": 0.056043,
     "end_time": "2023-12-05T11:34:50.989499",
     "exception": false,
     "start_time": "2023-12-05T11:34:50.933456",
     "status": "completed"
    },
    "tags": []
   },
   "outputs": [
    {
     "data": {
      "text/plain": [
       "PassengerId      0\n",
       "Survived         0\n",
       "Pclass           0\n",
       "Name             0\n",
       "Sex              0\n",
       "Age            177\n",
       "SibSp            0\n",
       "Parch            0\n",
       "Ticket           0\n",
       "Fare             0\n",
       "Cabin          687\n",
       "Embarked         2\n",
       "dtype: int64"
      ]
     },
     "execution_count": 14,
     "metadata": {},
     "output_type": "execute_result"
    }
   ],
   "source": [
    "train.isnull().sum()"
   ]
  },
  {
   "cell_type": "code",
   "execution_count": 15,
   "id": "cc406f98",
   "metadata": {
    "execution": {
     "iopub.execute_input": "2023-12-05T11:34:51.076506Z",
     "iopub.status.busy": "2023-12-05T11:34:51.075787Z",
     "iopub.status.idle": "2023-12-05T11:34:51.086891Z",
     "shell.execute_reply": "2023-12-05T11:34:51.085899Z"
    },
    "papermill": {
     "duration": 0.057697,
     "end_time": "2023-12-05T11:34:51.089299",
     "exception": false,
     "start_time": "2023-12-05T11:34:51.031602",
     "status": "completed"
    },
    "tags": []
   },
   "outputs": [
    {
     "data": {
      "text/plain": [
       "PassengerId      0\n",
       "Pclass           0\n",
       "Name             0\n",
       "Sex              0\n",
       "Age             86\n",
       "SibSp            0\n",
       "Parch            0\n",
       "Ticket           0\n",
       "Fare             1\n",
       "Cabin          327\n",
       "Embarked         0\n",
       "dtype: int64"
      ]
     },
     "execution_count": 15,
     "metadata": {},
     "output_type": "execute_result"
    }
   ],
   "source": [
    "test.isnull().sum()"
   ]
  },
  {
   "cell_type": "markdown",
   "id": "0a6e3ad8",
   "metadata": {
    "papermill": {
     "duration": 0.041775,
     "end_time": "2023-12-05T11:34:51.173660",
     "exception": false,
     "start_time": "2023-12-05T11:34:51.131885",
     "status": "completed"
    },
    "tags": []
   },
   "source": [
    "### Cabin\n"
   ]
  },
  {
   "cell_type": "code",
   "execution_count": 16,
   "id": "0a542431",
   "metadata": {
    "execution": {
     "iopub.execute_input": "2023-12-05T11:34:51.262422Z",
     "iopub.status.busy": "2023-12-05T11:34:51.261169Z",
     "iopub.status.idle": "2023-12-05T11:34:51.273675Z",
     "shell.execute_reply": "2023-12-05T11:34:51.272568Z"
    },
    "papermill": {
     "duration": 0.060117,
     "end_time": "2023-12-05T11:34:51.276344",
     "exception": false,
     "start_time": "2023-12-05T11:34:51.216227",
     "status": "completed"
    },
    "tags": []
   },
   "outputs": [],
   "source": [
    "train.drop(columns=['Cabin'],inplace=True)\n",
    "test.drop(columns=['Cabin'],inplace=True)\n"
   ]
  },
  {
   "cell_type": "code",
   "execution_count": 17,
   "id": "422b2b02",
   "metadata": {
    "execution": {
     "iopub.execute_input": "2023-12-05T11:34:51.366386Z",
     "iopub.status.busy": "2023-12-05T11:34:51.365076Z",
     "iopub.status.idle": "2023-12-05T11:34:51.376279Z",
     "shell.execute_reply": "2023-12-05T11:34:51.375019Z"
    },
    "papermill": {
     "duration": 0.058906,
     "end_time": "2023-12-05T11:34:51.378942",
     "exception": false,
     "start_time": "2023-12-05T11:34:51.320036",
     "status": "completed"
    },
    "tags": []
   },
   "outputs": [
    {
     "data": {
      "text/plain": [
       "PassengerId      0\n",
       "Survived         0\n",
       "Pclass           0\n",
       "Name             0\n",
       "Sex              0\n",
       "Age            177\n",
       "SibSp            0\n",
       "Parch            0\n",
       "Ticket           0\n",
       "Fare             0\n",
       "Embarked         2\n",
       "dtype: int64"
      ]
     },
     "execution_count": 17,
     "metadata": {},
     "output_type": "execute_result"
    }
   ],
   "source": [
    "train.isnull().sum()"
   ]
  },
  {
   "cell_type": "markdown",
   "id": "a75fec74",
   "metadata": {
    "papermill": {
     "duration": 0.042355,
     "end_time": "2023-12-05T11:34:51.465033",
     "exception": false,
     "start_time": "2023-12-05T11:34:51.422678",
     "status": "completed"
    },
    "tags": []
   },
   "source": [
    "### Embarked "
   ]
  },
  {
   "cell_type": "code",
   "execution_count": 18,
   "id": "059ffb61",
   "metadata": {
    "execution": {
     "iopub.execute_input": "2023-12-05T11:34:51.553857Z",
     "iopub.status.busy": "2023-12-05T11:34:51.553388Z",
     "iopub.status.idle": "2023-12-05T11:34:51.563634Z",
     "shell.execute_reply": "2023-12-05T11:34:51.562385Z"
    },
    "papermill": {
     "duration": 0.058616,
     "end_time": "2023-12-05T11:34:51.566299",
     "exception": false,
     "start_time": "2023-12-05T11:34:51.507683",
     "status": "completed"
    },
    "tags": []
   },
   "outputs": [
    {
     "data": {
      "text/plain": [
       "Embarked\n",
       "S    644\n",
       "C    168\n",
       "Q     77\n",
       "Name: count, dtype: int64"
      ]
     },
     "execution_count": 18,
     "metadata": {},
     "output_type": "execute_result"
    }
   ],
   "source": [
    "train['Embarked'].value_counts()"
   ]
  },
  {
   "cell_type": "code",
   "execution_count": 19,
   "id": "7f3453bc",
   "metadata": {
    "execution": {
     "iopub.execute_input": "2023-12-05T11:34:51.654189Z",
     "iopub.status.busy": "2023-12-05T11:34:51.652785Z",
     "iopub.status.idle": "2023-12-05T11:34:51.660842Z",
     "shell.execute_reply": "2023-12-05T11:34:51.659759Z"
    },
    "papermill": {
     "duration": 0.054535,
     "end_time": "2023-12-05T11:34:51.663530",
     "exception": false,
     "start_time": "2023-12-05T11:34:51.608995",
     "status": "completed"
    },
    "tags": []
   },
   "outputs": [],
   "source": [
    "train['Embarked'].fillna('S',inplace=True)"
   ]
  },
  {
   "cell_type": "code",
   "execution_count": 20,
   "id": "92c18982",
   "metadata": {
    "execution": {
     "iopub.execute_input": "2023-12-05T11:34:51.752765Z",
     "iopub.status.busy": "2023-12-05T11:34:51.752220Z",
     "iopub.status.idle": "2023-12-05T11:34:51.762139Z",
     "shell.execute_reply": "2023-12-05T11:34:51.761098Z"
    },
    "papermill": {
     "duration": 0.056471,
     "end_time": "2023-12-05T11:34:51.764577",
     "exception": false,
     "start_time": "2023-12-05T11:34:51.708106",
     "status": "completed"
    },
    "tags": []
   },
   "outputs": [
    {
     "data": {
      "text/plain": [
       "PassengerId      0\n",
       "Survived         0\n",
       "Pclass           0\n",
       "Name             0\n",
       "Sex              0\n",
       "Age            177\n",
       "SibSp            0\n",
       "Parch            0\n",
       "Ticket           0\n",
       "Fare             0\n",
       "Embarked         0\n",
       "dtype: int64"
      ]
     },
     "execution_count": 20,
     "metadata": {},
     "output_type": "execute_result"
    }
   ],
   "source": [
    "train.isnull().sum()"
   ]
  },
  {
   "cell_type": "code",
   "execution_count": 21,
   "id": "d4c16add",
   "metadata": {
    "execution": {
     "iopub.execute_input": "2023-12-05T11:34:51.852637Z",
     "iopub.status.busy": "2023-12-05T11:34:51.851249Z",
     "iopub.status.idle": "2023-12-05T11:34:51.862142Z",
     "shell.execute_reply": "2023-12-05T11:34:51.860818Z"
    },
    "papermill": {
     "duration": 0.057461,
     "end_time": "2023-12-05T11:34:51.864820",
     "exception": false,
     "start_time": "2023-12-05T11:34:51.807359",
     "status": "completed"
    },
    "tags": []
   },
   "outputs": [
    {
     "data": {
      "text/plain": [
       "PassengerId     0\n",
       "Pclass          0\n",
       "Name            0\n",
       "Sex             0\n",
       "Age            86\n",
       "SibSp           0\n",
       "Parch           0\n",
       "Ticket          0\n",
       "Fare            1\n",
       "Embarked        0\n",
       "dtype: int64"
      ]
     },
     "execution_count": 21,
     "metadata": {},
     "output_type": "execute_result"
    }
   ],
   "source": [
    "test.isnull().sum()"
   ]
  },
  {
   "cell_type": "markdown",
   "id": "50d1e2ba",
   "metadata": {
    "papermill": {
     "duration": 0.042085,
     "end_time": "2023-12-05T11:34:51.949959",
     "exception": false,
     "start_time": "2023-12-05T11:34:51.907874",
     "status": "completed"
    },
    "tags": []
   },
   "source": [
    "### Fare"
   ]
  },
  {
   "cell_type": "code",
   "execution_count": 22,
   "id": "fa1c9459",
   "metadata": {
    "execution": {
     "iopub.execute_input": "2023-12-05T11:34:52.039661Z",
     "iopub.status.busy": "2023-12-05T11:34:52.038765Z",
     "iopub.status.idle": "2023-12-05T11:34:52.045181Z",
     "shell.execute_reply": "2023-12-05T11:34:52.044212Z"
    },
    "papermill": {
     "duration": 0.055292,
     "end_time": "2023-12-05T11:34:52.047745",
     "exception": false,
     "start_time": "2023-12-05T11:34:51.992453",
     "status": "completed"
    },
    "tags": []
   },
   "outputs": [],
   "source": [
    "test['Fare'].fillna(test['Fare'].mean(),inplace=True)"
   ]
  },
  {
   "cell_type": "code",
   "execution_count": 23,
   "id": "89529575",
   "metadata": {
    "execution": {
     "iopub.execute_input": "2023-12-05T11:34:52.136738Z",
     "iopub.status.busy": "2023-12-05T11:34:52.135897Z",
     "iopub.status.idle": "2023-12-05T11:34:52.144820Z",
     "shell.execute_reply": "2023-12-05T11:34:52.144006Z"
    },
    "papermill": {
     "duration": 0.056254,
     "end_time": "2023-12-05T11:34:52.147191",
     "exception": false,
     "start_time": "2023-12-05T11:34:52.090937",
     "status": "completed"
    },
    "tags": []
   },
   "outputs": [
    {
     "data": {
      "text/plain": [
       "PassengerId     0\n",
       "Pclass          0\n",
       "Name            0\n",
       "Sex             0\n",
       "Age            86\n",
       "SibSp           0\n",
       "Parch           0\n",
       "Ticket          0\n",
       "Fare            0\n",
       "Embarked        0\n",
       "dtype: int64"
      ]
     },
     "execution_count": 23,
     "metadata": {},
     "output_type": "execute_result"
    }
   ],
   "source": [
    "test.isnull().sum()"
   ]
  },
  {
   "cell_type": "markdown",
   "id": "74fecec4",
   "metadata": {
    "papermill": {
     "duration": 0.041784,
     "end_time": "2023-12-05T11:34:52.231298",
     "exception": false,
     "start_time": "2023-12-05T11:34:52.189514",
     "status": "completed"
    },
    "tags": []
   },
   "source": [
    "### Age"
   ]
  },
  {
   "cell_type": "code",
   "execution_count": 39,
   "id": "a01a19a1",
   "metadata": {
    "execution": {
     "iopub.execute_input": "2023-12-05T11:34:52.320394Z",
     "iopub.status.busy": "2023-12-05T11:34:52.319532Z",
     "iopub.status.idle": "2023-12-05T11:34:52.329799Z",
     "shell.execute_reply": "2023-12-05T11:34:52.328561Z"
    },
    "papermill": {
     "duration": 0.057188,
     "end_time": "2023-12-05T11:34:52.332577",
     "exception": false,
     "start_time": "2023-12-05T11:34:52.275389",
     "status": "completed"
    },
    "tags": []
   },
   "outputs": [
    {
     "data": {
      "text/plain": [
       "array([36, 33, 23, 21, 41, 24, 21, 18, 15, 34, 38, 35, 28, 23, 23, 28, 16,\n",
       "       15, 21, 25, 23, 38, 21, 29, 22, 32, 35, 24, 32, 15, 35, 24, 17, 20,\n",
       "       36, 37, 21, 24, 32, 37, 36, 17, 21, 43, 33, 39, 20, 31, 18, 43, 36,\n",
       "       27, 30, 42, 35, 23, 27, 37, 33, 22, 34, 18, 19, 18, 33, 26, 41, 23,\n",
       "       43, 40, 40, 30, 42, 20, 23, 22, 24, 38, 15, 27, 40, 29, 43, 22, 28,\n",
       "       25, 35, 15, 26, 32, 31, 18, 35, 21, 40, 23, 30, 38, 39, 40, 16, 36,\n",
       "       35, 28, 39, 15, 24, 28, 37, 40, 39, 30, 28, 37, 26, 38, 32, 20, 32,\n",
       "       27, 35, 42, 37, 27, 17, 26, 19, 25, 25, 21, 36, 28, 19, 38, 17, 37,\n",
       "       25, 16, 20, 32, 36, 27, 32, 22, 36, 27, 33, 34, 21, 16, 35, 37, 30,\n",
       "       29, 17, 42, 24, 16, 28, 20, 35, 23, 21, 34, 35, 24, 24, 34, 28, 31,\n",
       "       31, 15, 38, 22, 37, 29, 17])"
      ]
     },
     "execution_count": 39,
     "metadata": {},
     "output_type": "execute_result"
    }
   ],
   "source": [
    "train_age = np.random.randint(train['Age'].mean() - train['Age'].std(), train['Age'].mean() + train['Age'].std(), 177)\n",
    "\n",
    "train_age"
   ]
  },
  {
   "cell_type": "code",
   "execution_count": 41,
   "id": "4782ff83",
   "metadata": {
    "execution": {
     "iopub.execute_input": "2023-12-05T11:34:52.422941Z",
     "iopub.status.busy": "2023-12-05T11:34:52.422423Z",
     "iopub.status.idle": "2023-12-05T11:34:52.432671Z",
     "shell.execute_reply": "2023-12-05T11:34:52.431716Z"
    },
    "papermill": {
     "duration": 0.058982,
     "end_time": "2023-12-05T11:34:52.435707",
     "exception": false,
     "start_time": "2023-12-05T11:34:52.376725",
     "status": "completed"
    },
    "tags": []
   },
   "outputs": [
    {
     "data": {
      "text/plain": [
       "array([35, 36, 22, 36, 41, 16, 23, 31, 18, 39, 22, 21, 24, 36, 28, 22, 29,\n",
       "       39, 41, 34, 20, 22, 34, 24, 42, 22, 17, 17, 29, 35, 40, 28, 16, 41,\n",
       "       20, 24, 18, 23, 26, 20, 32, 22, 19, 24, 17, 16, 23, 38, 38, 30, 42,\n",
       "       25, 24, 37, 41, 38, 36, 43, 26, 29, 22, 22, 43, 27, 17, 23, 19, 35,\n",
       "       29, 29, 41, 39, 20, 40, 32, 23, 16, 18, 18, 42, 27, 17, 35, 38, 28,\n",
       "       32])"
      ]
     },
     "execution_count": 41,
     "metadata": {},
     "output_type": "execute_result"
    }
   ],
   "source": [
    "test_age = np.random.randint(test['Age'].mean() - test['Age'].std(), test['Age'].mean() + test['Age'].std(), 86)\n",
    "\n",
    "test_age"
   ]
  },
  {
   "cell_type": "code",
   "execution_count": 42,
   "id": "095a833c",
   "metadata": {
    "execution": {
     "iopub.execute_input": "2023-12-05T11:34:52.524155Z",
     "iopub.status.busy": "2023-12-05T11:34:52.523683Z",
     "iopub.status.idle": "2023-12-05T11:34:52.532263Z",
     "shell.execute_reply": "2023-12-05T11:34:52.531040Z"
    },
    "papermill": {
     "duration": 0.055898,
     "end_time": "2023-12-05T11:34:52.535306",
     "exception": false,
     "start_time": "2023-12-05T11:34:52.479408",
     "status": "completed"
    },
    "tags": []
   },
   "outputs": [
    {
     "name": "stderr",
     "output_type": "stream",
     "text": [
      "C:\\Users\\Sanjay\\AppData\\Local\\Temp\\ipykernel_11724\\1833702416.py:1: SettingWithCopyWarning: \n",
      "A value is trying to be set on a copy of a slice from a DataFrame\n",
      "\n",
      "See the caveats in the documentation: https://pandas.pydata.org/pandas-docs/stable/user_guide/indexing.html#returning-a-view-versus-a-copy\n",
      "  train['Age'][train['Age'].isnull()] = train_age\n"
     ]
    }
   ],
   "source": [
    "train['Age'][train['Age'].isnull()] = train_age"
   ]
  },
  {
   "cell_type": "code",
   "execution_count": 27,
   "id": "1cc13679",
   "metadata": {
    "execution": {
     "iopub.execute_input": "2023-12-05T11:34:52.624017Z",
     "iopub.status.busy": "2023-12-05T11:34:52.623559Z",
     "iopub.status.idle": "2023-12-05T11:34:52.634339Z",
     "shell.execute_reply": "2023-12-05T11:34:52.633130Z"
    },
    "papermill": {
     "duration": 0.057984,
     "end_time": "2023-12-05T11:34:52.637029",
     "exception": false,
     "start_time": "2023-12-05T11:34:52.579045",
     "status": "completed"
    },
    "tags": []
   },
   "outputs": [
    {
     "data": {
      "text/plain": [
       "PassengerId    0\n",
       "Survived       0\n",
       "Pclass         0\n",
       "Name           0\n",
       "Sex            0\n",
       "Age            0\n",
       "SibSp          0\n",
       "Parch          0\n",
       "Ticket         0\n",
       "Fare           0\n",
       "Embarked       0\n",
       "dtype: int64"
      ]
     },
     "execution_count": 27,
     "metadata": {},
     "output_type": "execute_result"
    }
   ],
   "source": [
    "train.isnull().sum()"
   ]
  },
  {
   "cell_type": "code",
   "execution_count": 28,
   "id": "18d37cba",
   "metadata": {
    "execution": {
     "iopub.execute_input": "2023-12-05T11:34:52.728065Z",
     "iopub.status.busy": "2023-12-05T11:34:52.727098Z",
     "iopub.status.idle": "2023-12-05T11:34:52.734896Z",
     "shell.execute_reply": "2023-12-05T11:34:52.733801Z"
    },
    "papermill": {
     "duration": 0.05552,
     "end_time": "2023-12-05T11:34:52.737601",
     "exception": false,
     "start_time": "2023-12-05T11:34:52.682081",
     "status": "completed"
    },
    "tags": []
   },
   "outputs": [
    {
     "name": "stderr",
     "output_type": "stream",
     "text": [
      "/tmp/ipykernel_19/4013316382.py:1: SettingWithCopyWarning: \n",
      "A value is trying to be set on a copy of a slice from a DataFrame\n",
      "\n",
      "See the caveats in the documentation: https://pandas.pydata.org/pandas-docs/stable/user_guide/indexing.html#returning-a-view-versus-a-copy\n",
      "  test['Age'][test['Age'].isnull()] = test_age\n"
     ]
    }
   ],
   "source": [
    "test['Age'][test['Age'].isnull()] = test_age"
   ]
  },
  {
   "cell_type": "code",
   "execution_count": 29,
   "id": "1b69e68e",
   "metadata": {
    "execution": {
     "iopub.execute_input": "2023-12-05T11:34:52.827829Z",
     "iopub.status.busy": "2023-12-05T11:34:52.826976Z",
     "iopub.status.idle": "2023-12-05T11:34:52.836395Z",
     "shell.execute_reply": "2023-12-05T11:34:52.835482Z"
    },
    "papermill": {
     "duration": 0.057844,
     "end_time": "2023-12-05T11:34:52.838735",
     "exception": false,
     "start_time": "2023-12-05T11:34:52.780891",
     "status": "completed"
    },
    "tags": []
   },
   "outputs": [
    {
     "data": {
      "text/plain": [
       "PassengerId    0\n",
       "Pclass         0\n",
       "Name           0\n",
       "Sex            0\n",
       "Age            0\n",
       "SibSp          0\n",
       "Parch          0\n",
       "Ticket         0\n",
       "Fare           0\n",
       "Embarked       0\n",
       "dtype: int64"
      ]
     },
     "execution_count": 29,
     "metadata": {},
     "output_type": "execute_result"
    }
   ],
   "source": [
    "test.isnull().sum()"
   ]
  },
  {
   "cell_type": "code",
   "execution_count": 30,
   "id": "a38e30aa",
   "metadata": {
    "execution": {
     "iopub.execute_input": "2023-12-05T11:34:52.929222Z",
     "iopub.status.busy": "2023-12-05T11:34:52.928410Z",
     "iopub.status.idle": "2023-12-05T11:34:52.942761Z",
     "shell.execute_reply": "2023-12-05T11:34:52.941338Z"
    },
    "papermill": {
     "duration": 0.063184,
     "end_time": "2023-12-05T11:34:52.945731",
     "exception": false,
     "start_time": "2023-12-05T11:34:52.882547",
     "status": "completed"
    },
    "tags": []
   },
   "outputs": [
    {
     "data": {
      "text/plain": [
       "0"
      ]
     },
     "execution_count": 30,
     "metadata": {},
     "output_type": "execute_result"
    }
   ],
   "source": [
    "train.duplicated().sum()"
   ]
  },
  {
   "cell_type": "markdown",
   "id": "ca7c365d",
   "metadata": {
    "papermill": {
     "duration": 0.04508,
     "end_time": "2023-12-05T11:34:53.034869",
     "exception": false,
     "start_time": "2023-12-05T11:34:52.989789",
     "status": "completed"
    },
    "tags": []
   },
   "source": [
    "# Exploratory Data Analysis"
   ]
  },
  {
   "cell_type": "markdown",
   "id": "b01ef8f4",
   "metadata": {
    "execution": {
     "iopub.execute_input": "2023-11-29T09:51:33.915768Z",
     "iopub.status.busy": "2023-11-29T09:51:33.915339Z",
     "iopub.status.idle": "2023-11-29T09:51:33.920918Z",
     "shell.execute_reply": "2023-11-29T09:51:33.919767Z",
     "shell.execute_reply.started": "2023-11-29T09:51:33.915734Z"
    },
    "papermill": {
     "duration": 0.043165,
     "end_time": "2023-12-05T11:34:53.124529",
     "exception": false,
     "start_time": "2023-12-05T11:34:53.081364",
     "status": "completed"
    },
    "tags": []
   },
   "source": [
    "## Pclass"
   ]
  },
  {
   "cell_type": "code",
   "execution_count": 18,
   "id": "a0ea87cc",
   "metadata": {
    "execution": {
     "iopub.execute_input": "2023-12-05T11:34:53.216458Z",
     "iopub.status.busy": "2023-12-05T11:34:53.215891Z",
     "iopub.status.idle": "2023-12-05T11:34:54.816967Z",
     "shell.execute_reply": "2023-12-05T11:34:54.815655Z"
    },
    "papermill": {
     "duration": 1.650906,
     "end_time": "2023-12-05T11:34:54.820313",
     "exception": false,
     "start_time": "2023-12-05T11:34:53.169407",
     "status": "completed"
    },
    "tags": []
   },
   "outputs": [],
   "source": [
    "import seaborn as sns\n",
    "import matplotlib.pyplot as plt"
   ]
  },
  {
   "cell_type": "code",
   "execution_count": 19,
   "id": "f851d8ae",
   "metadata": {
    "execution": {
     "iopub.execute_input": "2023-12-05T11:34:54.910037Z",
     "iopub.status.busy": "2023-12-05T11:34:54.909088Z",
     "iopub.status.idle": "2023-12-05T11:34:54.935911Z",
     "shell.execute_reply": "2023-12-05T11:34:54.934995Z"
    },
    "papermill": {
     "duration": 0.074419,
     "end_time": "2023-12-05T11:34:54.938516",
     "exception": false,
     "start_time": "2023-12-05T11:34:54.864097",
     "status": "completed"
    },
    "tags": []
   },
   "outputs": [
    {
     "data": {
      "text/html": [
       "<div>\n",
       "<style scoped>\n",
       "    .dataframe tbody tr th:only-of-type {\n",
       "        vertical-align: middle;\n",
       "    }\n",
       "\n",
       "    .dataframe tbody tr th {\n",
       "        vertical-align: top;\n",
       "    }\n",
       "\n",
       "    .dataframe thead th {\n",
       "        text-align: right;\n",
       "    }\n",
       "</style>\n",
       "<table border=\"1\" class=\"dataframe\">\n",
       "  <thead>\n",
       "    <tr style=\"text-align: right;\">\n",
       "      <th></th>\n",
       "      <th>PassengerId</th>\n",
       "      <th>Survived</th>\n",
       "      <th>Pclass</th>\n",
       "      <th>Name</th>\n",
       "      <th>Sex</th>\n",
       "      <th>Age</th>\n",
       "      <th>SibSp</th>\n",
       "      <th>Parch</th>\n",
       "      <th>Ticket</th>\n",
       "      <th>Fare</th>\n",
       "      <th>Cabin</th>\n",
       "      <th>Embarked</th>\n",
       "    </tr>\n",
       "  </thead>\n",
       "  <tbody>\n",
       "    <tr>\n",
       "      <th>0</th>\n",
       "      <td>1</td>\n",
       "      <td>0</td>\n",
       "      <td>3</td>\n",
       "      <td>Braund, Mr. Owen Harris</td>\n",
       "      <td>male</td>\n",
       "      <td>22.0</td>\n",
       "      <td>1</td>\n",
       "      <td>0</td>\n",
       "      <td>A/5 21171</td>\n",
       "      <td>7.2500</td>\n",
       "      <td>NaN</td>\n",
       "      <td>S</td>\n",
       "    </tr>\n",
       "    <tr>\n",
       "      <th>1</th>\n",
       "      <td>2</td>\n",
       "      <td>1</td>\n",
       "      <td>1</td>\n",
       "      <td>Cumings, Mrs. John Bradley (Florence Briggs Th...</td>\n",
       "      <td>female</td>\n",
       "      <td>38.0</td>\n",
       "      <td>1</td>\n",
       "      <td>0</td>\n",
       "      <td>PC 17599</td>\n",
       "      <td>71.2833</td>\n",
       "      <td>C85</td>\n",
       "      <td>C</td>\n",
       "    </tr>\n",
       "    <tr>\n",
       "      <th>2</th>\n",
       "      <td>3</td>\n",
       "      <td>1</td>\n",
       "      <td>3</td>\n",
       "      <td>Heikkinen, Miss. Laina</td>\n",
       "      <td>female</td>\n",
       "      <td>26.0</td>\n",
       "      <td>0</td>\n",
       "      <td>0</td>\n",
       "      <td>STON/O2. 3101282</td>\n",
       "      <td>7.9250</td>\n",
       "      <td>NaN</td>\n",
       "      <td>S</td>\n",
       "    </tr>\n",
       "    <tr>\n",
       "      <th>3</th>\n",
       "      <td>4</td>\n",
       "      <td>1</td>\n",
       "      <td>1</td>\n",
       "      <td>Futrelle, Mrs. Jacques Heath (Lily May Peel)</td>\n",
       "      <td>female</td>\n",
       "      <td>35.0</td>\n",
       "      <td>1</td>\n",
       "      <td>0</td>\n",
       "      <td>113803</td>\n",
       "      <td>53.1000</td>\n",
       "      <td>C123</td>\n",
       "      <td>S</td>\n",
       "    </tr>\n",
       "    <tr>\n",
       "      <th>4</th>\n",
       "      <td>5</td>\n",
       "      <td>0</td>\n",
       "      <td>3</td>\n",
       "      <td>Allen, Mr. William Henry</td>\n",
       "      <td>male</td>\n",
       "      <td>35.0</td>\n",
       "      <td>0</td>\n",
       "      <td>0</td>\n",
       "      <td>373450</td>\n",
       "      <td>8.0500</td>\n",
       "      <td>NaN</td>\n",
       "      <td>S</td>\n",
       "    </tr>\n",
       "    <tr>\n",
       "      <th>...</th>\n",
       "      <td>...</td>\n",
       "      <td>...</td>\n",
       "      <td>...</td>\n",
       "      <td>...</td>\n",
       "      <td>...</td>\n",
       "      <td>...</td>\n",
       "      <td>...</td>\n",
       "      <td>...</td>\n",
       "      <td>...</td>\n",
       "      <td>...</td>\n",
       "      <td>...</td>\n",
       "      <td>...</td>\n",
       "    </tr>\n",
       "    <tr>\n",
       "      <th>886</th>\n",
       "      <td>887</td>\n",
       "      <td>0</td>\n",
       "      <td>2</td>\n",
       "      <td>Montvila, Rev. Juozas</td>\n",
       "      <td>male</td>\n",
       "      <td>27.0</td>\n",
       "      <td>0</td>\n",
       "      <td>0</td>\n",
       "      <td>211536</td>\n",
       "      <td>13.0000</td>\n",
       "      <td>NaN</td>\n",
       "      <td>S</td>\n",
       "    </tr>\n",
       "    <tr>\n",
       "      <th>887</th>\n",
       "      <td>888</td>\n",
       "      <td>1</td>\n",
       "      <td>1</td>\n",
       "      <td>Graham, Miss. Margaret Edith</td>\n",
       "      <td>female</td>\n",
       "      <td>19.0</td>\n",
       "      <td>0</td>\n",
       "      <td>0</td>\n",
       "      <td>112053</td>\n",
       "      <td>30.0000</td>\n",
       "      <td>B42</td>\n",
       "      <td>S</td>\n",
       "    </tr>\n",
       "    <tr>\n",
       "      <th>888</th>\n",
       "      <td>889</td>\n",
       "      <td>0</td>\n",
       "      <td>3</td>\n",
       "      <td>Johnston, Miss. Catherine Helen \"Carrie\"</td>\n",
       "      <td>female</td>\n",
       "      <td>NaN</td>\n",
       "      <td>1</td>\n",
       "      <td>2</td>\n",
       "      <td>W./C. 6607</td>\n",
       "      <td>23.4500</td>\n",
       "      <td>NaN</td>\n",
       "      <td>S</td>\n",
       "    </tr>\n",
       "    <tr>\n",
       "      <th>889</th>\n",
       "      <td>890</td>\n",
       "      <td>1</td>\n",
       "      <td>1</td>\n",
       "      <td>Behr, Mr. Karl Howell</td>\n",
       "      <td>male</td>\n",
       "      <td>26.0</td>\n",
       "      <td>0</td>\n",
       "      <td>0</td>\n",
       "      <td>111369</td>\n",
       "      <td>30.0000</td>\n",
       "      <td>C148</td>\n",
       "      <td>C</td>\n",
       "    </tr>\n",
       "    <tr>\n",
       "      <th>890</th>\n",
       "      <td>891</td>\n",
       "      <td>0</td>\n",
       "      <td>3</td>\n",
       "      <td>Dooley, Mr. Patrick</td>\n",
       "      <td>male</td>\n",
       "      <td>32.0</td>\n",
       "      <td>0</td>\n",
       "      <td>0</td>\n",
       "      <td>370376</td>\n",
       "      <td>7.7500</td>\n",
       "      <td>NaN</td>\n",
       "      <td>Q</td>\n",
       "    </tr>\n",
       "  </tbody>\n",
       "</table>\n",
       "<p>891 rows × 12 columns</p>\n",
       "</div>"
      ],
      "text/plain": [
       "     PassengerId  Survived  Pclass  \\\n",
       "0              1         0       3   \n",
       "1              2         1       1   \n",
       "2              3         1       3   \n",
       "3              4         1       1   \n",
       "4              5         0       3   \n",
       "..           ...       ...     ...   \n",
       "886          887         0       2   \n",
       "887          888         1       1   \n",
       "888          889         0       3   \n",
       "889          890         1       1   \n",
       "890          891         0       3   \n",
       "\n",
       "                                                  Name     Sex   Age  SibSp  \\\n",
       "0                              Braund, Mr. Owen Harris    male  22.0      1   \n",
       "1    Cumings, Mrs. John Bradley (Florence Briggs Th...  female  38.0      1   \n",
       "2                               Heikkinen, Miss. Laina  female  26.0      0   \n",
       "3         Futrelle, Mrs. Jacques Heath (Lily May Peel)  female  35.0      1   \n",
       "4                             Allen, Mr. William Henry    male  35.0      0   \n",
       "..                                                 ...     ...   ...    ...   \n",
       "886                              Montvila, Rev. Juozas    male  27.0      0   \n",
       "887                       Graham, Miss. Margaret Edith  female  19.0      0   \n",
       "888           Johnston, Miss. Catherine Helen \"Carrie\"  female   NaN      1   \n",
       "889                              Behr, Mr. Karl Howell    male  26.0      0   \n",
       "890                                Dooley, Mr. Patrick    male  32.0      0   \n",
       "\n",
       "     Parch            Ticket     Fare Cabin Embarked  \n",
       "0        0         A/5 21171   7.2500   NaN        S  \n",
       "1        0          PC 17599  71.2833   C85        C  \n",
       "2        0  STON/O2. 3101282   7.9250   NaN        S  \n",
       "3        0            113803  53.1000  C123        S  \n",
       "4        0            373450   8.0500   NaN        S  \n",
       "..     ...               ...      ...   ...      ...  \n",
       "886      0            211536  13.0000   NaN        S  \n",
       "887      0            112053  30.0000   B42        S  \n",
       "888      2        W./C. 6607  23.4500   NaN        S  \n",
       "889      0            111369  30.0000  C148        C  \n",
       "890      0            370376   7.7500   NaN        Q  \n",
       "\n",
       "[891 rows x 12 columns]"
      ]
     },
     "execution_count": 19,
     "metadata": {},
     "output_type": "execute_result"
    }
   ],
   "source": [
    "train    "
   ]
  },
  {
   "cell_type": "code",
   "execution_count": 20,
   "id": "cf39afdd",
   "metadata": {
    "execution": {
     "iopub.execute_input": "2023-12-05T11:34:55.032907Z",
     "iopub.status.busy": "2023-12-05T11:34:55.031763Z",
     "iopub.status.idle": "2023-12-05T11:34:55.044078Z",
     "shell.execute_reply": "2023-12-05T11:34:55.042864Z"
    },
    "papermill": {
     "duration": 0.063199,
     "end_time": "2023-12-05T11:34:55.046895",
     "exception": false,
     "start_time": "2023-12-05T11:34:54.983696",
     "status": "completed"
    },
    "tags": []
   },
   "outputs": [
    {
     "data": {
      "text/plain": [
       "Survived\n",
       "1    136\n",
       "0     80\n",
       "Name: count, dtype: int64"
      ]
     },
     "execution_count": 20,
     "metadata": {},
     "output_type": "execute_result"
    }
   ],
   "source": [
    "train[train['Pclass']==1]['Survived'].value_counts()"
   ]
  },
  {
   "cell_type": "code",
   "execution_count": 21,
   "id": "af34e218",
   "metadata": {
    "execution": {
     "iopub.execute_input": "2023-12-05T11:34:55.137546Z",
     "iopub.status.busy": "2023-12-05T11:34:55.136646Z",
     "iopub.status.idle": "2023-12-05T11:34:55.147052Z",
     "shell.execute_reply": "2023-12-05T11:34:55.145907Z"
    },
    "papermill": {
     "duration": 0.0587,
     "end_time": "2023-12-05T11:34:55.149546",
     "exception": false,
     "start_time": "2023-12-05T11:34:55.090846",
     "status": "completed"
    },
    "tags": []
   },
   "outputs": [
    {
     "data": {
      "text/plain": [
       "Survived\n",
       "0    97\n",
       "1    87\n",
       "Name: count, dtype: int64"
      ]
     },
     "execution_count": 21,
     "metadata": {},
     "output_type": "execute_result"
    }
   ],
   "source": [
    "train[train['Pclass']==2]['Survived'].value_counts()"
   ]
  },
  {
   "cell_type": "code",
   "execution_count": 22,
   "id": "c61f9018",
   "metadata": {
    "execution": {
     "iopub.execute_input": "2023-12-05T11:34:55.240697Z",
     "iopub.status.busy": "2023-12-05T11:34:55.239891Z",
     "iopub.status.idle": "2023-12-05T11:34:55.250222Z",
     "shell.execute_reply": "2023-12-05T11:34:55.249092Z"
    },
    "papermill": {
     "duration": 0.058713,
     "end_time": "2023-12-05T11:34:55.252536",
     "exception": false,
     "start_time": "2023-12-05T11:34:55.193823",
     "status": "completed"
    },
    "tags": []
   },
   "outputs": [
    {
     "data": {
      "text/plain": [
       "Survived\n",
       "0    372\n",
       "1    119\n",
       "Name: count, dtype: int64"
      ]
     },
     "execution_count": 22,
     "metadata": {},
     "output_type": "execute_result"
    }
   ],
   "source": [
    "train[train['Pclass']==3]['Survived'].value_counts()"
   ]
  },
  {
   "cell_type": "code",
   "execution_count": 23,
   "id": "ddf0b045",
   "metadata": {
    "execution": {
     "iopub.execute_input": "2023-12-05T11:34:55.346230Z",
     "iopub.status.busy": "2023-12-05T11:34:55.345481Z",
     "iopub.status.idle": "2023-12-05T11:34:55.360171Z",
     "shell.execute_reply": "2023-12-05T11:34:55.358821Z"
    },
    "papermill": {
     "duration": 0.064667,
     "end_time": "2023-12-05T11:34:55.362763",
     "exception": false,
     "start_time": "2023-12-05T11:34:55.298096",
     "status": "completed"
    },
    "tags": []
   },
   "outputs": [
    {
     "data": {
      "text/plain": [
       "Pclass\n",
       "1    0.629630\n",
       "2    0.472826\n",
       "3    0.242363\n",
       "Name: Survived, dtype: float64"
      ]
     },
     "execution_count": 23,
     "metadata": {},
     "output_type": "execute_result"
    }
   ],
   "source": [
    "train.groupby(['Pclass'])['Survived'].mean()"
   ]
  },
  {
   "cell_type": "code",
   "execution_count": 24,
   "id": "c2e1d6f3",
   "metadata": {
    "execution": {
     "iopub.execute_input": "2023-12-05T11:34:55.455791Z",
     "iopub.status.busy": "2023-12-05T11:34:55.454972Z",
     "iopub.status.idle": "2023-12-05T11:34:55.986383Z",
     "shell.execute_reply": "2023-12-05T11:34:55.985108Z"
    },
    "papermill": {
     "duration": 0.581329,
     "end_time": "2023-12-05T11:34:55.989087",
     "exception": false,
     "start_time": "2023-12-05T11:34:55.407758",
     "status": "completed"
    },
    "tags": []
   },
   "outputs": [
    {
     "data": {
      "text/plain": [
       "<Axes: xlabel='Pclass', ylabel='Survived'>"
      ]
     },
     "execution_count": 24,
     "metadata": {},
     "output_type": "execute_result"
    },
    {
     "data": {
      "image/png": "[encoded data removed]",
      "text/plain": [
       "<Figure size 640x480 with 1 Axes>"
      ]
     },
     "metadata": {},
     "output_type": "display_data"
    }
   ],
   "source": [
    "sns.barplot(train,x='Pclass',y='Survived')"
   ]
  },
  {
   "cell_type": "markdown",
   "id": "2e91a620",
   "metadata": {
    "papermill": {
     "duration": 0.044929,
     "end_time": "2023-12-05T11:34:56.080675",
     "exception": false,
     "start_time": "2023-12-05T11:34:56.035746",
     "status": "completed"
    },
    "tags": []
   },
   "source": [
    "## Sex"
   ]
  },
  {
   "cell_type": "code",
   "execution_count": 25,
   "id": "cf77cade",
   "metadata": {
    "execution": {
     "iopub.execute_input": "2023-12-05T11:34:56.176399Z",
     "iopub.status.busy": "2023-12-05T11:34:56.175628Z",
     "iopub.status.idle": "2023-12-05T11:34:56.186306Z",
     "shell.execute_reply": "2023-12-05T11:34:56.185126Z"
    },
    "papermill": {
     "duration": 0.061405,
     "end_time": "2023-12-05T11:34:56.188890",
     "exception": false,
     "start_time": "2023-12-05T11:34:56.127485",
     "status": "completed"
    },
    "tags": []
   },
   "outputs": [
    {
     "data": {
      "text/plain": [
       "Sex\n",
       "female    0.742038\n",
       "male      0.188908\n",
       "Name: Survived, dtype: float64"
      ]
     },
     "execution_count": 25,
     "metadata": {},
     "output_type": "execute_result"
    }
   ],
   "source": [
    "train.groupby(['Sex'])['Survived'].mean()"
   ]
  },
  {
   "cell_type": "code",
   "execution_count": 39,
   "id": "cb1e0c76",
   "metadata": {
    "execution": {
     "iopub.execute_input": "2023-12-05T11:34:56.285338Z",
     "iopub.status.busy": "2023-12-05T11:34:56.284440Z",
     "iopub.status.idle": "2023-12-05T11:34:56.632119Z",
     "shell.execute_reply": "2023-12-05T11:34:56.630737Z"
    },
    "papermill": {
     "duration": 0.400225,
     "end_time": "2023-12-05T11:34:56.634817",
     "exception": false,
     "start_time": "2023-12-05T11:34:56.234592",
     "status": "completed"
    },
    "tags": []
   },
   "outputs": [
    {
     "data": {
      "text/plain": [
       "<Axes: xlabel='Sex', ylabel='Survived'>"
      ]
     },
     "execution_count": 39,
     "metadata": {},
     "output_type": "execute_result"
    },
    {
     "data": {
      "image/png": "[encoded data removed]",
      "text/plain": [
       "<Figure size 640x480 with 1 Axes>"
      ]
     },
     "metadata": {},
     "output_type": "display_data"
    }
   ],
   "source": [
    "sns.barplot(train,x='Sex',y='Survived')"
   ]
  },
  {
   "cell_type": "code",
   "execution_count": 40,
   "id": "f2a3b1a5",
   "metadata": {
    "execution": {
     "iopub.execute_input": "2023-12-05T11:34:56.731993Z",
     "iopub.status.busy": "2023-12-05T11:34:56.731101Z",
     "iopub.status.idle": "2023-12-05T11:34:56.756346Z",
     "shell.execute_reply": "2023-12-05T11:34:56.755056Z"
    },
    "papermill": {
     "duration": 0.078682,
     "end_time": "2023-12-05T11:34:56.759757",
     "exception": false,
     "start_time": "2023-12-05T11:34:56.681075",
     "status": "completed"
    },
    "tags": []
   },
   "outputs": [
    {
     "data": {
      "text/html": [
       "<div>\n",
       "<style scoped>\n",
       "    .dataframe tbody tr th:only-of-type {\n",
       "        vertical-align: middle;\n",
       "    }\n",
       "\n",
       "    .dataframe tbody tr th {\n",
       "        vertical-align: top;\n",
       "    }\n",
       "\n",
       "    .dataframe thead th {\n",
       "        text-align: right;\n",
       "    }\n",
       "</style>\n",
       "<table border=\"1\" class=\"dataframe\">\n",
       "  <thead>\n",
       "    <tr style=\"text-align: right;\">\n",
       "      <th></th>\n",
       "      <th>PassengerId</th>\n",
       "      <th>Survived</th>\n",
       "      <th>Pclass</th>\n",
       "      <th>Name</th>\n",
       "      <th>Sex</th>\n",
       "      <th>Age</th>\n",
       "      <th>SibSp</th>\n",
       "      <th>Parch</th>\n",
       "      <th>Ticket</th>\n",
       "      <th>Fare</th>\n",
       "      <th>Embarked</th>\n",
       "    </tr>\n",
       "  </thead>\n",
       "  <tbody>\n",
       "    <tr>\n",
       "      <th>0</th>\n",
       "      <td>1</td>\n",
       "      <td>0</td>\n",
       "      <td>3</td>\n",
       "      <td>Braund, Mr. Owen Harris</td>\n",
       "      <td>male</td>\n",
       "      <td>22.0</td>\n",
       "      <td>1</td>\n",
       "      <td>0</td>\n",
       "      <td>A/5 21171</td>\n",
       "      <td>7.2500</td>\n",
       "      <td>S</td>\n",
       "    </tr>\n",
       "    <tr>\n",
       "      <th>1</th>\n",
       "      <td>2</td>\n",
       "      <td>1</td>\n",
       "      <td>1</td>\n",
       "      <td>Cumings, Mrs. John Bradley (Florence Briggs Th...</td>\n",
       "      <td>female</td>\n",
       "      <td>38.0</td>\n",
       "      <td>1</td>\n",
       "      <td>0</td>\n",
       "      <td>PC 17599</td>\n",
       "      <td>71.2833</td>\n",
       "      <td>C</td>\n",
       "    </tr>\n",
       "    <tr>\n",
       "      <th>2</th>\n",
       "      <td>3</td>\n",
       "      <td>1</td>\n",
       "      <td>3</td>\n",
       "      <td>Heikkinen, Miss. Laina</td>\n",
       "      <td>female</td>\n",
       "      <td>26.0</td>\n",
       "      <td>0</td>\n",
       "      <td>0</td>\n",
       "      <td>STON/O2. 3101282</td>\n",
       "      <td>7.9250</td>\n",
       "      <td>S</td>\n",
       "    </tr>\n",
       "    <tr>\n",
       "      <th>3</th>\n",
       "      <td>4</td>\n",
       "      <td>1</td>\n",
       "      <td>1</td>\n",
       "      <td>Futrelle, Mrs. Jacques Heath (Lily May Peel)</td>\n",
       "      <td>female</td>\n",
       "      <td>35.0</td>\n",
       "      <td>1</td>\n",
       "      <td>0</td>\n",
       "      <td>113803</td>\n",
       "      <td>53.1000</td>\n",
       "      <td>S</td>\n",
       "    </tr>\n",
       "    <tr>\n",
       "      <th>4</th>\n",
       "      <td>5</td>\n",
       "      <td>0</td>\n",
       "      <td>3</td>\n",
       "      <td>Allen, Mr. William Henry</td>\n",
       "      <td>male</td>\n",
       "      <td>35.0</td>\n",
       "      <td>0</td>\n",
       "      <td>0</td>\n",
       "      <td>373450</td>\n",
       "      <td>8.0500</td>\n",
       "      <td>S</td>\n",
       "    </tr>\n",
       "    <tr>\n",
       "      <th>...</th>\n",
       "      <td>...</td>\n",
       "      <td>...</td>\n",
       "      <td>...</td>\n",
       "      <td>...</td>\n",
       "      <td>...</td>\n",
       "      <td>...</td>\n",
       "      <td>...</td>\n",
       "      <td>...</td>\n",
       "      <td>...</td>\n",
       "      <td>...</td>\n",
       "      <td>...</td>\n",
       "    </tr>\n",
       "    <tr>\n",
       "      <th>886</th>\n",
       "      <td>887</td>\n",
       "      <td>0</td>\n",
       "      <td>2</td>\n",
       "      <td>Montvila, Rev. Juozas</td>\n",
       "      <td>male</td>\n",
       "      <td>27.0</td>\n",
       "      <td>0</td>\n",
       "      <td>0</td>\n",
       "      <td>211536</td>\n",
       "      <td>13.0000</td>\n",
       "      <td>S</td>\n",
       "    </tr>\n",
       "    <tr>\n",
       "      <th>887</th>\n",
       "      <td>888</td>\n",
       "      <td>1</td>\n",
       "      <td>1</td>\n",
       "      <td>Graham, Miss. Margaret Edith</td>\n",
       "      <td>female</td>\n",
       "      <td>19.0</td>\n",
       "      <td>0</td>\n",
       "      <td>0</td>\n",
       "      <td>112053</td>\n",
       "      <td>30.0000</td>\n",
       "      <td>S</td>\n",
       "    </tr>\n",
       "    <tr>\n",
       "      <th>888</th>\n",
       "      <td>889</td>\n",
       "      <td>0</td>\n",
       "      <td>3</td>\n",
       "      <td>Johnston, Miss. Catherine Helen \"Carrie\"</td>\n",
       "      <td>female</td>\n",
       "      <td>25.0</td>\n",
       "      <td>1</td>\n",
       "      <td>2</td>\n",
       "      <td>W./C. 6607</td>\n",
       "      <td>23.4500</td>\n",
       "      <td>S</td>\n",
       "    </tr>\n",
       "    <tr>\n",
       "      <th>889</th>\n",
       "      <td>890</td>\n",
       "      <td>1</td>\n",
       "      <td>1</td>\n",
       "      <td>Behr, Mr. Karl Howell</td>\n",
       "      <td>male</td>\n",
       "      <td>26.0</td>\n",
       "      <td>0</td>\n",
       "      <td>0</td>\n",
       "      <td>111369</td>\n",
       "      <td>30.0000</td>\n",
       "      <td>C</td>\n",
       "    </tr>\n",
       "    <tr>\n",
       "      <th>890</th>\n",
       "      <td>891</td>\n",
       "      <td>0</td>\n",
       "      <td>3</td>\n",
       "      <td>Dooley, Mr. Patrick</td>\n",
       "      <td>male</td>\n",
       "      <td>32.0</td>\n",
       "      <td>0</td>\n",
       "      <td>0</td>\n",
       "      <td>370376</td>\n",
       "      <td>7.7500</td>\n",
       "      <td>Q</td>\n",
       "    </tr>\n",
       "  </tbody>\n",
       "</table>\n",
       "<p>891 rows × 11 columns</p>\n",
       "</div>"
      ],
      "text/plain": [
       "     PassengerId  Survived  Pclass  \\\n",
       "0              1         0       3   \n",
       "1              2         1       1   \n",
       "2              3         1       3   \n",
       "3              4         1       1   \n",
       "4              5         0       3   \n",
       "..           ...       ...     ...   \n",
       "886          887         0       2   \n",
       "887          888         1       1   \n",
       "888          889         0       3   \n",
       "889          890         1       1   \n",
       "890          891         0       3   \n",
       "\n",
       "                                                  Name     Sex   Age  SibSp  \\\n",
       "0                              Braund, Mr. Owen Harris    male  22.0      1   \n",
       "1    Cumings, Mrs. John Bradley (Florence Briggs Th...  female  38.0      1   \n",
       "2                               Heikkinen, Miss. Laina  female  26.0      0   \n",
       "3         Futrelle, Mrs. Jacques Heath (Lily May Peel)  female  35.0      1   \n",
       "4                             Allen, Mr. William Henry    male  35.0      0   \n",
       "..                                                 ...     ...   ...    ...   \n",
       "886                              Montvila, Rev. Juozas    male  27.0      0   \n",
       "887                       Graham, Miss. Margaret Edith  female  19.0      0   \n",
       "888           Johnston, Miss. Catherine Helen \"Carrie\"  female  25.0      1   \n",
       "889                              Behr, Mr. Karl Howell    male  26.0      0   \n",
       "890                                Dooley, Mr. Patrick    male  32.0      0   \n",
       "\n",
       "     Parch            Ticket     Fare Embarked  \n",
       "0        0         A/5 21171   7.2500        S  \n",
       "1        0          PC 17599  71.2833        C  \n",
       "2        0  STON/O2. 3101282   7.9250        S  \n",
       "3        0            113803  53.1000        S  \n",
       "4        0            373450   8.0500        S  \n",
       "..     ...               ...      ...      ...  \n",
       "886      0            211536  13.0000        S  \n",
       "887      0            112053  30.0000        S  \n",
       "888      2        W./C. 6607  23.4500        S  \n",
       "889      0            111369  30.0000        C  \n",
       "890      0            370376   7.7500        Q  \n",
       "\n",
       "[891 rows x 11 columns]"
      ]
     },
     "execution_count": 40,
     "metadata": {},
     "output_type": "execute_result"
    }
   ],
   "source": [
    "train"
   ]
  },
  {
   "cell_type": "markdown",
   "id": "3d5ddd7c",
   "metadata": {
    "papermill": {
     "duration": 0.046092,
     "end_time": "2023-12-05T11:34:56.853474",
     "exception": false,
     "start_time": "2023-12-05T11:34:56.807382",
     "status": "completed"
    },
    "tags": []
   },
   "source": [
    "## Embarked"
   ]
  },
  {
   "cell_type": "code",
   "execution_count": 41,
   "id": "ae46b9b6",
   "metadata": {
    "execution": {
     "iopub.execute_input": "2023-12-05T11:34:56.949087Z",
     "iopub.status.busy": "2023-12-05T11:34:56.948314Z",
     "iopub.status.idle": "2023-12-05T11:34:56.959148Z",
     "shell.execute_reply": "2023-12-05T11:34:56.957907Z"
    },
    "papermill": {
     "duration": 0.061671,
     "end_time": "2023-12-05T11:34:56.961711",
     "exception": false,
     "start_time": "2023-12-05T11:34:56.900040",
     "status": "completed"
    },
    "tags": []
   },
   "outputs": [
    {
     "data": {
      "text/plain": [
       "Embarked\n",
       "C    0.553571\n",
       "Q    0.389610\n",
       "S    0.339009\n",
       "Name: Survived, dtype: float64"
      ]
     },
     "execution_count": 41,
     "metadata": {},
     "output_type": "execute_result"
    }
   ],
   "source": [
    "train.groupby(['Embarked'])['Survived'].mean()"
   ]
  },
  {
   "cell_type": "code",
   "execution_count": 42,
   "id": "c4e7342d",
   "metadata": {
    "execution": {
     "iopub.execute_input": "2023-12-05T11:34:57.058582Z",
     "iopub.status.busy": "2023-12-05T11:34:57.057782Z",
     "iopub.status.idle": "2023-12-05T11:34:57.433288Z",
     "shell.execute_reply": "2023-12-05T11:34:57.432301Z"
    },
    "papermill": {
     "duration": 0.427123,
     "end_time": "2023-12-05T11:34:57.435962",
     "exception": false,
     "start_time": "2023-12-05T11:34:57.008839",
     "status": "completed"
    },
    "tags": []
   },
   "outputs": [
    {
     "data": {
      "text/plain": [
       "<Axes: xlabel='Embarked', ylabel='Survived'>"
      ]
     },
     "execution_count": 42,
     "metadata": {},
     "output_type": "execute_result"
    },
    {
     "data": {
      "image/png": "[encoded data removed]",
      "text/plain": [
       "<Figure size 640x480 with 1 Axes>"
      ]
     },
     "metadata": {},
     "output_type": "display_data"
    }
   ],
   "source": [
    "sns.barplot(train,x='Embarked',y='Survived')"
   ]
  },
  {
   "cell_type": "code",
   "execution_count": 43,
   "id": "c22aaeda",
   "metadata": {
    "execution": {
     "iopub.execute_input": "2023-12-05T11:34:57.535562Z",
     "iopub.status.busy": "2023-12-05T11:34:57.534473Z",
     "iopub.status.idle": "2023-12-05T11:34:57.543949Z",
     "shell.execute_reply": "2023-12-05T11:34:57.542668Z"
    },
    "papermill": {
     "duration": 0.062519,
     "end_time": "2023-12-05T11:34:57.546834",
     "exception": false,
     "start_time": "2023-12-05T11:34:57.484315",
     "status": "completed"
    },
    "tags": []
   },
   "outputs": [
    {
     "data": {
      "text/plain": [
       "Index(['PassengerId', 'Survived', 'Pclass', 'Name', 'Sex', 'Age', 'SibSp',\n",
       "       'Parch', 'Ticket', 'Fare', 'Embarked'],\n",
       "      dtype='object')"
      ]
     },
     "execution_count": 43,
     "metadata": {},
     "output_type": "execute_result"
    }
   ],
   "source": [
    "train.columns"
   ]
  },
  {
   "cell_type": "markdown",
   "id": "d2661421",
   "metadata": {
    "papermill": {
     "duration": 0.0472,
     "end_time": "2023-12-05T11:34:57.642674",
     "exception": false,
     "start_time": "2023-12-05T11:34:57.595474",
     "status": "completed"
    },
    "tags": []
   },
   "source": [
    "## Age"
   ]
  },
  {
   "cell_type": "code",
   "execution_count": 26,
   "id": "aef08897",
   "metadata": {
    "execution": {
     "iopub.execute_input": "2023-12-05T11:34:57.743107Z",
     "iopub.status.busy": "2023-12-05T11:34:57.742582Z",
     "iopub.status.idle": "2023-12-05T11:34:58.346577Z",
     "shell.execute_reply": "2023-12-05T11:34:58.345255Z"
    },
    "papermill": {
     "duration": 0.658208,
     "end_time": "2023-12-05T11:34:58.349672",
     "exception": false,
     "start_time": "2023-12-05T11:34:57.691464",
     "status": "completed"
    },
    "tags": []
   },
   "outputs": [
    {
     "name": "stderr",
     "output_type": "stream",
     "text": [
      "C:\\Users\\Sanjay\\anaconda3\\Lib\\site-packages\\seaborn\\axisgrid.py:118: UserWarning: The figure layout has changed to tight\n",
      "  self._figure.tight_layout(*args, **kwargs)\n"
     ]
    },
    {
     "data": {
      "text/plain": [
       "<seaborn.axisgrid.FacetGrid at 0x2923e9a1dd0>"
      ]
     },
     "execution_count": 26,
     "metadata": {},
     "output_type": "execute_result"
    },
    {
     "data": {
      "image/png": "[encoded data removed]",
      "text/plain": [
       "<Figure size 500x500 with 1 Axes>"
      ]
     },
     "metadata": {},
     "output_type": "display_data"
    }
   ],
   "source": [
    "sns.displot(train['Age'],kde=True)"
   ]
  },
  {
   "cell_type": "code",
   "execution_count": 28,
   "id": "eeb6ff96",
   "metadata": {
    "execution": {
     "iopub.execute_input": "2023-12-05T11:34:58.450092Z",
     "iopub.status.busy": "2023-12-05T11:34:58.448902Z",
     "iopub.status.idle": "2023-12-05T11:34:59.559357Z",
     "shell.execute_reply": "2023-12-05T11:34:59.557793Z"
    },
    "papermill": {
     "duration": 1.162852,
     "end_time": "2023-12-05T11:34:59.562274",
     "exception": false,
     "start_time": "2023-12-05T11:34:58.399422",
     "status": "completed"
    },
    "tags": []
   },
   "outputs": [
    {
     "name": "stderr",
     "output_type": "stream",
     "text": [
      "C:\\Users\\Sanjay\\anaconda3\\Lib\\site-packages\\seaborn\\axisgrid.py:118: UserWarning: The figure layout has changed to tight\n",
      "  self._figure.tight_layout(*args, **kwargs)\n",
      "C:\\Users\\Sanjay\\anaconda3\\Lib\\site-packages\\seaborn\\axisgrid.py:118: UserWarning: The figure layout has changed to tight\n",
      "  self._figure.tight_layout(*args, **kwargs)\n"
     ]
    },
    {
     "data": {
      "text/plain": [
       "<seaborn.axisgrid.FacetGrid at 0x2923f7ffcd0>"
      ]
     },
     "execution_count": 28,
     "metadata": {},
     "output_type": "execute_result"
    },
    {
     "data": {
      "image/png": "[encoded data removed]",
      "text/plain": [
       "<Figure size 500x500 with 1 Axes>"
      ]
     },
     "metadata": {},
     "output_type": "display_data"
    },
    {
     "data": {
      "image/png": "[encoded data removed]",
      "text/plain": [
       "<Figure size 500x500 with 1 Axes>"
      ]
     },
     "metadata": {},
     "output_type": "display_data"
    }
   ],
   "source": [
    "sns.displot(train['Age'][train['Survived']==0],kde=True)\n",
    "sns.displot(train['Age'][train['Survived']==1],kde=True)"
   ]
  },
  {
   "cell_type": "markdown",
   "id": "0cd1a1b5",
   "metadata": {
    "execution": {
     "iopub.execute_input": "2023-11-29T10:06:34.318044Z",
     "iopub.status.busy": "2023-11-29T10:06:34.316681Z",
     "iopub.status.idle": "2023-11-29T10:06:34.323972Z",
     "shell.execute_reply": "2023-11-29T10:06:34.322599Z",
     "shell.execute_reply.started": "2023-11-29T10:06:34.317987Z"
    },
    "papermill": {
     "duration": 0.048873,
     "end_time": "2023-12-05T11:34:59.660528",
     "exception": false,
     "start_time": "2023-12-05T11:34:59.611655",
     "status": "completed"
    },
    "tags": []
   },
   "source": [
    "## Fare"
   ]
  },
  {
   "cell_type": "code",
   "execution_count": 35,
   "id": "7f552a3c",
   "metadata": {
    "execution": {
     "iopub.execute_input": "2023-12-05T11:34:59.763045Z",
     "iopub.status.busy": "2023-12-05T11:34:59.762141Z",
     "iopub.status.idle": "2023-12-05T11:35:00.750707Z",
     "shell.execute_reply": "2023-12-05T11:35:00.749363Z"
    },
    "papermill": {
     "duration": 1.044065,
     "end_time": "2023-12-05T11:35:00.753788",
     "exception": false,
     "start_time": "2023-12-05T11:34:59.709723",
     "status": "completed"
    },
    "tags": []
   },
   "outputs": [
    {
     "name": "stderr",
     "output_type": "stream",
     "text": [
      "C:\\Users\\Sanjay\\anaconda3\\Lib\\site-packages\\seaborn\\axisgrid.py:118: UserWarning: The figure layout has changed to tight\n",
      "  self._figure.tight_layout(*args, **kwargs)\n",
      "C:\\Users\\Sanjay\\anaconda3\\Lib\\site-packages\\seaborn\\axisgrid.py:118: UserWarning: The figure layout has changed to tight\n",
      "  self._figure.tight_layout(*args, **kwargs)\n"
     ]
    },
    {
     "data": {
      "text/plain": [
       "<seaborn.axisgrid.FacetGrid at 0x292408a0450>"
      ]
     },
     "execution_count": 35,
     "metadata": {},
     "output_type": "execute_result"
    },
    {
     "data": {
      "image/png": "[encoded data removed]",
      "text/plain": [
       "<Figure size 500x500 with 1 Axes>"
      ]
     },
     "metadata": {},
     "output_type": "display_data"
    },
    {
     "data": {
      "image/png": "[encoded data removed]",
      "text/plain": [
       "<Figure size 500x500 with 1 Axes>"
      ]
     },
     "metadata": {},
     "output_type": "display_data"
    }
   ],
   "source": [
    "sns.displot(train['Fare'][train['Survived']==0],kde=True)\n",
    "sns.displot(train['Fare'][train['Survived']==1],kde=True)"
   ]
  },
  {
   "cell_type": "markdown",
   "id": "87d929ce",
   "metadata": {
    "papermill": {
     "duration": 0.049873,
     "end_time": "2023-12-05T11:35:00.853876",
     "exception": false,
     "start_time": "2023-12-05T11:35:00.804003",
     "status": "completed"
    },
    "tags": []
   },
   "source": [
    "## Feature Engineering"
   ]
  },
  {
   "cell_type": "markdown",
   "id": "6edc4293",
   "metadata": {
    "papermill": {
     "duration": 0.049794,
     "end_time": "2023-12-05T11:35:00.953840",
     "exception": false,
     "start_time": "2023-12-05T11:35:00.904046",
     "status": "completed"
    },
    "tags": []
   },
   "source": [
    "## Ticket"
   ]
  },
  {
   "cell_type": "code",
   "execution_count": 47,
   "id": "571f2f92",
   "metadata": {
    "execution": {
     "iopub.execute_input": "2023-12-05T11:35:01.059593Z",
     "iopub.status.busy": "2023-12-05T11:35:01.058091Z",
     "iopub.status.idle": "2023-12-05T11:35:01.066910Z",
     "shell.execute_reply": "2023-12-05T11:35:01.065622Z"
    },
    "papermill": {
     "duration": 0.064183,
     "end_time": "2023-12-05T11:35:01.069806",
     "exception": false,
     "start_time": "2023-12-05T11:35:01.005623",
     "status": "completed"
    },
    "tags": []
   },
   "outputs": [],
   "source": [
    "train.drop(columns=['Ticket'],inplace=True)\n",
    "test.drop(columns=['Ticket'],inplace=True)\n"
   ]
  },
  {
   "cell_type": "code",
   "execution_count": 48,
   "id": "e44afe33",
   "metadata": {
    "execution": {
     "iopub.execute_input": "2023-12-05T11:35:01.175541Z",
     "iopub.status.busy": "2023-12-05T11:35:01.174618Z",
     "iopub.status.idle": "2023-12-05T11:35:01.191642Z",
     "shell.execute_reply": "2023-12-05T11:35:01.190706Z"
    },
    "papermill": {
     "duration": 0.072837,
     "end_time": "2023-12-05T11:35:01.194385",
     "exception": false,
     "start_time": "2023-12-05T11:35:01.121548",
     "status": "completed"
    },
    "tags": []
   },
   "outputs": [
    {
     "data": {
      "text/html": [
       "<div>\n",
       "<style scoped>\n",
       "    .dataframe tbody tr th:only-of-type {\n",
       "        vertical-align: middle;\n",
       "    }\n",
       "\n",
       "    .dataframe tbody tr th {\n",
       "        vertical-align: top;\n",
       "    }\n",
       "\n",
       "    .dataframe thead th {\n",
       "        text-align: right;\n",
       "    }\n",
       "</style>\n",
       "<table border=\"1\" class=\"dataframe\">\n",
       "  <thead>\n",
       "    <tr style=\"text-align: right;\">\n",
       "      <th></th>\n",
       "      <th>PassengerId</th>\n",
       "      <th>Survived</th>\n",
       "      <th>Pclass</th>\n",
       "      <th>Name</th>\n",
       "      <th>Sex</th>\n",
       "      <th>Age</th>\n",
       "      <th>SibSp</th>\n",
       "      <th>Parch</th>\n",
       "      <th>Fare</th>\n",
       "      <th>Embarked</th>\n",
       "    </tr>\n",
       "  </thead>\n",
       "  <tbody>\n",
       "    <tr>\n",
       "      <th>0</th>\n",
       "      <td>1</td>\n",
       "      <td>0</td>\n",
       "      <td>3</td>\n",
       "      <td>Braund, Mr. Owen Harris</td>\n",
       "      <td>male</td>\n",
       "      <td>22.0</td>\n",
       "      <td>1</td>\n",
       "      <td>0</td>\n",
       "      <td>7.2500</td>\n",
       "      <td>S</td>\n",
       "    </tr>\n",
       "    <tr>\n",
       "      <th>1</th>\n",
       "      <td>2</td>\n",
       "      <td>1</td>\n",
       "      <td>1</td>\n",
       "      <td>Cumings, Mrs. John Bradley (Florence Briggs Th...</td>\n",
       "      <td>female</td>\n",
       "      <td>38.0</td>\n",
       "      <td>1</td>\n",
       "      <td>0</td>\n",
       "      <td>71.2833</td>\n",
       "      <td>C</td>\n",
       "    </tr>\n",
       "    <tr>\n",
       "      <th>2</th>\n",
       "      <td>3</td>\n",
       "      <td>1</td>\n",
       "      <td>3</td>\n",
       "      <td>Heikkinen, Miss. Laina</td>\n",
       "      <td>female</td>\n",
       "      <td>26.0</td>\n",
       "      <td>0</td>\n",
       "      <td>0</td>\n",
       "      <td>7.9250</td>\n",
       "      <td>S</td>\n",
       "    </tr>\n",
       "    <tr>\n",
       "      <th>3</th>\n",
       "      <td>4</td>\n",
       "      <td>1</td>\n",
       "      <td>1</td>\n",
       "      <td>Futrelle, Mrs. Jacques Heath (Lily May Peel)</td>\n",
       "      <td>female</td>\n",
       "      <td>35.0</td>\n",
       "      <td>1</td>\n",
       "      <td>0</td>\n",
       "      <td>53.1000</td>\n",
       "      <td>S</td>\n",
       "    </tr>\n",
       "    <tr>\n",
       "      <th>4</th>\n",
       "      <td>5</td>\n",
       "      <td>0</td>\n",
       "      <td>3</td>\n",
       "      <td>Allen, Mr. William Henry</td>\n",
       "      <td>male</td>\n",
       "      <td>35.0</td>\n",
       "      <td>0</td>\n",
       "      <td>0</td>\n",
       "      <td>8.0500</td>\n",
       "      <td>S</td>\n",
       "    </tr>\n",
       "  </tbody>\n",
       "</table>\n",
       "</div>"
      ],
      "text/plain": [
       "   PassengerId  Survived  Pclass  \\\n",
       "0            1         0       3   \n",
       "1            2         1       1   \n",
       "2            3         1       3   \n",
       "3            4         1       1   \n",
       "4            5         0       3   \n",
       "\n",
       "                                                Name     Sex   Age  SibSp  \\\n",
       "0                            Braund, Mr. Owen Harris    male  22.0      1   \n",
       "1  Cumings, Mrs. John Bradley (Florence Briggs Th...  female  38.0      1   \n",
       "2                             Heikkinen, Miss. Laina  female  26.0      0   \n",
       "3       Futrelle, Mrs. Jacques Heath (Lily May Peel)  female  35.0      1   \n",
       "4                           Allen, Mr. William Henry    male  35.0      0   \n",
       "\n",
       "   Parch     Fare Embarked  \n",
       "0      0   7.2500        S  \n",
       "1      0  71.2833        C  \n",
       "2      0   7.9250        S  \n",
       "3      0  53.1000        S  \n",
       "4      0   8.0500        S  "
      ]
     },
     "execution_count": 48,
     "metadata": {},
     "output_type": "execute_result"
    }
   ],
   "source": [
    "train.head()"
   ]
  },
  {
   "cell_type": "code",
   "execution_count": 33,
   "id": "216a1548",
   "metadata": {
    "execution": {
     "iopub.execute_input": "2023-12-05T11:35:01.301369Z",
     "iopub.status.busy": "2023-12-05T11:35:01.300460Z",
     "iopub.status.idle": "2023-12-05T11:35:01.310040Z",
     "shell.execute_reply": "2023-12-05T11:35:01.308624Z"
    },
    "papermill": {
     "duration": 0.067046,
     "end_time": "2023-12-05T11:35:01.312694",
     "exception": false,
     "start_time": "2023-12-05T11:35:01.245648",
     "status": "completed"
    },
    "tags": []
   },
   "outputs": [],
   "source": [
    "# making new column Family\n",
    "train['Family'] = train['SibSp'] + train['Parch'] + 1\n",
    "test['Family'] = test['SibSp'] + test['Parch'] + 1"
   ]
  },
  {
   "cell_type": "code",
   "execution_count": 34,
   "id": "e2e5f4ba",
   "metadata": {
    "execution": {
     "iopub.execute_input": "2023-12-05T11:35:01.419627Z",
     "iopub.status.busy": "2023-12-05T11:35:01.419130Z",
     "iopub.status.idle": "2023-12-05T11:35:01.430034Z",
     "shell.execute_reply": "2023-12-05T11:35:01.428571Z"
    },
    "papermill": {
     "duration": 0.066828,
     "end_time": "2023-12-05T11:35:01.432574",
     "exception": false,
     "start_time": "2023-12-05T11:35:01.365746",
     "status": "completed"
    },
    "tags": []
   },
   "outputs": [
    {
     "data": {
      "text/plain": [
       "Family\n",
       "1     537\n",
       "2     161\n",
       "3     102\n",
       "4      29\n",
       "6      22\n",
       "5      15\n",
       "7      12\n",
       "11      7\n",
       "8       6\n",
       "Name: count, dtype: int64"
      ]
     },
     "execution_count": 34,
     "metadata": {},
     "output_type": "execute_result"
    }
   ],
   "source": [
    "train['Family'].value_counts()"
   ]
  },
  {
   "cell_type": "code",
   "execution_count": 51,
   "id": "6770d05f",
   "metadata": {
    "execution": {
     "iopub.execute_input": "2023-12-05T11:35:01.537747Z",
     "iopub.status.busy": "2023-12-05T11:35:01.536974Z",
     "iopub.status.idle": "2023-12-05T11:35:01.546977Z",
     "shell.execute_reply": "2023-12-05T11:35:01.545683Z"
    },
    "papermill": {
     "duration": 0.06562,
     "end_time": "2023-12-05T11:35:01.549923",
     "exception": false,
     "start_time": "2023-12-05T11:35:01.484303",
     "status": "completed"
    },
    "tags": []
   },
   "outputs": [
    {
     "data": {
      "text/plain": [
       "Family\n",
       "1     0.303538\n",
       "2     0.552795\n",
       "3     0.578431\n",
       "4     0.724138\n",
       "5     0.200000\n",
       "6     0.136364\n",
       "7     0.333333\n",
       "8     0.000000\n",
       "11    0.000000\n",
       "Name: Survived, dtype: float64"
      ]
     },
     "execution_count": 51,
     "metadata": {},
     "output_type": "execute_result"
    }
   ],
   "source": [
    "train.groupby(['Family'])['Survived'].mean()"
   ]
  },
  {
   "cell_type": "code",
   "execution_count": 52,
   "id": "bddb25b8",
   "metadata": {
    "execution": {
     "iopub.execute_input": "2023-12-05T11:35:01.656596Z",
     "iopub.status.busy": "2023-12-05T11:35:01.656053Z",
     "iopub.status.idle": "2023-12-05T11:35:02.232275Z",
     "shell.execute_reply": "2023-12-05T11:35:02.230985Z"
    },
    "papermill": {
     "duration": 0.632241,
     "end_time": "2023-12-05T11:35:02.234819",
     "exception": false,
     "start_time": "2023-12-05T11:35:01.602578",
     "status": "completed"
    },
    "tags": []
   },
   "outputs": [
    {
     "data": {
      "text/plain": [
       "<Axes: xlabel='Family', ylabel='Survived'>"
      ]
     },
     "execution_count": 52,
     "metadata": {},
     "output_type": "execute_result"
    },
    {
     "data": {
      "image/png": "[encoded data removed]",
      "text/plain": [
       "<Figure size 640x480 with 1 Axes>"
      ]
     },
     "metadata": {},
     "output_type": "display_data"
    }
   ],
   "source": [
    "sns.barplot(train,x='Family',y='Survived')"
   ]
  },
  {
   "cell_type": "code",
   "execution_count": 53,
   "id": "dd7310fc",
   "metadata": {
    "execution": {
     "iopub.execute_input": "2023-12-05T11:35:02.342670Z",
     "iopub.status.busy": "2023-12-05T11:35:02.341417Z",
     "iopub.status.idle": "2023-12-05T11:35:02.348958Z",
     "shell.execute_reply": "2023-12-05T11:35:02.348040Z"
    },
    "papermill": {
     "duration": 0.064623,
     "end_time": "2023-12-05T11:35:02.351260",
     "exception": false,
     "start_time": "2023-12-05T11:35:02.286637",
     "status": "completed"
    },
    "tags": []
   },
   "outputs": [
    {
     "data": {
      "text/plain": [
       "Index(['PassengerId', 'Survived', 'Pclass', 'Name', 'Sex', 'Age', 'SibSp',\n",
       "       'Parch', 'Fare', 'Embarked', 'Family'],\n",
       "      dtype='object')"
      ]
     },
     "execution_count": 53,
     "metadata": {},
     "output_type": "execute_result"
    }
   ],
   "source": [
    "train.columns"
   ]
  },
  {
   "cell_type": "code",
   "execution_count": 54,
   "id": "e63c5234",
   "metadata": {
    "execution": {
     "iopub.execute_input": "2023-12-05T11:35:02.458018Z",
     "iopub.status.busy": "2023-12-05T11:35:02.457517Z",
     "iopub.status.idle": "2023-12-05T11:35:02.468880Z",
     "shell.execute_reply": "2023-12-05T11:35:02.467581Z"
    },
    "papermill": {
     "duration": 0.068499,
     "end_time": "2023-12-05T11:35:02.471473",
     "exception": false,
     "start_time": "2023-12-05T11:35:02.402974",
     "status": "completed"
    },
    "tags": []
   },
   "outputs": [],
   "source": [
    "train.drop(columns=['SibSp'],inplace=True)\n",
    "test.drop(columns=['SibSp'],inplace=True)\n",
    "train.drop(columns=['Parch'],inplace=True)\n",
    "test.drop(columns=['Parch'],inplace=True)"
   ]
  },
  {
   "cell_type": "code",
   "execution_count": 55,
   "id": "9d579b71",
   "metadata": {
    "execution": {
     "iopub.execute_input": "2023-12-05T11:35:02.580522Z",
     "iopub.status.busy": "2023-12-05T11:35:02.579535Z",
     "iopub.status.idle": "2023-12-05T11:35:02.588343Z",
     "shell.execute_reply": "2023-12-05T11:35:02.586661Z"
    },
    "papermill": {
     "duration": 0.066075,
     "end_time": "2023-12-05T11:35:02.590951",
     "exception": false,
     "start_time": "2023-12-05T11:35:02.524876",
     "status": "completed"
    },
    "tags": []
   },
   "outputs": [
    {
     "data": {
      "text/plain": [
       "Index(['PassengerId', 'Survived', 'Pclass', 'Name', 'Sex', 'Age', 'Fare',\n",
       "       'Embarked', 'Family'],\n",
       "      dtype='object')"
      ]
     },
     "execution_count": 55,
     "metadata": {},
     "output_type": "execute_result"
    }
   ],
   "source": [
    "train.columns"
   ]
  },
  {
   "cell_type": "code",
   "execution_count": 56,
   "id": "951c8452",
   "metadata": {
    "execution": {
     "iopub.execute_input": "2023-12-05T11:35:02.697232Z",
     "iopub.status.busy": "2023-12-05T11:35:02.696267Z",
     "iopub.status.idle": "2023-12-05T11:35:02.714755Z",
     "shell.execute_reply": "2023-12-05T11:35:02.713354Z"
    },
    "papermill": {
     "duration": 0.075032,
     "end_time": "2023-12-05T11:35:02.717623",
     "exception": false,
     "start_time": "2023-12-05T11:35:02.642591",
     "status": "completed"
    },
    "tags": []
   },
   "outputs": [
    {
     "data": {
      "text/html": [
       "<div>\n",
       "<style scoped>\n",
       "    .dataframe tbody tr th:only-of-type {\n",
       "        vertical-align: middle;\n",
       "    }\n",
       "\n",
       "    .dataframe tbody tr th {\n",
       "        vertical-align: top;\n",
       "    }\n",
       "\n",
       "    .dataframe thead th {\n",
       "        text-align: right;\n",
       "    }\n",
       "</style>\n",
       "<table border=\"1\" class=\"dataframe\">\n",
       "  <thead>\n",
       "    <tr style=\"text-align: right;\">\n",
       "      <th></th>\n",
       "      <th>PassengerId</th>\n",
       "      <th>Survived</th>\n",
       "      <th>Pclass</th>\n",
       "      <th>Name</th>\n",
       "      <th>Sex</th>\n",
       "      <th>Age</th>\n",
       "      <th>Fare</th>\n",
       "      <th>Embarked</th>\n",
       "      <th>Family</th>\n",
       "    </tr>\n",
       "  </thead>\n",
       "  <tbody>\n",
       "    <tr>\n",
       "      <th>0</th>\n",
       "      <td>1</td>\n",
       "      <td>0</td>\n",
       "      <td>3</td>\n",
       "      <td>Braund, Mr. Owen Harris</td>\n",
       "      <td>male</td>\n",
       "      <td>22.0</td>\n",
       "      <td>7.2500</td>\n",
       "      <td>S</td>\n",
       "      <td>2</td>\n",
       "    </tr>\n",
       "    <tr>\n",
       "      <th>1</th>\n",
       "      <td>2</td>\n",
       "      <td>1</td>\n",
       "      <td>1</td>\n",
       "      <td>Cumings, Mrs. John Bradley (Florence Briggs Th...</td>\n",
       "      <td>female</td>\n",
       "      <td>38.0</td>\n",
       "      <td>71.2833</td>\n",
       "      <td>C</td>\n",
       "      <td>2</td>\n",
       "    </tr>\n",
       "    <tr>\n",
       "      <th>2</th>\n",
       "      <td>3</td>\n",
       "      <td>1</td>\n",
       "      <td>3</td>\n",
       "      <td>Heikkinen, Miss. Laina</td>\n",
       "      <td>female</td>\n",
       "      <td>26.0</td>\n",
       "      <td>7.9250</td>\n",
       "      <td>S</td>\n",
       "      <td>1</td>\n",
       "    </tr>\n",
       "    <tr>\n",
       "      <th>3</th>\n",
       "      <td>4</td>\n",
       "      <td>1</td>\n",
       "      <td>1</td>\n",
       "      <td>Futrelle, Mrs. Jacques Heath (Lily May Peel)</td>\n",
       "      <td>female</td>\n",
       "      <td>35.0</td>\n",
       "      <td>53.1000</td>\n",
       "      <td>S</td>\n",
       "      <td>2</td>\n",
       "    </tr>\n",
       "    <tr>\n",
       "      <th>4</th>\n",
       "      <td>5</td>\n",
       "      <td>0</td>\n",
       "      <td>3</td>\n",
       "      <td>Allen, Mr. William Henry</td>\n",
       "      <td>male</td>\n",
       "      <td>35.0</td>\n",
       "      <td>8.0500</td>\n",
       "      <td>S</td>\n",
       "      <td>1</td>\n",
       "    </tr>\n",
       "  </tbody>\n",
       "</table>\n",
       "</div>"
      ],
      "text/plain": [
       "   PassengerId  Survived  Pclass  \\\n",
       "0            1         0       3   \n",
       "1            2         1       1   \n",
       "2            3         1       3   \n",
       "3            4         1       1   \n",
       "4            5         0       3   \n",
       "\n",
       "                                                Name     Sex   Age     Fare  \\\n",
       "0                            Braund, Mr. Owen Harris    male  22.0   7.2500   \n",
       "1  Cumings, Mrs. John Bradley (Florence Briggs Th...  female  38.0  71.2833   \n",
       "2                             Heikkinen, Miss. Laina  female  26.0   7.9250   \n",
       "3       Futrelle, Mrs. Jacques Heath (Lily May Peel)  female  35.0  53.1000   \n",
       "4                           Allen, Mr. William Henry    male  35.0   8.0500   \n",
       "\n",
       "  Embarked  Family  \n",
       "0        S       2  \n",
       "1        C       2  \n",
       "2        S       1  \n",
       "3        S       2  \n",
       "4        S       1  "
      ]
     },
     "execution_count": 56,
     "metadata": {},
     "output_type": "execute_result"
    }
   ],
   "source": [
    "train.head()"
   ]
  },
  {
   "cell_type": "code",
   "execution_count": 57,
   "id": "76109235",
   "metadata": {
    "execution": {
     "iopub.execute_input": "2023-12-05T11:35:02.826843Z",
     "iopub.status.busy": "2023-12-05T11:35:02.826379Z",
     "iopub.status.idle": "2023-12-05T11:35:02.832115Z",
     "shell.execute_reply": "2023-12-05T11:35:02.831287Z"
    },
    "papermill": {
     "duration": 0.062685,
     "end_time": "2023-12-05T11:35:02.834167",
     "exception": false,
     "start_time": "2023-12-05T11:35:02.771482",
     "status": "completed"
    },
    "tags": []
   },
   "outputs": [],
   "source": [
    "def cal(number):\n",
    "    if number == 1:\n",
    "        return 'Alone'\n",
    "    elif number>1 and number<5:\n",
    "        return 'Medium'\n",
    "    else:\n",
    "        return 'Large'\n",
    "    "
   ]
  },
  {
   "cell_type": "code",
   "execution_count": 58,
   "id": "f862d523",
   "metadata": {
    "execution": {
     "iopub.execute_input": "2023-12-05T11:35:02.941189Z",
     "iopub.status.busy": "2023-12-05T11:35:02.940688Z",
     "iopub.status.idle": "2023-12-05T11:35:02.947739Z",
     "shell.execute_reply": "2023-12-05T11:35:02.946799Z"
    },
    "papermill": {
     "duration": 0.062809,
     "end_time": "2023-12-05T11:35:02.949971",
     "exception": false,
     "start_time": "2023-12-05T11:35:02.887162",
     "status": "completed"
    },
    "tags": []
   },
   "outputs": [],
   "source": [
    "train['family_size'] = train['Family'].apply(cal)"
   ]
  },
  {
   "cell_type": "code",
   "execution_count": 59,
   "id": "8bf93c46",
   "metadata": {
    "execution": {
     "iopub.execute_input": "2023-12-05T11:35:03.056186Z",
     "iopub.status.busy": "2023-12-05T11:35:03.055360Z",
     "iopub.status.idle": "2023-12-05T11:35:03.062066Z",
     "shell.execute_reply": "2023-12-05T11:35:03.061093Z"
    },
    "papermill": {
     "duration": 0.062941,
     "end_time": "2023-12-05T11:35:03.064644",
     "exception": false,
     "start_time": "2023-12-05T11:35:03.001703",
     "status": "completed"
    },
    "tags": []
   },
   "outputs": [],
   "source": [
    "test['family_size'] = test['Family'].apply(cal)"
   ]
  },
  {
   "cell_type": "code",
   "execution_count": 60,
   "id": "34bc63db",
   "metadata": {
    "execution": {
     "iopub.execute_input": "2023-12-05T11:35:03.172530Z",
     "iopub.status.busy": "2023-12-05T11:35:03.171613Z",
     "iopub.status.idle": "2023-12-05T11:35:03.190706Z",
     "shell.execute_reply": "2023-12-05T11:35:03.189358Z"
    },
    "papermill": {
     "duration": 0.075978,
     "end_time": "2023-12-05T11:35:03.193431",
     "exception": false,
     "start_time": "2023-12-05T11:35:03.117453",
     "status": "completed"
    },
    "tags": []
   },
   "outputs": [
    {
     "data": {
      "text/html": [
       "<div>\n",
       "<style scoped>\n",
       "    .dataframe tbody tr th:only-of-type {\n",
       "        vertical-align: middle;\n",
       "    }\n",
       "\n",
       "    .dataframe tbody tr th {\n",
       "        vertical-align: top;\n",
       "    }\n",
       "\n",
       "    .dataframe thead th {\n",
       "        text-align: right;\n",
       "    }\n",
       "</style>\n",
       "<table border=\"1\" class=\"dataframe\">\n",
       "  <thead>\n",
       "    <tr style=\"text-align: right;\">\n",
       "      <th></th>\n",
       "      <th>PassengerId</th>\n",
       "      <th>Survived</th>\n",
       "      <th>Pclass</th>\n",
       "      <th>Name</th>\n",
       "      <th>Sex</th>\n",
       "      <th>Age</th>\n",
       "      <th>Fare</th>\n",
       "      <th>Embarked</th>\n",
       "      <th>Family</th>\n",
       "      <th>family_size</th>\n",
       "    </tr>\n",
       "  </thead>\n",
       "  <tbody>\n",
       "    <tr>\n",
       "      <th>0</th>\n",
       "      <td>1</td>\n",
       "      <td>0</td>\n",
       "      <td>3</td>\n",
       "      <td>Braund, Mr. Owen Harris</td>\n",
       "      <td>male</td>\n",
       "      <td>22.0</td>\n",
       "      <td>7.2500</td>\n",
       "      <td>S</td>\n",
       "      <td>2</td>\n",
       "      <td>Medium</td>\n",
       "    </tr>\n",
       "    <tr>\n",
       "      <th>1</th>\n",
       "      <td>2</td>\n",
       "      <td>1</td>\n",
       "      <td>1</td>\n",
       "      <td>Cumings, Mrs. John Bradley (Florence Briggs Th...</td>\n",
       "      <td>female</td>\n",
       "      <td>38.0</td>\n",
       "      <td>71.2833</td>\n",
       "      <td>C</td>\n",
       "      <td>2</td>\n",
       "      <td>Medium</td>\n",
       "    </tr>\n",
       "    <tr>\n",
       "      <th>2</th>\n",
       "      <td>3</td>\n",
       "      <td>1</td>\n",
       "      <td>3</td>\n",
       "      <td>Heikkinen, Miss. Laina</td>\n",
       "      <td>female</td>\n",
       "      <td>26.0</td>\n",
       "      <td>7.9250</td>\n",
       "      <td>S</td>\n",
       "      <td>1</td>\n",
       "      <td>Alone</td>\n",
       "    </tr>\n",
       "    <tr>\n",
       "      <th>3</th>\n",
       "      <td>4</td>\n",
       "      <td>1</td>\n",
       "      <td>1</td>\n",
       "      <td>Futrelle, Mrs. Jacques Heath (Lily May Peel)</td>\n",
       "      <td>female</td>\n",
       "      <td>35.0</td>\n",
       "      <td>53.1000</td>\n",
       "      <td>S</td>\n",
       "      <td>2</td>\n",
       "      <td>Medium</td>\n",
       "    </tr>\n",
       "    <tr>\n",
       "      <th>4</th>\n",
       "      <td>5</td>\n",
       "      <td>0</td>\n",
       "      <td>3</td>\n",
       "      <td>Allen, Mr. William Henry</td>\n",
       "      <td>male</td>\n",
       "      <td>35.0</td>\n",
       "      <td>8.0500</td>\n",
       "      <td>S</td>\n",
       "      <td>1</td>\n",
       "      <td>Alone</td>\n",
       "    </tr>\n",
       "  </tbody>\n",
       "</table>\n",
       "</div>"
      ],
      "text/plain": [
       "   PassengerId  Survived  Pclass  \\\n",
       "0            1         0       3   \n",
       "1            2         1       1   \n",
       "2            3         1       3   \n",
       "3            4         1       1   \n",
       "4            5         0       3   \n",
       "\n",
       "                                                Name     Sex   Age     Fare  \\\n",
       "0                            Braund, Mr. Owen Harris    male  22.0   7.2500   \n",
       "1  Cumings, Mrs. John Bradley (Florence Briggs Th...  female  38.0  71.2833   \n",
       "2                             Heikkinen, Miss. Laina  female  26.0   7.9250   \n",
       "3       Futrelle, Mrs. Jacques Heath (Lily May Peel)  female  35.0  53.1000   \n",
       "4                           Allen, Mr. William Henry    male  35.0   8.0500   \n",
       "\n",
       "  Embarked  Family family_size  \n",
       "0        S       2      Medium  \n",
       "1        C       2      Medium  \n",
       "2        S       1       Alone  \n",
       "3        S       2      Medium  \n",
       "4        S       1       Alone  "
      ]
     },
     "execution_count": 60,
     "metadata": {},
     "output_type": "execute_result"
    }
   ],
   "source": [
    "train.head()"
   ]
  },
  {
   "cell_type": "code",
   "execution_count": 61,
   "id": "509af9bd",
   "metadata": {
    "execution": {
     "iopub.execute_input": "2023-12-05T11:35:03.312096Z",
     "iopub.status.busy": "2023-12-05T11:35:03.311551Z",
     "iopub.status.idle": "2023-12-05T11:35:03.318841Z",
     "shell.execute_reply": "2023-12-05T11:35:03.317611Z"
    },
    "papermill": {
     "duration": 0.067336,
     "end_time": "2023-12-05T11:35:03.321348",
     "exception": false,
     "start_time": "2023-12-05T11:35:03.254012",
     "status": "completed"
    },
    "tags": []
   },
   "outputs": [],
   "source": [
    "train.drop(columns=['Family'],inplace=True)"
   ]
  },
  {
   "cell_type": "code",
   "execution_count": 62,
   "id": "9dce5586",
   "metadata": {
    "execution": {
     "iopub.execute_input": "2023-12-05T11:35:03.456972Z",
     "iopub.status.busy": "2023-12-05T11:35:03.456487Z",
     "iopub.status.idle": "2023-12-05T11:35:03.464123Z",
     "shell.execute_reply": "2023-12-05T11:35:03.462723Z"
    },
    "papermill": {
     "duration": 0.078491,
     "end_time": "2023-12-05T11:35:03.467230",
     "exception": false,
     "start_time": "2023-12-05T11:35:03.388739",
     "status": "completed"
    },
    "tags": []
   },
   "outputs": [],
   "source": [
    "test.drop(columns=['Family'],inplace=True)"
   ]
  },
  {
   "cell_type": "code",
   "execution_count": 63,
   "id": "10416e72",
   "metadata": {
    "execution": {
     "iopub.execute_input": "2023-12-05T11:35:03.579409Z",
     "iopub.status.busy": "2023-12-05T11:35:03.578285Z",
     "iopub.status.idle": "2023-12-05T11:35:03.598092Z",
     "shell.execute_reply": "2023-12-05T11:35:03.596778Z"
    },
    "papermill": {
     "duration": 0.080667,
     "end_time": "2023-12-05T11:35:03.600927",
     "exception": false,
     "start_time": "2023-12-05T11:35:03.520260",
     "status": "completed"
    },
    "tags": []
   },
   "outputs": [
    {
     "data": {
      "text/html": [
       "<div>\n",
       "<style scoped>\n",
       "    .dataframe tbody tr th:only-of-type {\n",
       "        vertical-align: middle;\n",
       "    }\n",
       "\n",
       "    .dataframe tbody tr th {\n",
       "        vertical-align: top;\n",
       "    }\n",
       "\n",
       "    .dataframe thead th {\n",
       "        text-align: right;\n",
       "    }\n",
       "</style>\n",
       "<table border=\"1\" class=\"dataframe\">\n",
       "  <thead>\n",
       "    <tr style=\"text-align: right;\">\n",
       "      <th></th>\n",
       "      <th>PassengerId</th>\n",
       "      <th>Pclass</th>\n",
       "      <th>Name</th>\n",
       "      <th>Sex</th>\n",
       "      <th>Age</th>\n",
       "      <th>Fare</th>\n",
       "      <th>Embarked</th>\n",
       "      <th>family_size</th>\n",
       "    </tr>\n",
       "  </thead>\n",
       "  <tbody>\n",
       "    <tr>\n",
       "      <th>0</th>\n",
       "      <td>892</td>\n",
       "      <td>3</td>\n",
       "      <td>Kelly, Mr. James</td>\n",
       "      <td>male</td>\n",
       "      <td>34.5</td>\n",
       "      <td>7.8292</td>\n",
       "      <td>Q</td>\n",
       "      <td>Alone</td>\n",
       "    </tr>\n",
       "    <tr>\n",
       "      <th>1</th>\n",
       "      <td>893</td>\n",
       "      <td>3</td>\n",
       "      <td>Wilkes, Mrs. James (Ellen Needs)</td>\n",
       "      <td>female</td>\n",
       "      <td>47.0</td>\n",
       "      <td>7.0000</td>\n",
       "      <td>S</td>\n",
       "      <td>Medium</td>\n",
       "    </tr>\n",
       "    <tr>\n",
       "      <th>2</th>\n",
       "      <td>894</td>\n",
       "      <td>2</td>\n",
       "      <td>Myles, Mr. Thomas Francis</td>\n",
       "      <td>male</td>\n",
       "      <td>62.0</td>\n",
       "      <td>9.6875</td>\n",
       "      <td>Q</td>\n",
       "      <td>Alone</td>\n",
       "    </tr>\n",
       "    <tr>\n",
       "      <th>3</th>\n",
       "      <td>895</td>\n",
       "      <td>3</td>\n",
       "      <td>Wirz, Mr. Albert</td>\n",
       "      <td>male</td>\n",
       "      <td>27.0</td>\n",
       "      <td>8.6625</td>\n",
       "      <td>S</td>\n",
       "      <td>Alone</td>\n",
       "    </tr>\n",
       "    <tr>\n",
       "      <th>4</th>\n",
       "      <td>896</td>\n",
       "      <td>3</td>\n",
       "      <td>Hirvonen, Mrs. Alexander (Helga E Lindqvist)</td>\n",
       "      <td>female</td>\n",
       "      <td>22.0</td>\n",
       "      <td>12.2875</td>\n",
       "      <td>S</td>\n",
       "      <td>Medium</td>\n",
       "    </tr>\n",
       "  </tbody>\n",
       "</table>\n",
       "</div>"
      ],
      "text/plain": [
       "   PassengerId  Pclass                                          Name     Sex  \\\n",
       "0          892       3                              Kelly, Mr. James    male   \n",
       "1          893       3              Wilkes, Mrs. James (Ellen Needs)  female   \n",
       "2          894       2                     Myles, Mr. Thomas Francis    male   \n",
       "3          895       3                              Wirz, Mr. Albert    male   \n",
       "4          896       3  Hirvonen, Mrs. Alexander (Helga E Lindqvist)  female   \n",
       "\n",
       "    Age     Fare Embarked family_size  \n",
       "0  34.5   7.8292        Q       Alone  \n",
       "1  47.0   7.0000        S      Medium  \n",
       "2  62.0   9.6875        Q       Alone  \n",
       "3  27.0   8.6625        S       Alone  \n",
       "4  22.0  12.2875        S      Medium  "
      ]
     },
     "execution_count": 63,
     "metadata": {},
     "output_type": "execute_result"
    }
   ],
   "source": [
    "test.head()"
   ]
  },
  {
   "cell_type": "code",
   "execution_count": 64,
   "id": "10dc93c2",
   "metadata": {
    "execution": {
     "iopub.execute_input": "2023-12-05T11:35:03.710192Z",
     "iopub.status.busy": "2023-12-05T11:35:03.709707Z",
     "iopub.status.idle": "2023-12-05T11:35:03.718035Z",
     "shell.execute_reply": "2023-12-05T11:35:03.716766Z"
    },
    "papermill": {
     "duration": 0.065302,
     "end_time": "2023-12-05T11:35:03.720841",
     "exception": false,
     "start_time": "2023-12-05T11:35:03.655539",
     "status": "completed"
    },
    "tags": []
   },
   "outputs": [
    {
     "data": {
      "text/plain": [
       "(891, 9)"
      ]
     },
     "execution_count": 64,
     "metadata": {},
     "output_type": "execute_result"
    }
   ],
   "source": [
    "train.shape"
   ]
  },
  {
   "cell_type": "code",
   "execution_count": 65,
   "id": "74a834b3",
   "metadata": {
    "execution": {
     "iopub.execute_input": "2023-12-05T11:35:03.830888Z",
     "iopub.status.busy": "2023-12-05T11:35:03.830320Z",
     "iopub.status.idle": "2023-12-05T11:35:03.838723Z",
     "shell.execute_reply": "2023-12-05T11:35:03.837414Z"
    },
    "papermill": {
     "duration": 0.065751,
     "end_time": "2023-12-05T11:35:03.841296",
     "exception": false,
     "start_time": "2023-12-05T11:35:03.775545",
     "status": "completed"
    },
    "tags": []
   },
   "outputs": [
    {
     "data": {
      "text/plain": [
       "(418, 8)"
      ]
     },
     "execution_count": 65,
     "metadata": {},
     "output_type": "execute_result"
    }
   ],
   "source": [
    "test.shape"
   ]
  },
  {
   "cell_type": "code",
   "execution_count": 66,
   "id": "9136a4b7",
   "metadata": {
    "execution": {
     "iopub.execute_input": "2023-12-05T11:35:03.951192Z",
     "iopub.status.busy": "2023-12-05T11:35:03.950749Z",
     "iopub.status.idle": "2023-12-05T11:35:03.955890Z",
     "shell.execute_reply": "2023-12-05T11:35:03.954730Z"
    },
    "papermill": {
     "duration": 0.062552,
     "end_time": "2023-12-05T11:35:03.958252",
     "exception": false,
     "start_time": "2023-12-05T11:35:03.895700",
     "status": "completed"
    },
    "tags": []
   },
   "outputs": [],
   "source": [
    "PassengerID = test['PassengerId'].values"
   ]
  },
  {
   "cell_type": "code",
   "execution_count": 67,
   "id": "ded47985",
   "metadata": {
    "execution": {
     "iopub.execute_input": "2023-12-05T11:35:04.066291Z",
     "iopub.status.busy": "2023-12-05T11:35:04.065815Z",
     "iopub.status.idle": "2023-12-05T11:35:04.074616Z",
     "shell.execute_reply": "2023-12-05T11:35:04.073388Z"
    },
    "papermill": {
     "duration": 0.066013,
     "end_time": "2023-12-05T11:35:04.077143",
     "exception": false,
     "start_time": "2023-12-05T11:35:04.011130",
     "status": "completed"
    },
    "tags": []
   },
   "outputs": [],
   "source": [
    "train.drop(columns=['Name','PassengerId'],inplace=True)\n",
    "test.drop(columns=['Name','PassengerId'],inplace=True)"
   ]
  },
  {
   "cell_type": "code",
   "execution_count": 68,
   "id": "9a446b80",
   "metadata": {
    "execution": {
     "iopub.execute_input": "2023-12-05T11:35:04.185889Z",
     "iopub.status.busy": "2023-12-05T11:35:04.185365Z",
     "iopub.status.idle": "2023-12-05T11:35:04.202979Z",
     "shell.execute_reply": "2023-12-05T11:35:04.201782Z"
    },
    "papermill": {
     "duration": 0.075346,
     "end_time": "2023-12-05T11:35:04.205732",
     "exception": false,
     "start_time": "2023-12-05T11:35:04.130386",
     "status": "completed"
    },
    "tags": []
   },
   "outputs": [
    {
     "data": {
      "text/html": [
       "<div>\n",
       "<style scoped>\n",
       "    .dataframe tbody tr th:only-of-type {\n",
       "        vertical-align: middle;\n",
       "    }\n",
       "\n",
       "    .dataframe tbody tr th {\n",
       "        vertical-align: top;\n",
       "    }\n",
       "\n",
       "    .dataframe thead th {\n",
       "        text-align: right;\n",
       "    }\n",
       "</style>\n",
       "<table border=\"1\" class=\"dataframe\">\n",
       "  <thead>\n",
       "    <tr style=\"text-align: right;\">\n",
       "      <th></th>\n",
       "      <th>Survived</th>\n",
       "      <th>Pclass</th>\n",
       "      <th>Sex</th>\n",
       "      <th>Age</th>\n",
       "      <th>Fare</th>\n",
       "      <th>Embarked</th>\n",
       "      <th>family_size</th>\n",
       "    </tr>\n",
       "  </thead>\n",
       "  <tbody>\n",
       "    <tr>\n",
       "      <th>0</th>\n",
       "      <td>0</td>\n",
       "      <td>3</td>\n",
       "      <td>male</td>\n",
       "      <td>22.0</td>\n",
       "      <td>7.2500</td>\n",
       "      <td>S</td>\n",
       "      <td>Medium</td>\n",
       "    </tr>\n",
       "    <tr>\n",
       "      <th>1</th>\n",
       "      <td>1</td>\n",
       "      <td>1</td>\n",
       "      <td>female</td>\n",
       "      <td>38.0</td>\n",
       "      <td>71.2833</td>\n",
       "      <td>C</td>\n",
       "      <td>Medium</td>\n",
       "    </tr>\n",
       "    <tr>\n",
       "      <th>2</th>\n",
       "      <td>1</td>\n",
       "      <td>3</td>\n",
       "      <td>female</td>\n",
       "      <td>26.0</td>\n",
       "      <td>7.9250</td>\n",
       "      <td>S</td>\n",
       "      <td>Alone</td>\n",
       "    </tr>\n",
       "    <tr>\n",
       "      <th>3</th>\n",
       "      <td>1</td>\n",
       "      <td>1</td>\n",
       "      <td>female</td>\n",
       "      <td>35.0</td>\n",
       "      <td>53.1000</td>\n",
       "      <td>S</td>\n",
       "      <td>Medium</td>\n",
       "    </tr>\n",
       "    <tr>\n",
       "      <th>4</th>\n",
       "      <td>0</td>\n",
       "      <td>3</td>\n",
       "      <td>male</td>\n",
       "      <td>35.0</td>\n",
       "      <td>8.0500</td>\n",
       "      <td>S</td>\n",
       "      <td>Alone</td>\n",
       "    </tr>\n",
       "  </tbody>\n",
       "</table>\n",
       "</div>"
      ],
      "text/plain": [
       "   Survived  Pclass     Sex   Age     Fare Embarked family_size\n",
       "0         0       3    male  22.0   7.2500        S      Medium\n",
       "1         1       1  female  38.0  71.2833        C      Medium\n",
       "2         1       3  female  26.0   7.9250        S       Alone\n",
       "3         1       1  female  35.0  53.1000        S      Medium\n",
       "4         0       3    male  35.0   8.0500        S       Alone"
      ]
     },
     "execution_count": 68,
     "metadata": {},
     "output_type": "execute_result"
    }
   ],
   "source": [
    "train.head()"
   ]
  },
  {
   "cell_type": "markdown",
   "id": "a4c74afe",
   "metadata": {
    "papermill": {
     "duration": 0.055858,
     "end_time": "2023-12-05T11:35:04.315217",
     "exception": false,
     "start_time": "2023-12-05T11:35:04.259359",
     "status": "completed"
    },
    "tags": []
   },
   "source": [
    "# Feature Encoding"
   ]
  },
  {
   "cell_type": "code",
   "execution_count": 69,
   "id": "0d8f4318",
   "metadata": {
    "execution": {
     "iopub.execute_input": "2023-12-05T11:35:04.426114Z",
     "iopub.status.busy": "2023-12-05T11:35:04.425637Z",
     "iopub.status.idle": "2023-12-05T11:35:04.438854Z",
     "shell.execute_reply": "2023-12-05T11:35:04.437586Z"
    },
    "papermill": {
     "duration": 0.073333,
     "end_time": "2023-12-05T11:35:04.441860",
     "exception": false,
     "start_time": "2023-12-05T11:35:04.368527",
     "status": "completed"
    },
    "tags": []
   },
   "outputs": [],
   "source": [
    "train = pd.get_dummies(train,columns=['Pclass','Sex','Embarked','family_size'],drop_first=True,dtype=int)"
   ]
  },
  {
   "cell_type": "code",
   "execution_count": 70,
   "id": "bb89485a",
   "metadata": {
    "execution": {
     "iopub.execute_input": "2023-12-05T11:35:04.551708Z",
     "iopub.status.busy": "2023-12-05T11:35:04.551153Z",
     "iopub.status.idle": "2023-12-05T11:35:04.564566Z",
     "shell.execute_reply": "2023-12-05T11:35:04.563418Z"
    },
    "papermill": {
     "duration": 0.071843,
     "end_time": "2023-12-05T11:35:04.567565",
     "exception": false,
     "start_time": "2023-12-05T11:35:04.495722",
     "status": "completed"
    },
    "tags": []
   },
   "outputs": [],
   "source": [
    "test = pd.get_dummies(test,columns=['Pclass','Sex','Embarked','family_size'],drop_first=True,dtype=int)"
   ]
  },
  {
   "cell_type": "code",
   "execution_count": 71,
   "id": "d78fe6d1",
   "metadata": {
    "execution": {
     "iopub.execute_input": "2023-12-05T11:35:04.677905Z",
     "iopub.status.busy": "2023-12-05T11:35:04.676857Z",
     "iopub.status.idle": "2023-12-05T11:35:04.699584Z",
     "shell.execute_reply": "2023-12-05T11:35:04.698356Z"
    },
    "papermill": {
     "duration": 0.080952,
     "end_time": "2023-12-05T11:35:04.702449",
     "exception": false,
     "start_time": "2023-12-05T11:35:04.621497",
     "status": "completed"
    },
    "tags": []
   },
   "outputs": [
    {
     "data": {
      "text/html": [
       "<div>\n",
       "<style scoped>\n",
       "    .dataframe tbody tr th:only-of-type {\n",
       "        vertical-align: middle;\n",
       "    }\n",
       "\n",
       "    .dataframe tbody tr th {\n",
       "        vertical-align: top;\n",
       "    }\n",
       "\n",
       "    .dataframe thead th {\n",
       "        text-align: right;\n",
       "    }\n",
       "</style>\n",
       "<table border=\"1\" class=\"dataframe\">\n",
       "  <thead>\n",
       "    <tr style=\"text-align: right;\">\n",
       "      <th></th>\n",
       "      <th>Survived</th>\n",
       "      <th>Age</th>\n",
       "      <th>Fare</th>\n",
       "      <th>Pclass_2</th>\n",
       "      <th>Pclass_3</th>\n",
       "      <th>Sex_male</th>\n",
       "      <th>Embarked_Q</th>\n",
       "      <th>Embarked_S</th>\n",
       "      <th>family_size_Large</th>\n",
       "      <th>family_size_Medium</th>\n",
       "    </tr>\n",
       "  </thead>\n",
       "  <tbody>\n",
       "    <tr>\n",
       "      <th>0</th>\n",
       "      <td>0</td>\n",
       "      <td>22.0</td>\n",
       "      <td>7.2500</td>\n",
       "      <td>0</td>\n",
       "      <td>1</td>\n",
       "      <td>1</td>\n",
       "      <td>0</td>\n",
       "      <td>1</td>\n",
       "      <td>0</td>\n",
       "      <td>1</td>\n",
       "    </tr>\n",
       "    <tr>\n",
       "      <th>1</th>\n",
       "      <td>1</td>\n",
       "      <td>38.0</td>\n",
       "      <td>71.2833</td>\n",
       "      <td>0</td>\n",
       "      <td>0</td>\n",
       "      <td>0</td>\n",
       "      <td>0</td>\n",
       "      <td>0</td>\n",
       "      <td>0</td>\n",
       "      <td>1</td>\n",
       "    </tr>\n",
       "    <tr>\n",
       "      <th>2</th>\n",
       "      <td>1</td>\n",
       "      <td>26.0</td>\n",
       "      <td>7.9250</td>\n",
       "      <td>0</td>\n",
       "      <td>1</td>\n",
       "      <td>0</td>\n",
       "      <td>0</td>\n",
       "      <td>1</td>\n",
       "      <td>0</td>\n",
       "      <td>0</td>\n",
       "    </tr>\n",
       "    <tr>\n",
       "      <th>3</th>\n",
       "      <td>1</td>\n",
       "      <td>35.0</td>\n",
       "      <td>53.1000</td>\n",
       "      <td>0</td>\n",
       "      <td>0</td>\n",
       "      <td>0</td>\n",
       "      <td>0</td>\n",
       "      <td>1</td>\n",
       "      <td>0</td>\n",
       "      <td>1</td>\n",
       "    </tr>\n",
       "    <tr>\n",
       "      <th>4</th>\n",
       "      <td>0</td>\n",
       "      <td>35.0</td>\n",
       "      <td>8.0500</td>\n",
       "      <td>0</td>\n",
       "      <td>1</td>\n",
       "      <td>1</td>\n",
       "      <td>0</td>\n",
       "      <td>1</td>\n",
       "      <td>0</td>\n",
       "      <td>0</td>\n",
       "    </tr>\n",
       "    <tr>\n",
       "      <th>...</th>\n",
       "      <td>...</td>\n",
       "      <td>...</td>\n",
       "      <td>...</td>\n",
       "      <td>...</td>\n",
       "      <td>...</td>\n",
       "      <td>...</td>\n",
       "      <td>...</td>\n",
       "      <td>...</td>\n",
       "      <td>...</td>\n",
       "      <td>...</td>\n",
       "    </tr>\n",
       "    <tr>\n",
       "      <th>886</th>\n",
       "      <td>0</td>\n",
       "      <td>27.0</td>\n",
       "      <td>13.0000</td>\n",
       "      <td>1</td>\n",
       "      <td>0</td>\n",
       "      <td>1</td>\n",
       "      <td>0</td>\n",
       "      <td>1</td>\n",
       "      <td>0</td>\n",
       "      <td>0</td>\n",
       "    </tr>\n",
       "    <tr>\n",
       "      <th>887</th>\n",
       "      <td>1</td>\n",
       "      <td>19.0</td>\n",
       "      <td>30.0000</td>\n",
       "      <td>0</td>\n",
       "      <td>0</td>\n",
       "      <td>0</td>\n",
       "      <td>0</td>\n",
       "      <td>1</td>\n",
       "      <td>0</td>\n",
       "      <td>0</td>\n",
       "    </tr>\n",
       "    <tr>\n",
       "      <th>888</th>\n",
       "      <td>0</td>\n",
       "      <td>25.0</td>\n",
       "      <td>23.4500</td>\n",
       "      <td>0</td>\n",
       "      <td>1</td>\n",
       "      <td>0</td>\n",
       "      <td>0</td>\n",
       "      <td>1</td>\n",
       "      <td>0</td>\n",
       "      <td>1</td>\n",
       "    </tr>\n",
       "    <tr>\n",
       "      <th>889</th>\n",
       "      <td>1</td>\n",
       "      <td>26.0</td>\n",
       "      <td>30.0000</td>\n",
       "      <td>0</td>\n",
       "      <td>0</td>\n",
       "      <td>1</td>\n",
       "      <td>0</td>\n",
       "      <td>0</td>\n",
       "      <td>0</td>\n",
       "      <td>0</td>\n",
       "    </tr>\n",
       "    <tr>\n",
       "      <th>890</th>\n",
       "      <td>0</td>\n",
       "      <td>32.0</td>\n",
       "      <td>7.7500</td>\n",
       "      <td>0</td>\n",
       "      <td>1</td>\n",
       "      <td>1</td>\n",
       "      <td>1</td>\n",
       "      <td>0</td>\n",
       "      <td>0</td>\n",
       "      <td>0</td>\n",
       "    </tr>\n",
       "  </tbody>\n",
       "</table>\n",
       "<p>891 rows × 10 columns</p>\n",
       "</div>"
      ],
      "text/plain": [
       "     Survived   Age     Fare  Pclass_2  Pclass_3  Sex_male  Embarked_Q  \\\n",
       "0           0  22.0   7.2500         0         1         1           0   \n",
       "1           1  38.0  71.2833         0         0         0           0   \n",
       "2           1  26.0   7.9250         0         1         0           0   \n",
       "3           1  35.0  53.1000         0         0         0           0   \n",
       "4           0  35.0   8.0500         0         1         1           0   \n",
       "..        ...   ...      ...       ...       ...       ...         ...   \n",
       "886         0  27.0  13.0000         1         0         1           0   \n",
       "887         1  19.0  30.0000         0         0         0           0   \n",
       "888         0  25.0  23.4500         0         1         0           0   \n",
       "889         1  26.0  30.0000         0         0         1           0   \n",
       "890         0  32.0   7.7500         0         1         1           1   \n",
       "\n",
       "     Embarked_S  family_size_Large  family_size_Medium  \n",
       "0             1                  0                   1  \n",
       "1             0                  0                   1  \n",
       "2             1                  0                   0  \n",
       "3             1                  0                   1  \n",
       "4             1                  0                   0  \n",
       "..          ...                ...                 ...  \n",
       "886           1                  0                   0  \n",
       "887           1                  0                   0  \n",
       "888           1                  0                   1  \n",
       "889           0                  0                   0  \n",
       "890           0                  0                   0  \n",
       "\n",
       "[891 rows x 10 columns]"
      ]
     },
     "execution_count": 71,
     "metadata": {},
     "output_type": "execute_result"
    }
   ],
   "source": [
    "train"
   ]
  },
  {
   "cell_type": "code",
   "execution_count": 72,
   "id": "084b4095",
   "metadata": {
    "execution": {
     "iopub.execute_input": "2023-12-05T11:35:04.814186Z",
     "iopub.status.busy": "2023-12-05T11:35:04.813687Z",
     "iopub.status.idle": "2023-12-05T11:35:04.835144Z",
     "shell.execute_reply": "2023-12-05T11:35:04.833601Z"
    },
    "papermill": {
     "duration": 0.080396,
     "end_time": "2023-12-05T11:35:04.838109",
     "exception": false,
     "start_time": "2023-12-05T11:35:04.757713",
     "status": "completed"
    },
    "tags": []
   },
   "outputs": [
    {
     "data": {
      "text/html": [
       "<div>\n",
       "<style scoped>\n",
       "    .dataframe tbody tr th:only-of-type {\n",
       "        vertical-align: middle;\n",
       "    }\n",
       "\n",
       "    .dataframe tbody tr th {\n",
       "        vertical-align: top;\n",
       "    }\n",
       "\n",
       "    .dataframe thead th {\n",
       "        text-align: right;\n",
       "    }\n",
       "</style>\n",
       "<table border=\"1\" class=\"dataframe\">\n",
       "  <thead>\n",
       "    <tr style=\"text-align: right;\">\n",
       "      <th></th>\n",
       "      <th>Age</th>\n",
       "      <th>Fare</th>\n",
       "      <th>Pclass_2</th>\n",
       "      <th>Pclass_3</th>\n",
       "      <th>Sex_male</th>\n",
       "      <th>Embarked_Q</th>\n",
       "      <th>Embarked_S</th>\n",
       "      <th>family_size_Large</th>\n",
       "      <th>family_size_Medium</th>\n",
       "    </tr>\n",
       "  </thead>\n",
       "  <tbody>\n",
       "    <tr>\n",
       "      <th>0</th>\n",
       "      <td>34.5</td>\n",
       "      <td>7.8292</td>\n",
       "      <td>0</td>\n",
       "      <td>1</td>\n",
       "      <td>1</td>\n",
       "      <td>1</td>\n",
       "      <td>0</td>\n",
       "      <td>0</td>\n",
       "      <td>0</td>\n",
       "    </tr>\n",
       "    <tr>\n",
       "      <th>1</th>\n",
       "      <td>47.0</td>\n",
       "      <td>7.0000</td>\n",
       "      <td>0</td>\n",
       "      <td>1</td>\n",
       "      <td>0</td>\n",
       "      <td>0</td>\n",
       "      <td>1</td>\n",
       "      <td>0</td>\n",
       "      <td>1</td>\n",
       "    </tr>\n",
       "    <tr>\n",
       "      <th>2</th>\n",
       "      <td>62.0</td>\n",
       "      <td>9.6875</td>\n",
       "      <td>1</td>\n",
       "      <td>0</td>\n",
       "      <td>1</td>\n",
       "      <td>1</td>\n",
       "      <td>0</td>\n",
       "      <td>0</td>\n",
       "      <td>0</td>\n",
       "    </tr>\n",
       "    <tr>\n",
       "      <th>3</th>\n",
       "      <td>27.0</td>\n",
       "      <td>8.6625</td>\n",
       "      <td>0</td>\n",
       "      <td>1</td>\n",
       "      <td>1</td>\n",
       "      <td>0</td>\n",
       "      <td>1</td>\n",
       "      <td>0</td>\n",
       "      <td>0</td>\n",
       "    </tr>\n",
       "    <tr>\n",
       "      <th>4</th>\n",
       "      <td>22.0</td>\n",
       "      <td>12.2875</td>\n",
       "      <td>0</td>\n",
       "      <td>1</td>\n",
       "      <td>0</td>\n",
       "      <td>0</td>\n",
       "      <td>1</td>\n",
       "      <td>0</td>\n",
       "      <td>1</td>\n",
       "    </tr>\n",
       "    <tr>\n",
       "      <th>...</th>\n",
       "      <td>...</td>\n",
       "      <td>...</td>\n",
       "      <td>...</td>\n",
       "      <td>...</td>\n",
       "      <td>...</td>\n",
       "      <td>...</td>\n",
       "      <td>...</td>\n",
       "      <td>...</td>\n",
       "      <td>...</td>\n",
       "    </tr>\n",
       "    <tr>\n",
       "      <th>413</th>\n",
       "      <td>20.0</td>\n",
       "      <td>8.0500</td>\n",
       "      <td>0</td>\n",
       "      <td>1</td>\n",
       "      <td>1</td>\n",
       "      <td>0</td>\n",
       "      <td>1</td>\n",
       "      <td>0</td>\n",
       "      <td>0</td>\n",
       "    </tr>\n",
       "    <tr>\n",
       "      <th>414</th>\n",
       "      <td>39.0</td>\n",
       "      <td>108.9000</td>\n",
       "      <td>0</td>\n",
       "      <td>0</td>\n",
       "      <td>0</td>\n",
       "      <td>0</td>\n",
       "      <td>0</td>\n",
       "      <td>0</td>\n",
       "      <td>0</td>\n",
       "    </tr>\n",
       "    <tr>\n",
       "      <th>415</th>\n",
       "      <td>38.5</td>\n",
       "      <td>7.2500</td>\n",
       "      <td>0</td>\n",
       "      <td>1</td>\n",
       "      <td>1</td>\n",
       "      <td>0</td>\n",
       "      <td>1</td>\n",
       "      <td>0</td>\n",
       "      <td>0</td>\n",
       "    </tr>\n",
       "    <tr>\n",
       "      <th>416</th>\n",
       "      <td>27.0</td>\n",
       "      <td>8.0500</td>\n",
       "      <td>0</td>\n",
       "      <td>1</td>\n",
       "      <td>1</td>\n",
       "      <td>0</td>\n",
       "      <td>1</td>\n",
       "      <td>0</td>\n",
       "      <td>0</td>\n",
       "    </tr>\n",
       "    <tr>\n",
       "      <th>417</th>\n",
       "      <td>27.0</td>\n",
       "      <td>22.3583</td>\n",
       "      <td>0</td>\n",
       "      <td>1</td>\n",
       "      <td>1</td>\n",
       "      <td>0</td>\n",
       "      <td>0</td>\n",
       "      <td>0</td>\n",
       "      <td>1</td>\n",
       "    </tr>\n",
       "  </tbody>\n",
       "</table>\n",
       "<p>418 rows × 9 columns</p>\n",
       "</div>"
      ],
      "text/plain": [
       "      Age      Fare  Pclass_2  Pclass_3  Sex_male  Embarked_Q  Embarked_S  \\\n",
       "0    34.5    7.8292         0         1         1           1           0   \n",
       "1    47.0    7.0000         0         1         0           0           1   \n",
       "2    62.0    9.6875         1         0         1           1           0   \n",
       "3    27.0    8.6625         0         1         1           0           1   \n",
       "4    22.0   12.2875         0         1         0           0           1   \n",
       "..    ...       ...       ...       ...       ...         ...         ...   \n",
       "413  20.0    8.0500         0         1         1           0           1   \n",
       "414  39.0  108.9000         0         0         0           0           0   \n",
       "415  38.5    7.2500         0         1         1           0           1   \n",
       "416  27.0    8.0500         0         1         1           0           1   \n",
       "417  27.0   22.3583         0         1         1           0           0   \n",
       "\n",
       "     family_size_Large  family_size_Medium  \n",
       "0                    0                   0  \n",
       "1                    0                   1  \n",
       "2                    0                   0  \n",
       "3                    0                   0  \n",
       "4                    0                   1  \n",
       "..                 ...                 ...  \n",
       "413                  0                   0  \n",
       "414                  0                   0  \n",
       "415                  0                   0  \n",
       "416                  0                   0  \n",
       "417                  0                   1  \n",
       "\n",
       "[418 rows x 9 columns]"
      ]
     },
     "execution_count": 72,
     "metadata": {},
     "output_type": "execute_result"
    }
   ],
   "source": [
    "test"
   ]
  },
  {
   "cell_type": "markdown",
   "id": "ccc46328",
   "metadata": {
    "papermill": {
     "duration": 0.054689,
     "end_time": "2023-12-05T11:35:04.947797",
     "exception": false,
     "start_time": "2023-12-05T11:35:04.893108",
     "status": "completed"
    },
    "tags": []
   },
   "source": [
    "# Split Data Into X and y"
   ]
  },
  {
   "cell_type": "code",
   "execution_count": 73,
   "id": "bcb32534",
   "metadata": {
    "execution": {
     "iopub.execute_input": "2023-12-05T11:35:05.061808Z",
     "iopub.status.busy": "2023-12-05T11:35:05.060463Z",
     "iopub.status.idle": "2023-12-05T11:35:05.069461Z",
     "shell.execute_reply": "2023-12-05T11:35:05.068079Z"
    },
    "papermill": {
     "duration": 0.068493,
     "end_time": "2023-12-05T11:35:05.072255",
     "exception": false,
     "start_time": "2023-12-05T11:35:05.003762",
     "status": "completed"
    },
    "tags": []
   },
   "outputs": [],
   "source": [
    "x = train.drop('Survived',axis=1)\n",
    "y = train[['Survived']]"
   ]
  },
  {
   "cell_type": "code",
   "execution_count": 74,
   "id": "a3e0fb2c",
   "metadata": {
    "execution": {
     "iopub.execute_input": "2023-12-05T11:35:05.184916Z",
     "iopub.status.busy": "2023-12-05T11:35:05.184458Z",
     "iopub.status.idle": "2023-12-05T11:35:05.207564Z",
     "shell.execute_reply": "2023-12-05T11:35:05.206382Z"
    },
    "papermill": {
     "duration": 0.08276,
     "end_time": "2023-12-05T11:35:05.210033",
     "exception": false,
     "start_time": "2023-12-05T11:35:05.127273",
     "status": "completed"
    },
    "tags": []
   },
   "outputs": [
    {
     "data": {
      "text/html": [
       "<div>\n",
       "<style scoped>\n",
       "    .dataframe tbody tr th:only-of-type {\n",
       "        vertical-align: middle;\n",
       "    }\n",
       "\n",
       "    .dataframe tbody tr th {\n",
       "        vertical-align: top;\n",
       "    }\n",
       "\n",
       "    .dataframe thead th {\n",
       "        text-align: right;\n",
       "    }\n",
       "</style>\n",
       "<table border=\"1\" class=\"dataframe\">\n",
       "  <thead>\n",
       "    <tr style=\"text-align: right;\">\n",
       "      <th></th>\n",
       "      <th>Age</th>\n",
       "      <th>Fare</th>\n",
       "      <th>Pclass_2</th>\n",
       "      <th>Pclass_3</th>\n",
       "      <th>Sex_male</th>\n",
       "      <th>Embarked_Q</th>\n",
       "      <th>Embarked_S</th>\n",
       "      <th>family_size_Large</th>\n",
       "      <th>family_size_Medium</th>\n",
       "    </tr>\n",
       "  </thead>\n",
       "  <tbody>\n",
       "    <tr>\n",
       "      <th>0</th>\n",
       "      <td>22.0</td>\n",
       "      <td>7.2500</td>\n",
       "      <td>0</td>\n",
       "      <td>1</td>\n",
       "      <td>1</td>\n",
       "      <td>0</td>\n",
       "      <td>1</td>\n",
       "      <td>0</td>\n",
       "      <td>1</td>\n",
       "    </tr>\n",
       "    <tr>\n",
       "      <th>1</th>\n",
       "      <td>38.0</td>\n",
       "      <td>71.2833</td>\n",
       "      <td>0</td>\n",
       "      <td>0</td>\n",
       "      <td>0</td>\n",
       "      <td>0</td>\n",
       "      <td>0</td>\n",
       "      <td>0</td>\n",
       "      <td>1</td>\n",
       "    </tr>\n",
       "    <tr>\n",
       "      <th>2</th>\n",
       "      <td>26.0</td>\n",
       "      <td>7.9250</td>\n",
       "      <td>0</td>\n",
       "      <td>1</td>\n",
       "      <td>0</td>\n",
       "      <td>0</td>\n",
       "      <td>1</td>\n",
       "      <td>0</td>\n",
       "      <td>0</td>\n",
       "    </tr>\n",
       "    <tr>\n",
       "      <th>3</th>\n",
       "      <td>35.0</td>\n",
       "      <td>53.1000</td>\n",
       "      <td>0</td>\n",
       "      <td>0</td>\n",
       "      <td>0</td>\n",
       "      <td>0</td>\n",
       "      <td>1</td>\n",
       "      <td>0</td>\n",
       "      <td>1</td>\n",
       "    </tr>\n",
       "    <tr>\n",
       "      <th>4</th>\n",
       "      <td>35.0</td>\n",
       "      <td>8.0500</td>\n",
       "      <td>0</td>\n",
       "      <td>1</td>\n",
       "      <td>1</td>\n",
       "      <td>0</td>\n",
       "      <td>1</td>\n",
       "      <td>0</td>\n",
       "      <td>0</td>\n",
       "    </tr>\n",
       "    <tr>\n",
       "      <th>...</th>\n",
       "      <td>...</td>\n",
       "      <td>...</td>\n",
       "      <td>...</td>\n",
       "      <td>...</td>\n",
       "      <td>...</td>\n",
       "      <td>...</td>\n",
       "      <td>...</td>\n",
       "      <td>...</td>\n",
       "      <td>...</td>\n",
       "    </tr>\n",
       "    <tr>\n",
       "      <th>886</th>\n",
       "      <td>27.0</td>\n",
       "      <td>13.0000</td>\n",
       "      <td>1</td>\n",
       "      <td>0</td>\n",
       "      <td>1</td>\n",
       "      <td>0</td>\n",
       "      <td>1</td>\n",
       "      <td>0</td>\n",
       "      <td>0</td>\n",
       "    </tr>\n",
       "    <tr>\n",
       "      <th>887</th>\n",
       "      <td>19.0</td>\n",
       "      <td>30.0000</td>\n",
       "      <td>0</td>\n",
       "      <td>0</td>\n",
       "      <td>0</td>\n",
       "      <td>0</td>\n",
       "      <td>1</td>\n",
       "      <td>0</td>\n",
       "      <td>0</td>\n",
       "    </tr>\n",
       "    <tr>\n",
       "      <th>888</th>\n",
       "      <td>25.0</td>\n",
       "      <td>23.4500</td>\n",
       "      <td>0</td>\n",
       "      <td>1</td>\n",
       "      <td>0</td>\n",
       "      <td>0</td>\n",
       "      <td>1</td>\n",
       "      <td>0</td>\n",
       "      <td>1</td>\n",
       "    </tr>\n",
       "    <tr>\n",
       "      <th>889</th>\n",
       "      <td>26.0</td>\n",
       "      <td>30.0000</td>\n",
       "      <td>0</td>\n",
       "      <td>0</td>\n",
       "      <td>1</td>\n",
       "      <td>0</td>\n",
       "      <td>0</td>\n",
       "      <td>0</td>\n",
       "      <td>0</td>\n",
       "    </tr>\n",
       "    <tr>\n",
       "      <th>890</th>\n",
       "      <td>32.0</td>\n",
       "      <td>7.7500</td>\n",
       "      <td>0</td>\n",
       "      <td>1</td>\n",
       "      <td>1</td>\n",
       "      <td>1</td>\n",
       "      <td>0</td>\n",
       "      <td>0</td>\n",
       "      <td>0</td>\n",
       "    </tr>\n",
       "  </tbody>\n",
       "</table>\n",
       "<p>891 rows × 9 columns</p>\n",
       "</div>"
      ],
      "text/plain": [
       "      Age     Fare  Pclass_2  Pclass_3  Sex_male  Embarked_Q  Embarked_S  \\\n",
       "0    22.0   7.2500         0         1         1           0           1   \n",
       "1    38.0  71.2833         0         0         0           0           0   \n",
       "2    26.0   7.9250         0         1         0           0           1   \n",
       "3    35.0  53.1000         0         0         0           0           1   \n",
       "4    35.0   8.0500         0         1         1           0           1   \n",
       "..    ...      ...       ...       ...       ...         ...         ...   \n",
       "886  27.0  13.0000         1         0         1           0           1   \n",
       "887  19.0  30.0000         0         0         0           0           1   \n",
       "888  25.0  23.4500         0         1         0           0           1   \n",
       "889  26.0  30.0000         0         0         1           0           0   \n",
       "890  32.0   7.7500         0         1         1           1           0   \n",
       "\n",
       "     family_size_Large  family_size_Medium  \n",
       "0                    0                   1  \n",
       "1                    0                   1  \n",
       "2                    0                   0  \n",
       "3                    0                   1  \n",
       "4                    0                   0  \n",
       "..                 ...                 ...  \n",
       "886                  0                   0  \n",
       "887                  0                   0  \n",
       "888                  0                   1  \n",
       "889                  0                   0  \n",
       "890                  0                   0  \n",
       "\n",
       "[891 rows x 9 columns]"
      ]
     },
     "execution_count": 74,
     "metadata": {},
     "output_type": "execute_result"
    }
   ],
   "source": [
    "x"
   ]
  },
  {
   "cell_type": "code",
   "execution_count": 75,
   "id": "3a48257f",
   "metadata": {
    "execution": {
     "iopub.execute_input": "2023-12-05T11:35:05.325467Z",
     "iopub.status.busy": "2023-12-05T11:35:05.324961Z",
     "iopub.status.idle": "2023-12-05T11:35:05.337067Z",
     "shell.execute_reply": "2023-12-05T11:35:05.335777Z"
    },
    "papermill": {
     "duration": 0.074697,
     "end_time": "2023-12-05T11:35:05.339743",
     "exception": false,
     "start_time": "2023-12-05T11:35:05.265046",
     "status": "completed"
    },
    "tags": []
   },
   "outputs": [
    {
     "data": {
      "text/html": [
       "<div>\n",
       "<style scoped>\n",
       "    .dataframe tbody tr th:only-of-type {\n",
       "        vertical-align: middle;\n",
       "    }\n",
       "\n",
       "    .dataframe tbody tr th {\n",
       "        vertical-align: top;\n",
       "    }\n",
       "\n",
       "    .dataframe thead th {\n",
       "        text-align: right;\n",
       "    }\n",
       "</style>\n",
       "<table border=\"1\" class=\"dataframe\">\n",
       "  <thead>\n",
       "    <tr style=\"text-align: right;\">\n",
       "      <th></th>\n",
       "      <th>Survived</th>\n",
       "    </tr>\n",
       "  </thead>\n",
       "  <tbody>\n",
       "    <tr>\n",
       "      <th>0</th>\n",
       "      <td>0</td>\n",
       "    </tr>\n",
       "    <tr>\n",
       "      <th>1</th>\n",
       "      <td>1</td>\n",
       "    </tr>\n",
       "    <tr>\n",
       "      <th>2</th>\n",
       "      <td>1</td>\n",
       "    </tr>\n",
       "    <tr>\n",
       "      <th>3</th>\n",
       "      <td>1</td>\n",
       "    </tr>\n",
       "    <tr>\n",
       "      <th>4</th>\n",
       "      <td>0</td>\n",
       "    </tr>\n",
       "    <tr>\n",
       "      <th>...</th>\n",
       "      <td>...</td>\n",
       "    </tr>\n",
       "    <tr>\n",
       "      <th>886</th>\n",
       "      <td>0</td>\n",
       "    </tr>\n",
       "    <tr>\n",
       "      <th>887</th>\n",
       "      <td>1</td>\n",
       "    </tr>\n",
       "    <tr>\n",
       "      <th>888</th>\n",
       "      <td>0</td>\n",
       "    </tr>\n",
       "    <tr>\n",
       "      <th>889</th>\n",
       "      <td>1</td>\n",
       "    </tr>\n",
       "    <tr>\n",
       "      <th>890</th>\n",
       "      <td>0</td>\n",
       "    </tr>\n",
       "  </tbody>\n",
       "</table>\n",
       "<p>891 rows × 1 columns</p>\n",
       "</div>"
      ],
      "text/plain": [
       "     Survived\n",
       "0           0\n",
       "1           1\n",
       "2           1\n",
       "3           1\n",
       "4           0\n",
       "..        ...\n",
       "886         0\n",
       "887         1\n",
       "888         0\n",
       "889         1\n",
       "890         0\n",
       "\n",
       "[891 rows x 1 columns]"
      ]
     },
     "execution_count": 75,
     "metadata": {},
     "output_type": "execute_result"
    }
   ],
   "source": [
    "y"
   ]
  },
  {
   "cell_type": "code",
   "execution_count": 76,
   "id": "83cece0a",
   "metadata": {
    "execution": {
     "iopub.execute_input": "2023-12-05T11:35:05.455182Z",
     "iopub.status.busy": "2023-12-05T11:35:05.454144Z",
     "iopub.status.idle": "2023-12-05T11:35:05.764433Z",
     "shell.execute_reply": "2023-12-05T11:35:05.763019Z"
    },
    "papermill": {
     "duration": 0.37152,
     "end_time": "2023-12-05T11:35:05.767520",
     "exception": false,
     "start_time": "2023-12-05T11:35:05.396000",
     "status": "completed"
    },
    "tags": []
   },
   "outputs": [],
   "source": [
    "## training and testing data\n",
    "from sklearn.model_selection import train_test_split\n",
    "x_train, x_test, y_train, y_test = train_test_split(x, y, test_size=0.3, random_state=42)"
   ]
  },
  {
   "cell_type": "markdown",
   "id": "d3b5aa1b",
   "metadata": {
    "papermill": {
     "duration": 0.054491,
     "end_time": "2023-12-05T11:35:05.877526",
     "exception": false,
     "start_time": "2023-12-05T11:35:05.823035",
     "status": "completed"
    },
    "tags": []
   },
   "source": [
    "# Feature Selection"
   ]
  },
  {
   "cell_type": "code",
   "execution_count": 77,
   "id": "681cc535",
   "metadata": {
    "execution": {
     "iopub.execute_input": "2023-12-05T11:35:05.989947Z",
     "iopub.status.busy": "2023-12-05T11:35:05.988610Z",
     "iopub.status.idle": "2023-12-05T11:35:06.013136Z",
     "shell.execute_reply": "2023-12-05T11:35:06.011780Z"
    },
    "papermill": {
     "duration": 0.083541,
     "end_time": "2023-12-05T11:35:06.015958",
     "exception": false,
     "start_time": "2023-12-05T11:35:05.932417",
     "status": "completed"
    },
    "tags": []
   },
   "outputs": [
    {
     "data": {
      "text/html": [
       "<div>\n",
       "<style scoped>\n",
       "    .dataframe tbody tr th:only-of-type {\n",
       "        vertical-align: middle;\n",
       "    }\n",
       "\n",
       "    .dataframe tbody tr th {\n",
       "        vertical-align: top;\n",
       "    }\n",
       "\n",
       "    .dataframe thead th {\n",
       "        text-align: right;\n",
       "    }\n",
       "</style>\n",
       "<table border=\"1\" class=\"dataframe\">\n",
       "  <thead>\n",
       "    <tr style=\"text-align: right;\">\n",
       "      <th></th>\n",
       "      <th>Age</th>\n",
       "      <th>Fare</th>\n",
       "      <th>Pclass_2</th>\n",
       "      <th>Pclass_3</th>\n",
       "      <th>Sex_male</th>\n",
       "      <th>Embarked_Q</th>\n",
       "      <th>Embarked_S</th>\n",
       "      <th>family_size_Large</th>\n",
       "      <th>family_size_Medium</th>\n",
       "    </tr>\n",
       "  </thead>\n",
       "  <tbody>\n",
       "    <tr>\n",
       "      <th>Age</th>\n",
       "      <td>1.000000</td>\n",
       "      <td>0.097443</td>\n",
       "      <td>0.011975</td>\n",
       "      <td>-0.264428</td>\n",
       "      <td>0.084683</td>\n",
       "      <td>-0.039091</td>\n",
       "      <td>0.037430</td>\n",
       "      <td>-0.186743</td>\n",
       "      <td>-0.075546</td>\n",
       "    </tr>\n",
       "    <tr>\n",
       "      <th>Fare</th>\n",
       "      <td>0.097443</td>\n",
       "      <td>1.000000</td>\n",
       "      <td>-0.113373</td>\n",
       "      <td>-0.390559</td>\n",
       "      <td>-0.167973</td>\n",
       "      <td>-0.114615</td>\n",
       "      <td>-0.115588</td>\n",
       "      <td>0.145194</td>\n",
       "      <td>0.174864</td>\n",
       "    </tr>\n",
       "    <tr>\n",
       "      <th>Pclass_2</th>\n",
       "      <td>0.011975</td>\n",
       "      <td>-0.113373</td>\n",
       "      <td>1.000000</td>\n",
       "      <td>-0.590926</td>\n",
       "      <td>-0.032047</td>\n",
       "      <td>-0.133653</td>\n",
       "      <td>0.159878</td>\n",
       "      <td>-0.116357</td>\n",
       "      <td>0.079961</td>\n",
       "    </tr>\n",
       "    <tr>\n",
       "      <th>Pclass_3</th>\n",
       "      <td>-0.264428</td>\n",
       "      <td>-0.390559</td>\n",
       "      <td>-0.590926</td>\n",
       "      <td>1.000000</td>\n",
       "      <td>0.118404</td>\n",
       "      <td>0.238799</td>\n",
       "      <td>-0.027690</td>\n",
       "      <td>0.173457</td>\n",
       "      <td>-0.198637</td>\n",
       "    </tr>\n",
       "    <tr>\n",
       "      <th>Sex_male</th>\n",
       "      <td>0.084683</td>\n",
       "      <td>-0.167973</td>\n",
       "      <td>-0.032047</td>\n",
       "      <td>0.118404</td>\n",
       "      <td>1.000000</td>\n",
       "      <td>-0.061973</td>\n",
       "      <td>0.111870</td>\n",
       "      <td>-0.094112</td>\n",
       "      <td>-0.237024</td>\n",
       "    </tr>\n",
       "    <tr>\n",
       "      <th>Embarked_Q</th>\n",
       "      <td>-0.039091</td>\n",
       "      <td>-0.114615</td>\n",
       "      <td>-0.133653</td>\n",
       "      <td>0.238799</td>\n",
       "      <td>-0.061973</td>\n",
       "      <td>1.000000</td>\n",
       "      <td>-0.518439</td>\n",
       "      <td>-0.001320</td>\n",
       "      <td>-0.073426</td>\n",
       "    </tr>\n",
       "    <tr>\n",
       "      <th>Embarked_S</th>\n",
       "      <td>0.037430</td>\n",
       "      <td>-0.115588</td>\n",
       "      <td>0.159878</td>\n",
       "      <td>-0.027690</td>\n",
       "      <td>0.111870</td>\n",
       "      <td>-0.518439</td>\n",
       "      <td>1.000000</td>\n",
       "      <td>0.113830</td>\n",
       "      <td>-0.067403</td>\n",
       "    </tr>\n",
       "    <tr>\n",
       "      <th>family_size_Large</th>\n",
       "      <td>-0.186743</td>\n",
       "      <td>0.145194</td>\n",
       "      <td>-0.116357</td>\n",
       "      <td>0.173457</td>\n",
       "      <td>-0.094112</td>\n",
       "      <td>-0.001320</td>\n",
       "      <td>0.113830</td>\n",
       "      <td>1.000000</td>\n",
       "      <td>-0.197733</td>\n",
       "    </tr>\n",
       "    <tr>\n",
       "      <th>family_size_Medium</th>\n",
       "      <td>-0.075546</td>\n",
       "      <td>0.174864</td>\n",
       "      <td>0.079961</td>\n",
       "      <td>-0.198637</td>\n",
       "      <td>-0.237024</td>\n",
       "      <td>-0.073426</td>\n",
       "      <td>-0.067403</td>\n",
       "      <td>-0.197733</td>\n",
       "      <td>1.000000</td>\n",
       "    </tr>\n",
       "  </tbody>\n",
       "</table>\n",
       "</div>"
      ],
      "text/plain": [
       "                         Age      Fare  Pclass_2  Pclass_3  Sex_male  \\\n",
       "Age                 1.000000  0.097443  0.011975 -0.264428  0.084683   \n",
       "Fare                0.097443  1.000000 -0.113373 -0.390559 -0.167973   \n",
       "Pclass_2            0.011975 -0.113373  1.000000 -0.590926 -0.032047   \n",
       "Pclass_3           -0.264428 -0.390559 -0.590926  1.000000  0.118404   \n",
       "Sex_male            0.084683 -0.167973 -0.032047  0.118404  1.000000   \n",
       "Embarked_Q         -0.039091 -0.114615 -0.133653  0.238799 -0.061973   \n",
       "Embarked_S          0.037430 -0.115588  0.159878 -0.027690  0.111870   \n",
       "family_size_Large  -0.186743  0.145194 -0.116357  0.173457 -0.094112   \n",
       "family_size_Medium -0.075546  0.174864  0.079961 -0.198637 -0.237024   \n",
       "\n",
       "                    Embarked_Q  Embarked_S  family_size_Large  \\\n",
       "Age                  -0.039091    0.037430          -0.186743   \n",
       "Fare                 -0.114615   -0.115588           0.145194   \n",
       "Pclass_2             -0.133653    0.159878          -0.116357   \n",
       "Pclass_3              0.238799   -0.027690           0.173457   \n",
       "Sex_male             -0.061973    0.111870          -0.094112   \n",
       "Embarked_Q            1.000000   -0.518439          -0.001320   \n",
       "Embarked_S           -0.518439    1.000000           0.113830   \n",
       "family_size_Large    -0.001320    0.113830           1.000000   \n",
       "family_size_Medium   -0.073426   -0.067403          -0.197733   \n",
       "\n",
       "                    family_size_Medium  \n",
       "Age                          -0.075546  \n",
       "Fare                          0.174864  \n",
       "Pclass_2                      0.079961  \n",
       "Pclass_3                     -0.198637  \n",
       "Sex_male                     -0.237024  \n",
       "Embarked_Q                   -0.073426  \n",
       "Embarked_S                   -0.067403  \n",
       "family_size_Large            -0.197733  \n",
       "family_size_Medium            1.000000  "
      ]
     },
     "execution_count": 77,
     "metadata": {},
     "output_type": "execute_result"
    }
   ],
   "source": [
    "x_train.corr()"
   ]
  },
  {
   "cell_type": "code",
   "execution_count": 78,
   "id": "bc21e90b",
   "metadata": {
    "execution": {
     "iopub.execute_input": "2023-12-05T11:35:06.128779Z",
     "iopub.status.busy": "2023-12-05T11:35:06.128230Z",
     "iopub.status.idle": "2023-12-05T11:35:07.167452Z",
     "shell.execute_reply": "2023-12-05T11:35:07.166094Z"
    },
    "papermill": {
     "duration": 1.099335,
     "end_time": "2023-12-05T11:35:07.170926",
     "exception": false,
     "start_time": "2023-12-05T11:35:06.071591",
     "status": "completed"
    },
    "tags": []
   },
   "outputs": [
    {
     "data": {
      "image/png": "[encoded data removed]",
      "text/plain": [
       "<Figure size 3000x3000 with 2 Axes>"
      ]
     },
     "metadata": {},
     "output_type": "display_data"
    }
   ],
   "source": [
    "#Using Pearson Correlation\n",
    "plt.figure(figsize=(30,30))\n",
    "cor = x_train.corr()\n",
    "sns.heatmap(cor, annot=True, cmap=plt.cm.RdYlGn)\n",
    "plt.show()"
   ]
  },
  {
   "cell_type": "code",
   "execution_count": 37,
   "id": "8e79b873",
   "metadata": {
    "execution": {
     "iopub.execute_input": "2023-12-05T11:35:07.295643Z",
     "iopub.status.busy": "2023-12-05T11:35:07.294749Z",
     "iopub.status.idle": "2023-12-05T11:35:07.301533Z",
     "shell.execute_reply": "2023-12-05T11:35:07.300641Z"
    },
    "papermill": {
     "duration": 0.072193,
     "end_time": "2023-12-05T11:35:07.303908",
     "exception": false,
     "start_time": "2023-12-05T11:35:07.231715",
     "status": "completed"
    },
    "tags": []
   },
   "outputs": [],
   "source": []
  },
  {
   "cell_type": "code",
   "execution_count": null,
   "id": "d0083699",
   "metadata": {
    "execution": {
     "iopub.execute_input": "2023-12-05T11:35:07.424936Z",
     "iopub.status.busy": "2023-12-05T11:35:07.424423Z",
     "iopub.status.idle": "2023-12-05T11:35:07.434903Z",
     "shell.execute_reply": "2023-12-05T11:35:07.433673Z"
    },
    "papermill": {
     "duration": 0.073878,
     "end_time": "2023-12-05T11:35:07.437879",
     "exception": false,
     "start_time": "2023-12-05T11:35:07.364001",
     "status": "completed"
    },
    "tags": []
   },
   "outputs": [],
   "source": []
  },
  {
   "cell_type": "markdown",
   "id": "2bc90fe4",
   "metadata": {
    "papermill": {
     "duration": 0.05743,
     "end_time": "2023-12-05T11:35:07.552478",
     "exception": false,
     "start_time": "2023-12-05T11:35:07.495048",
     "status": "completed"
    },
    "tags": []
   },
   "source": []
  },
  {
   "cell_type": "markdown",
   "id": "71f90419",
   "metadata": {
    "papermill": {
     "duration": 0.057078,
     "end_time": "2023-12-05T11:35:07.666807",
     "exception": false,
     "start_time": "2023-12-05T11:35:07.609729",
     "status": "completed"
    },
    "tags": []
   },
   "source": []
  },
  {
   "cell_type": "code",
   "execution_count": null,
   "id": "68f21fdb",
   "metadata": {
    "execution": {
     "iopub.execute_input": "2023-12-05T11:35:07.785413Z",
     "iopub.status.busy": "2023-12-05T11:35:07.784492Z",
     "iopub.status.idle": "2023-12-05T11:35:11.370516Z",
     "shell.execute_reply": "2023-12-05T11:35:11.368867Z"
    },
    "papermill": {
     "duration": 3.649625,
     "end_time": "2023-12-05T11:35:11.373917",
     "exception": false,
     "start_time": "2023-12-05T11:35:07.724292",
     "status": "completed"
    },
    "scrolled": true,
    "tags": []
   },
   "outputs": [],
   "source": []
  },
  {
   "cell_type": "markdown",
   "id": "d6c6f482",
   "metadata": {
    "papermill": {
     "duration": 0.059578,
     "end_time": "2023-12-05T11:35:11.492680",
     "exception": false,
     "start_time": "2023-12-05T11:35:11.433102",
     "status": "completed"
    },
    "tags": []
   },
   "source": []
  },
  {
   "cell_type": "code",
   "execution_count": 82,
   "id": "3f3504ba",
   "metadata": {
    "execution": {
     "iopub.execute_input": "2023-12-05T11:35:11.612730Z",
     "iopub.status.busy": "2023-12-05T11:35:11.611568Z",
     "iopub.status.idle": "2023-12-05T11:35:11.617363Z",
     "shell.execute_reply": "2023-12-05T11:35:11.616090Z"
    },
    "papermill": {
     "duration": 0.069228,
     "end_time": "2023-12-05T11:35:11.620164",
     "exception": false,
     "start_time": "2023-12-05T11:35:11.550936",
     "status": "completed"
    },
    "tags": []
   },
   "outputs": [],
   "source": []
  },
  {
   "cell_type": "code",
   "execution_count": 83,
   "id": "d43e6b8e",
   "metadata": {
    "execution": {
     "iopub.execute_input": "2023-12-05T11:35:11.741072Z",
     "iopub.status.busy": "2023-12-05T11:35:11.740107Z",
     "iopub.status.idle": "2023-12-05T11:35:11.746019Z",
     "shell.execute_reply": "2023-12-05T11:35:11.744575Z"
    },
    "papermill": {
     "duration": 0.069306,
     "end_time": "2023-12-05T11:35:11.748573",
     "exception": false,
     "start_time": "2023-12-05T11:35:11.679267",
     "status": "completed"
    },
    "tags": []
   },
   "outputs": [],
   "source": []
  },
  {
   "cell_type": "code",
   "execution_count": null,
   "id": "dbd0481c",
   "metadata": {
    "execution": {
     "iopub.execute_input": "2023-12-05T11:35:11.869651Z",
     "iopub.status.busy": "2023-12-05T11:35:11.868968Z",
     "iopub.status.idle": "2023-12-05T11:35:11.886893Z",
     "shell.execute_reply": "2023-12-05T11:35:11.885610Z"
    },
    "papermill": {
     "duration": 0.080365,
     "end_time": "2023-12-05T11:35:11.889532",
     "exception": false,
     "start_time": "2023-12-05T11:35:11.809167",
     "status": "completed"
    },
    "tags": []
   },
   "outputs": [],
   "source": []
  },
  {
   "cell_type": "code",
   "execution_count": 85,
   "id": "4dd36f80",
   "metadata": {
    "execution": {
     "iopub.execute_input": "2023-12-05T11:35:12.011189Z",
     "iopub.status.busy": "2023-12-05T11:35:12.010634Z",
     "iopub.status.idle": "2023-12-05T11:35:12.018731Z",
     "shell.execute_reply": "2023-12-05T11:35:12.017603Z"
    },
    "papermill": {
     "duration": 0.07234,
     "end_time": "2023-12-05T11:35:12.021141",
     "exception": false,
     "start_time": "2023-12-05T11:35:11.948801",
     "status": "completed"
    },
    "tags": []
   },
   "outputs": [],
   "source": []
  },
  {
   "cell_type": "code",
   "execution_count": null,
   "id": "1b968ba9",
   "metadata": {
    "execution": {
     "iopub.execute_input": "2023-12-05T11:35:12.142781Z",
     "iopub.status.busy": "2023-12-05T11:35:12.142260Z",
     "iopub.status.idle": "2023-12-05T11:35:12.157001Z",
     "shell.execute_reply": "2023-12-05T11:35:12.155424Z"
    },
    "papermill": {
     "duration": 0.079258,
     "end_time": "2023-12-05T11:35:12.159850",
     "exception": false,
     "start_time": "2023-12-05T11:35:12.080592",
     "status": "completed"
    },
    "tags": []
   },
   "outputs": [],
   "source": []
  },
  {
   "cell_type": "markdown",
   "id": "a1398820",
   "metadata": {
    "papermill": {
     "duration": 0.061065,
     "end_time": "2023-12-05T11:35:12.280176",
     "exception": false,
     "start_time": "2023-12-05T11:35:12.219111",
     "status": "completed"
    },
    "tags": []
   },
   "source": []
  },
  {
   "cell_type": "code",
   "execution_count": null,
   "id": "b28cc99f",
   "metadata": {
    "execution": {
     "iopub.execute_input": "2023-12-05T11:35:12.405457Z",
     "iopub.status.busy": "2023-12-05T11:35:12.404905Z",
     "iopub.status.idle": "2023-12-05T11:35:12.410735Z",
     "shell.execute_reply": "2023-12-05T11:35:12.409196Z"
    },
    "papermill": {
     "duration": 0.071534,
     "end_time": "2023-12-05T11:35:12.413437",
     "exception": false,
     "start_time": "2023-12-05T11:35:12.341903",
     "status": "completed"
    },
    "tags": []
   },
   "outputs": [],
   "source": []
  },
  {
   "cell_type": "code",
   "execution_count": null,
   "id": "f6deca4f",
   "metadata": {
    "execution": {
     "iopub.execute_input": "2023-12-05T11:35:12.536508Z",
     "iopub.status.busy": "2023-12-05T11:35:12.535984Z",
     "iopub.status.idle": "2023-12-05T11:35:12.840267Z",
     "shell.execute_reply": "2023-12-05T11:35:12.838867Z"
    },
    "papermill": {
     "duration": 0.369945,
     "end_time": "2023-12-05T11:35:12.843738",
     "exception": false,
     "start_time": "2023-12-05T11:35:12.473793",
     "status": "completed"
    },
    "tags": []
   },
   "outputs": [],
   "source": []
  },
  {
   "cell_type": "markdown",
   "id": "2bf6d7b6",
   "metadata": {
    "papermill": {
     "duration": 0.058898,
     "end_time": "2023-12-05T11:35:12.962658",
     "exception": false,
     "start_time": "2023-12-05T11:35:12.903760",
     "status": "completed"
    },
    "tags": []
   },
   "source": []
  },
  {
   "cell_type": "code",
   "execution_count": null,
   "id": "ce5a8e5a",
   "metadata": {
    "execution": {
     "iopub.execute_input": "2023-12-05T11:35:13.083872Z",
     "iopub.status.busy": "2023-12-05T11:35:13.083389Z",
     "iopub.status.idle": "2023-12-05T11:35:13.179693Z",
     "shell.execute_reply": "2023-12-05T11:35:13.178438Z"
    },
    "papermill": {
     "duration": 0.160831,
     "end_time": "2023-12-05T11:35:13.182617",
     "exception": false,
     "start_time": "2023-12-05T11:35:13.021786",
     "status": "completed"
    },
    "tags": []
   },
   "outputs": [],
   "source": []
  },
  {
   "cell_type": "code",
   "execution_count": null,
   "id": "f570619a",
   "metadata": {
    "execution": {
     "iopub.execute_input": "2023-12-05T11:35:13.308718Z",
     "iopub.status.busy": "2023-12-05T11:35:13.308118Z",
     "iopub.status.idle": "2023-12-05T11:35:13.317601Z",
     "shell.execute_reply": "2023-12-05T11:35:13.316366Z"
    },
    "papermill": {
     "duration": 0.073446,
     "end_time": "2023-12-05T11:35:13.319971",
     "exception": false,
     "start_time": "2023-12-05T11:35:13.246525",
     "status": "completed"
    },
    "tags": []
   },
   "outputs": [],
   "source": []
  },
  {
   "cell_type": "code",
   "execution_count": null,
   "id": "358a6beb",
   "metadata": {
    "execution": {
     "iopub.execute_input": "2023-12-05T11:35:13.461872Z",
     "iopub.status.busy": "2023-12-05T11:35:13.461350Z",
     "iopub.status.idle": "2023-12-05T11:35:13.474621Z",
     "shell.execute_reply": "2023-12-05T11:35:13.473385Z"
    },
    "papermill": {
     "duration": 0.089942,
     "end_time": "2023-12-05T11:35:13.477662",
     "exception": false,
     "start_time": "2023-12-05T11:35:13.387720",
     "status": "completed"
    },
    "tags": []
   },
   "outputs": [],
   "source": []
  },
  {
   "cell_type": "markdown",
   "id": "68a84d63",
   "metadata": {
    "papermill": {
     "duration": 0.059496,
     "end_time": "2023-12-05T11:35:13.598188",
     "exception": false,
     "start_time": "2023-12-05T11:35:13.538692",
     "status": "completed"
    },
    "tags": []
   },
   "source": []
  },
  {
   "cell_type": "code",
   "execution_count": 92,
   "id": "b996f707",
   "metadata": {
    "execution": {
     "iopub.execute_input": "2023-12-05T11:35:13.719753Z",
     "iopub.status.busy": "2023-12-05T11:35:13.719253Z",
     "iopub.status.idle": "2023-12-05T11:35:13.724847Z",
     "shell.execute_reply": "2023-12-05T11:35:13.723592Z"
    },
    "papermill": {
     "duration": 0.069302,
     "end_time": "2023-12-05T11:35:13.727247",
     "exception": false,
     "start_time": "2023-12-05T11:35:13.657945",
     "status": "completed"
    },
    "tags": []
   },
   "outputs": [],
   "source": []
  },
  {
   "cell_type": "code",
   "execution_count": null,
   "id": "8726b364",
   "metadata": {
    "execution": {
     "iopub.execute_input": "2023-12-05T11:35:13.850388Z",
     "iopub.status.busy": "2023-12-05T11:35:13.849848Z",
     "iopub.status.idle": "2023-12-05T11:35:13.855822Z",
     "shell.execute_reply": "2023-12-05T11:35:13.854503Z"
    },
    "papermill": {
     "duration": 0.071737,
     "end_time": "2023-12-05T11:35:13.858694",
     "exception": false,
     "start_time": "2023-12-05T11:35:13.786957",
     "status": "completed"
    },
    "tags": []
   },
   "outputs": [],
   "source": []
  },
  {
   "cell_type": "code",
   "execution_count": null,
   "id": "8d67e070",
   "metadata": {
    "execution": {
     "iopub.execute_input": "2023-12-05T11:35:13.983891Z",
     "iopub.status.busy": "2023-12-05T11:35:13.983372Z",
     "iopub.status.idle": "2023-12-05T11:35:14.023258Z",
     "shell.execute_reply": "2023-12-05T11:35:14.021941Z"
    },
    "papermill": {
     "duration": 0.105611,
     "end_time": "2023-12-05T11:35:14.026177",
     "exception": false,
     "start_time": "2023-12-05T11:35:13.920566",
     "status": "completed"
    },
    "tags": []
   },
   "outputs": [],
   "source": []
  },
  {
   "cell_type": "code",
   "execution_count": null,
   "id": "8511b0a2",
   "metadata": {
    "execution": {
     "iopub.execute_input": "2023-12-05T11:35:14.150432Z",
     "iopub.status.busy": "2023-12-05T11:35:14.149925Z",
     "iopub.status.idle": "2023-12-05T11:35:14.165935Z",
     "shell.execute_reply": "2023-12-05T11:35:14.164935Z"
    },
    "papermill": {
     "duration": 0.081852,
     "end_time": "2023-12-05T11:35:14.168634",
     "exception": false,
     "start_time": "2023-12-05T11:35:14.086782",
     "status": "completed"
    },
    "tags": []
   },
   "outputs": [],
   "source": []
  },
  {
   "cell_type": "code",
   "execution_count": null,
   "id": "cc5d9ef6",
   "metadata": {
    "execution": {
     "iopub.execute_input": "2023-12-05T11:35:14.292569Z",
     "iopub.status.busy": "2023-12-05T11:35:14.292025Z",
     "iopub.status.idle": "2023-12-05T11:35:14.298516Z",
     "shell.execute_reply": "2023-12-05T11:35:14.297209Z"
    },
    "papermill": {
     "duration": 0.071585,
     "end_time": "2023-12-05T11:35:14.301231",
     "exception": false,
     "start_time": "2023-12-05T11:35:14.229646",
     "status": "completed"
    },
    "tags": []
   },
   "outputs": [],
   "source": []
  },
  {
   "cell_type": "code",
   "execution_count": null,
   "id": "5ae29103",
   "metadata": {
    "execution": {
     "iopub.execute_input": "2023-12-05T11:35:14.428507Z",
     "iopub.status.busy": "2023-12-05T11:35:14.427686Z",
     "iopub.status.idle": "2023-12-05T11:35:14.442241Z",
     "shell.execute_reply": "2023-12-05T11:35:14.440936Z"
    },
    "papermill": {
     "duration": 0.080289,
     "end_time": "2023-12-05T11:35:14.444901",
     "exception": false,
     "start_time": "2023-12-05T11:35:14.364612",
     "status": "completed"
    },
    "tags": []
   },
   "outputs": [],
   "source": []
  },
  {
   "cell_type": "code",
   "execution_count": null,
   "id": "f0af95cc",
   "metadata": {
    "execution": {
     "iopub.execute_input": "2023-12-05T11:35:14.571906Z",
     "iopub.status.busy": "2023-12-05T11:35:14.571410Z",
     "iopub.status.idle": "2023-12-05T11:35:14.584385Z",
     "shell.execute_reply": "2023-12-05T11:35:14.583166Z"
    },
    "papermill": {
     "duration": 0.078746,
     "end_time": "2023-12-05T11:35:14.586921",
     "exception": false,
     "start_time": "2023-12-05T11:35:14.508175",
     "status": "completed"
    },
    "tags": []
   },
   "outputs": [],
   "source": []
  },
  {
   "cell_type": "markdown",
   "id": "e110caa3",
   "metadata": {
    "papermill": {
     "duration": 0.06072,
     "end_time": "2023-12-05T11:35:14.709202",
     "exception": false,
     "start_time": "2023-12-05T11:35:14.648482",
     "status": "completed"
    },
    "tags": []
   },
   "source": []
  },
  {
   "cell_type": "code",
   "execution_count": 99,
   "id": "2fab6923",
   "metadata": {
    "execution": {
     "iopub.execute_input": "2023-12-05T11:35:14.834045Z",
     "iopub.status.busy": "2023-12-05T11:35:14.833514Z",
     "iopub.status.idle": "2023-12-05T11:35:14.839701Z",
     "shell.execute_reply": "2023-12-05T11:35:14.838433Z"
    },
    "papermill": {
     "duration": 0.072885,
     "end_time": "2023-12-05T11:35:14.842261",
     "exception": false,
     "start_time": "2023-12-05T11:35:14.769376",
     "status": "completed"
    },
    "tags": []
   },
   "outputs": [],
   "source": []
  },
  {
   "cell_type": "code",
   "execution_count": null,
   "id": "783344e5",
   "metadata": {
    "execution": {
     "iopub.execute_input": "2023-12-05T11:35:14.984393Z",
     "iopub.status.busy": "2023-12-05T11:35:14.983843Z",
     "iopub.status.idle": "2023-12-05T11:35:15.071573Z",
     "shell.execute_reply": "2023-12-05T11:35:15.070108Z"
    },
    "papermill": {
     "duration": 0.154955,
     "end_time": "2023-12-05T11:35:15.074965",
     "exception": false,
     "start_time": "2023-12-05T11:35:14.920010",
     "status": "completed"
    },
    "tags": []
   },
   "outputs": [],
   "source": []
  },
  {
   "cell_type": "code",
   "execution_count": null,
   "id": "1583a58b",
   "metadata": {
    "execution": {
     "iopub.execute_input": "2023-12-05T11:35:15.200729Z",
     "iopub.status.busy": "2023-12-05T11:35:15.199790Z",
     "iopub.status.idle": "2023-12-05T11:35:15.223597Z",
     "shell.execute_reply": "2023-12-05T11:35:15.216067Z"
    },
    "papermill": {
     "duration": 0.090738,
     "end_time": "2023-12-05T11:35:15.226963",
     "exception": false,
     "start_time": "2023-12-05T11:35:15.136225",
     "status": "completed"
    },
    "tags": []
   },
   "outputs": [],
   "source": []
  },
  {
   "cell_type": "code",
   "execution_count": null,
   "id": "eb25020f",
   "metadata": {
    "execution": {
     "iopub.execute_input": "2023-12-05T11:35:15.355366Z",
     "iopub.status.busy": "2023-12-05T11:35:15.354867Z",
     "iopub.status.idle": "2023-12-05T11:35:15.367271Z",
     "shell.execute_reply": "2023-12-05T11:35:15.365942Z"
    },
    "papermill": {
     "duration": 0.081542,
     "end_time": "2023-12-05T11:35:15.370438",
     "exception": false,
     "start_time": "2023-12-05T11:35:15.288896",
     "status": "completed"
    },
    "tags": []
   },
   "outputs": [],
   "source": []
  },
  {
   "cell_type": "code",
   "execution_count": null,
   "id": "7eedb3b1",
   "metadata": {
    "execution": {
     "iopub.execute_input": "2023-12-05T11:35:15.498239Z",
     "iopub.status.busy": "2023-12-05T11:35:15.497112Z",
     "iopub.status.idle": "2023-12-05T11:35:15.519516Z",
     "shell.execute_reply": "2023-12-05T11:35:15.518274Z"
    },
    "papermill": {
     "duration": 0.08913,
     "end_time": "2023-12-05T11:35:15.522742",
     "exception": false,
     "start_time": "2023-12-05T11:35:15.433612",
     "status": "completed"
    },
    "tags": []
   },
   "outputs": [],
   "source": []
  },
  {
   "cell_type": "code",
   "execution_count": 104,
   "id": "62b2057a",
   "metadata": {
    "execution": {
     "iopub.execute_input": "2023-12-05T11:35:15.650436Z",
     "iopub.status.busy": "2023-12-05T11:35:15.649167Z",
     "iopub.status.idle": "2023-12-05T11:35:15.655595Z",
     "shell.execute_reply": "2023-12-05T11:35:15.654630Z"
    },
    "papermill": {
     "duration": 0.073261,
     "end_time": "2023-12-05T11:35:15.658130",
     "exception": false,
     "start_time": "2023-12-05T11:35:15.584869",
     "status": "completed"
    },
    "tags": []
   },
   "outputs": [],
   "source": []
  },
  {
   "cell_type": "code",
   "execution_count": null,
   "id": "2f547420",
   "metadata": {
    "execution": {
     "iopub.execute_input": "2023-12-05T11:35:15.785736Z",
     "iopub.status.busy": "2023-12-05T11:35:15.784470Z",
     "iopub.status.idle": "2023-12-05T11:35:15.793103Z",
     "shell.execute_reply": "2023-12-05T11:35:15.791889Z"
    },
    "papermill": {
     "duration": 0.074357,
     "end_time": "2023-12-05T11:35:15.795836",
     "exception": false,
     "start_time": "2023-12-05T11:35:15.721479",
     "status": "completed"
    },
    "tags": []
   },
   "outputs": [],
   "source": []
  },
  {
   "cell_type": "code",
   "execution_count": 106,
   "id": "8f1d16e6",
   "metadata": {
    "execution": {
     "iopub.execute_input": "2023-12-05T11:35:15.922117Z",
     "iopub.status.busy": "2023-12-05T11:35:15.921624Z",
     "iopub.status.idle": "2023-12-05T11:35:15.946047Z",
     "shell.execute_reply": "2023-12-05T11:35:15.940119Z"
    },
    "papermill": {
     "duration": 0.090782,
     "end_time": "2023-12-05T11:35:15.949190",
     "exception": false,
     "start_time": "2023-12-05T11:35:15.858408",
     "status": "completed"
    },
    "tags": []
   },
   "outputs": [],
   "source": []
  },
  {
   "cell_type": "code",
   "execution_count": null,
   "id": "55d7e4fe",
   "metadata": {
    "execution": {
     "iopub.execute_input": "2023-12-05T11:35:16.177030Z",
     "iopub.status.busy": "2023-12-05T11:35:16.175780Z",
     "iopub.status.idle": "2023-12-05T11:35:16.184410Z",
     "shell.execute_reply": "2023-12-05T11:35:16.183078Z"
    },
    "papermill": {
     "duration": 0.173838,
     "end_time": "2023-12-05T11:35:16.186926",
     "exception": false,
     "start_time": "2023-12-05T11:35:16.013088",
     "status": "completed"
    },
    "tags": []
   },
   "outputs": [],
   "source": []
  },
  {
   "cell_type": "code",
   "execution_count": null,
   "id": "d177d7c3",
   "metadata": {
    "execution": {
     "iopub.execute_input": "2023-12-05T11:35:16.314740Z",
     "iopub.status.busy": "2023-12-05T11:35:16.314167Z",
     "iopub.status.idle": "2023-12-05T11:35:16.322403Z",
     "shell.execute_reply": "2023-12-05T11:35:16.321177Z"
    },
    "papermill": {
     "duration": 0.074405,
     "end_time": "2023-12-05T11:35:16.324688",
     "exception": false,
     "start_time": "2023-12-05T11:35:16.250283",
     "status": "completed"
    },
    "tags": []
   },
   "outputs": [],
   "source": []
  },
  {
   "cell_type": "code",
   "execution_count": 109,
   "id": "792ad3aa",
   "metadata": {
    "execution": {
     "iopub.execute_input": "2023-12-05T11:35:16.456585Z",
     "iopub.status.busy": "2023-12-05T11:35:16.455168Z",
     "iopub.status.idle": "2023-12-05T11:35:16.461783Z",
     "shell.execute_reply": "2023-12-05T11:35:16.460602Z"
    },
    "papermill": {
     "duration": 0.075714,
     "end_time": "2023-12-05T11:35:16.464604",
     "exception": false,
     "start_time": "2023-12-05T11:35:16.388890",
     "status": "completed"
    },
    "tags": []
   },
   "outputs": [],
   "source": []
  },
  {
   "cell_type": "code",
   "execution_count": 110,
   "id": "218f828d",
   "metadata": {
    "execution": {
     "iopub.execute_input": "2023-12-05T11:35:16.591577Z",
     "iopub.status.busy": "2023-12-05T11:35:16.591029Z",
     "iopub.status.idle": "2023-12-05T11:35:16.599217Z",
     "shell.execute_reply": "2023-12-05T11:35:16.597891Z"
    },
    "papermill": {
     "duration": 0.074117,
     "end_time": "2023-12-05T11:35:16.601681",
     "exception": false,
     "start_time": "2023-12-05T11:35:16.527564",
     "status": "completed"
    },
    "tags": []
   },
   "outputs": [],
   "source": []
  },
  {
   "cell_type": "code",
   "execution_count": null,
   "id": "9f751735",
   "metadata": {
    "execution": {
     "iopub.execute_input": "2023-12-05T11:35:16.731659Z",
     "iopub.status.busy": "2023-12-05T11:35:16.731007Z",
     "iopub.status.idle": "2023-12-05T11:35:16.745150Z",
     "shell.execute_reply": "2023-12-05T11:35:16.743775Z"
    },
    "papermill": {
     "duration": 0.082589,
     "end_time": "2023-12-05T11:35:16.747845",
     "exception": false,
     "start_time": "2023-12-05T11:35:16.665256",
     "status": "completed"
    },
    "tags": []
   },
   "outputs": [],
   "source": []
  },
  {
   "cell_type": "code",
   "execution_count": null,
   "id": "b80dffcc",
   "metadata": {
    "execution": {
     "iopub.execute_input": "2023-12-05T11:35:16.876309Z",
     "iopub.status.busy": "2023-12-05T11:35:16.875831Z",
     "iopub.status.idle": "2023-12-05T11:35:16.885594Z",
     "shell.execute_reply": "2023-12-05T11:35:16.884238Z"
    },
    "papermill": {
     "duration": 0.077266,
     "end_time": "2023-12-05T11:35:16.888389",
     "exception": false,
     "start_time": "2023-12-05T11:35:16.811123",
     "status": "completed"
    },
    "tags": []
   },
   "outputs": [],
   "source": []
  },
  {
   "cell_type": "code",
   "execution_count": null,
   "id": "a559d657",
   "metadata": {
    "papermill": {
     "duration": 0.089575,
     "end_time": "2023-12-05T11:35:17.063779",
     "exception": false,
     "start_time": "2023-12-05T11:35:16.974204",
     "status": "completed"
    },
    "tags": []
   },
   "outputs": [],
   "source": []
  }
 ],
 "metadata": {
  "kaggle": {
   "accelerator": "none",
   "dataSources": [
    {
     "databundleVersionId": 26502,
     "sourceId": 3136,
     "sourceType": "competition"
    }
   ],
   "dockerImageVersionId": 30587,
   "isGpuEnabled": false,
   "isInternetEnabled": true,
   "language": "python",
   "sourceType": "notebook"
  },
  "kernelspec": {
   "display_name": "Python 3 (ipykernel)",
   "language": "python",
   "name": "python3"
  },
  "language_info": {
   "codemirror_mode": {
    "name": "ipython",
    "version": 3
   },
   "file_extension": ".py",
   "mimetype": "text/x-python",
   "name": "python",
   "nbconvert_exporter": "python",
   "pygments_lexer": "ipython3",
   "version": "3.11.5"
  },
  "papermill": {
   "default_parameters": {},
   "duration": 33.310788,
   "end_time": "2023-12-05T11:35:18.156034",
   "environment_variables": {},
   "exception": null,
   "input_path": "__notebook__.ipynb",
   "output_path": "__notebook__.ipynb",
   "parameters": {},
   "start_time": "2023-12-05T11:34:44.845246",
   "version": "2.4.0"
  }
 },
 "nbformat": 4,
 "nbformat_minor": 5
}
